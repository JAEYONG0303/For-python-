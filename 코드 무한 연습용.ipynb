{
 "cells": [
  {
   "cell_type": "code",
   "execution_count": 2,
   "id": "059ec9a5",
   "metadata": {},
   "outputs": [
    {
     "name": "stdout",
     "output_type": "stream",
     "text": [
      "<class 'str'>\n",
      "123\n"
     ]
    }
   ],
   "source": [
    "# 내장함수 str()\n",
    "\n",
    "num1 = 123\n",
    "num1_s = str(num1)\n",
    "print(type(num1_s))\n",
    "print(num1_s)"
   ]
  },
  {
   "cell_type": "code",
   "execution_count": 3,
   "id": "60a33cb1",
   "metadata": {},
   "outputs": [
    {
     "name": "stdout",
     "output_type": "stream",
     "text": [
      "<class 'str'>\n",
      "123.45\n"
     ]
    }
   ],
   "source": [
    "# 실수를 문자열로 변환 -> 데이터 타입과 결과값 확인\n",
    "num2 = 123.45\n",
    "num2_s = str(num2)\n",
    "print(type(num2_s))\n",
    "print(num2_s)"
   ]
  },
  {
   "cell_type": "code",
   "execution_count": 6,
   "id": "61162d7f",
   "metadata": {},
   "outputs": [
    {
     "name": "stdout",
     "output_type": "stream",
     "text": [
      "<class 'str'>\n",
      "True\n"
     ]
    }
   ],
   "source": [
    "# 불리언을 문자열로 변환 -> 데이터 타입과 결과값 확인\n",
    "\n",
    "bool1 = True\n",
    "bool1_s = str(bool1)\n",
    "print(type(bool1_s))\n",
    "print(bool1_s)"
   ]
  },
  {
   "cell_type": "code",
   "execution_count": 1,
   "id": "22da98be",
   "metadata": {},
   "outputs": [
    {
     "name": "stdout",
     "output_type": "stream",
     "text": [
      "깃 허브 수정 연습\n"
     ]
    }
   ],
   "source": [
    "print(\"깃 허브 수정 연습\")"
   ]
  },
  {
   "cell_type": "code",
   "execution_count": 1,
   "id": "b043858c",
   "metadata": {},
   "outputs": [
    {
     "name": "stdout",
     "output_type": "stream",
     "text": [
      "*\n",
      "*\n",
      "*\n",
      "*\n",
      "*\n",
      "*\n",
      "*\n",
      "*\n",
      "*\n",
      "*\n"
     ]
    }
   ],
   "source": [
    "for i in range(0,10):\n",
    "    star = \"\"\n",
    "\n",
    "    for j in range(0, 10-i):\n",
    "        star = \"*\"\n",
    "\n",
    "    print(star)"
   ]
  },
  {
   "cell_type": "code",
   "execution_count": 1,
   "id": "cf5a2584",
   "metadata": {},
   "outputs": [],
   "source": [
    "# 클래스 연습코드\n",
    "\n",
    "class Zombie:\n",
    "    speed = None\n",
    "    hp = None\n",
    "    attack = None\n",
    "    defense = None\n",
    "    \n"
   ]
  },
  {
   "cell_type": "code",
   "execution_count": 2,
   "id": "5f24151b",
   "metadata": {},
   "outputs": [
    {
     "name": "stdout",
     "output_type": "stream",
     "text": [
      "speed: 70, hp: 100, attack: 25, defense 5\n"
     ]
    }
   ],
   "source": [
    "zb1 = Zombie()\n",
    "\n",
    "zb1.speed = 70\n",
    "zb1.hp = 100\n",
    "zb1.attack = 25\n",
    "zb1.defense = 5\n",
    "\n",
    "tpl = \"speed: {0}, hp: {1}, attack: {2}, defense {3}\"\n",
    "print(tpl.format(zb1.speed, zb1.hp, zb1.attack, zb1.defense))"
   ]
  },
  {
   "cell_type": "code",
   "execution_count": 3,
   "id": "ac33550c",
   "metadata": {},
   "outputs": [
    {
     "name": "stdout",
     "output_type": "stream",
     "text": [
      "speed: 70.5, hp: 105, attack: 29, defense 7\n"
     ]
    }
   ],
   "source": [
    "zb1.speed += 0.5 \n",
    "zb1.hp += 10\n",
    "zb1.attack += 4\n",
    "zb1.defense += 2\n",
    "\n",
    "zb1.hp -= 5\n",
    "\n",
    "tpl = \"speed: {0}, hp: {1}, attack: {2}, defense {3}\"\n",
    "print(tpl.format(zb1.speed, zb1.hp, zb1.attack, zb1.defense))"
   ]
  },
  {
   "cell_type": "code",
   "execution_count": 4,
   "id": "cb8b0567",
   "metadata": {},
   "outputs": [
    {
     "name": "stdout",
     "output_type": "stream",
     "text": [
      "speed: 70.5, hp: 105, attack: 29, defense 7\n",
      "speed: 10, hp: 100, attack: 20, defense 15\n"
     ]
    }
   ],
   "source": [
    "zb2 = Zombie()\n",
    "\n",
    "zb2.speed = 10\n",
    "zb2.hp = 100\n",
    "zb2.attack = 20\n",
    "zb2.defense = 15\n",
    "tpl = \"speed: {0}, hp: {1}, attack: {2}, defense {3}\"\n",
    "print(tpl.format(zb1.speed, zb1.hp, zb1.attack, zb1.defense))\n",
    "print(tpl.format(zb2.speed, zb2.hp, zb2.attack, zb2.defense))"
   ]
  },
  {
   "cell_type": "markdown",
   "id": "39c4a787",
   "metadata": {},
   "source": [
    "# 조건문\n",
    "## 저서를 통한 예시"
   ]
  },
  {
   "cell_type": "code",
   "execution_count": null,
   "id": "2e01a68a",
   "metadata": {},
   "outputs": [
    {
     "name": "stdout",
     "output_type": "stream",
     "text": [
      "입장료: 무료\n"
     ]
    }
   ],
   "source": [
    "# p. 116 예제(if~) \n",
    "\n",
    "age = int(input('나이를 입력하세요:'))\n",
    "pay ='3000원'\n",
    "\n",
    "if age>= 65 or age <7:     # age가 65이상 or age가 7미만 =>참이면, 7행 문장 실행\n",
    "    pay = '무료'\n",
    "\n",
    "print('입장료: %s'% pay)   # 6행 조건식이 True = '무료', Fale = '3000원'"
   ]
  },
  {
   "cell_type": "code",
   "execution_count": null,
   "id": "d1edd975",
   "metadata": {},
   "outputs": [
    {
     "name": "stdout",
     "output_type": "stream",
     "text": [
      "다시 입력하세요\n"
     ]
    }
   ],
   "source": [
    "# p. 118 예제(if~else~)\n",
    "answer = '12345'                           # answer에 값을 '할당'하였으므로 ''를 써서 문자열 처리\n",
    "password = input('비밀번호를 입력하세요')   # password에 input() 함수를 '할당'\n",
    "\n",
    "if password == answer:                    # if: password가 answer '할당'값과 같다면 --> == 사용\n",
    "    print('문이 열렸습니다')               # 문이 열립니다 출력\n",
    "else:                                     # else: 값과 다르다면 다시 입력하세요 출력\n",
    "    print('다시 입력하세요')"
   ]
  },
  {
   "cell_type": "code",
   "execution_count": 12,
   "id": "b4db4df8",
   "metadata": {},
   "outputs": [
    {
     "name": "stdout",
     "output_type": "stream",
     "text": [
      "성적: 30\n",
      "등급: d\n"
     ]
    }
   ],
   "source": [
    "# p.122 예제(if~elif~else)\n",
    "\n",
    "score = int(input('점수를 입력하세요:'))   # score에 int() 값을 '할당'\n",
    "                                           \n",
    "if score >= 90:                           # if: score가 90보다 크거나 같으면\n",
    "    grade ='A'                            # grade는 A로 할당\n",
    "elif score >= 80:                         # if: score가 80보다 크거나 같으면\n",
    "    grade ='B'                            # grade는 b로 할당\n",
    "elif score >= 70:                         # if: score가 70보다 크거나 같으면 \n",
    "    grade ='c'                            # grade는 c로 할당\n",
    "else:                                     # 나머지는\n",
    "    grade ='d'                            # d로 할당\n",
    "\n",
    "print('성적: %d' %score)                  # 성적을 출력\n",
    "print('등급: %s' %grade)                  # 등급을 출력"
   ]
  },
  {
   "cell_type": "code",
   "execution_count": null,
   "id": "d5f42537",
   "metadata": {},
   "outputs": [
    {
     "name": "stdout",
     "output_type": "stream",
     "text": [
      "5월은 봄.\n"
     ]
    }
   ],
   "source": [
    "# p.123 예제(if~elif~else)\n",
    "\n",
    "month = int(input('월을 입력하세요:'))        # month에 int()값을 '할당'\n",
    "\n",
    "if month >= 3 and month <= 5:                # if: month가 3 이상 5 이하 이면 \n",
    "    print('%d월은 봄.'%month)                # ~월은 봄, %d: 정수형 값을 받을 때 쓰인다.\n",
    "if month >= 6 and month <= 8:                # 위 내용 반복\n",
    "    print('%d월은 여름.'%month)\n",
    "if month >= 9 and month <= 11:\n",
    "    print('%d월은 가을.'%month)\n",
    "if month >= 12 or month == 1 or month ==2:\n",
    "    print('%d월은 겨울.'%month)\n",
    "\n",
    "    "
   ]
  },
  {
   "cell_type": "code",
   "execution_count": 16,
   "id": "d00f321d",
   "metadata": {},
   "outputs": [
    {
     "name": "stdout",
     "output_type": "stream",
     "text": [
      "일반실입니다.\n"
     ]
    }
   ],
   "source": [
    "# p.124 예제(if~)\n",
    "\n",
    "a = input('좌석 종류 입력(1:일반실, 2:특실):')\n",
    "\n",
    "seat1 ='일반실'\n",
    "seat2 ='특실'\n",
    "if a == '1':\n",
    "    print('%s입니다.'% seat1)\n",
    "if a == '2':\n",
    "    print('%s입니다.'% seat2)"
   ]
  },
  {
   "cell_type": "code",
   "execution_count": 18,
   "id": "38fc782f",
   "metadata": {},
   "outputs": [
    {
     "name": "stdout",
     "output_type": "stream",
     "text": [
      "34는 4의 배수도 5의 배수도 아니다.\n"
     ]
    }
   ],
   "source": [
    "# p.125 예제(if~)\n",
    "\n",
    "num = int(input('숫자를 입력하세요:'))\n",
    "result = '4의 배수도 5의 배수도 아니다.'\n",
    "\n",
    "if num % 4 == 0:\n",
    "    result ='4의 배수이다'\n",
    "if num % 5 == 0:\n",
    "    result ='5의 배수이다'\n",
    "if num % 4 == 0 and num % 5 ==0:\n",
    "    result = '4의 배수이면서 5의 배수이다.'\n",
    "\n",
    "print('%d는 %s'%(num, result))"
   ]
  },
  {
   "cell_type": "code",
   "execution_count": 19,
   "id": "fac6d643",
   "metadata": {},
   "outputs": [
    {
     "name": "stdout",
     "output_type": "stream",
     "text": [
      "w는 자음.\n"
     ]
    }
   ],
   "source": [
    "# p.126 예제(if~else~)\n",
    "\n",
    "char = input('영어 알파벳을 입력')\n",
    "\n",
    "char2 = char.upper()\n",
    "\n",
    "if char2 =='A' or char2 =='E' or char2 =='I' or char2 =='O' or char2 =='U':\n",
    "    print('%s는 모음.' %char)\n",
    "else:\n",
    "    print('%s는 자음.' %char)"
   ]
  },
  {
   "cell_type": "code",
   "execution_count": 22,
   "id": "93441ed4",
   "metadata": {},
   "outputs": [
    {
     "name": "stdout",
     "output_type": "stream",
     "text": [
      "------------------------------\n",
      "키: 175cm\n",
      "몸무게: 70kg\n",
      "보기 좋다\n",
      "------------------------------\n"
     ]
    }
   ],
   "source": [
    "# p.127 예제(if~else~)\n",
    "\n",
    "height = int(input('키를 입력:'))\n",
    "weight = int(input('몸무게를 입력'))\n",
    "\n",
    "a = (height - 100) * 0.9\n",
    "\n",
    "print('-'*30)\n",
    "print('키: %dcm' %height)\n",
    "print('몸무게: %dkg'%weight)\n",
    "\n",
    "if weight > 65:\n",
    "    print('보기 좋다')\n",
    "else: \n",
    "    print('표준(또는 마른) 체형')\n",
    "\n",
    "print('-' * 30)\n"
   ]
  },
  {
   "cell_type": "code",
   "execution_count": 25,
   "id": "d9df8044",
   "metadata": {},
   "outputs": [
    {
     "name": "stdout",
     "output_type": "stream",
     "text": [
      "구매가: 60000원\n",
      "할인율: 7.5원\n",
      "할인 금액: 4500원\n",
      "지불 금액: 55500원\n"
     ]
    }
   ],
   "source": [
    "# p.128 예제 (if~elif~else~)\n",
    "\n",
    "buy = int(input('물건 구매가를 입력해'))\n",
    "\n",
    "if buy >= 10000 and buy <50000:\n",
    "    rate = 5\n",
    "elif buy >= 50000 and buy <300000:\n",
    "    rate = 7.5\n",
    "elif buy >= 300000:\n",
    "    rate = 10\n",
    "else:\n",
    "    rate = 0\n",
    "\n",
    "discount = (buy * rate) / 100\n",
    "pay = buy - discount\n",
    "\n",
    "print('구매가: %.0f원' % buy)\n",
    "print('할인율: %.1f원' % rate)\n",
    "print('할인 금액: %.0f원' % discount)\n",
    "print('지불 금액: %.0f원' % pay)"
   ]
  },
  {
   "cell_type": "code",
   "execution_count": 29,
   "id": "daacc23f",
   "metadata": {},
   "outputs": [
    {
     "name": "stdout",
     "output_type": "stream",
     "text": [
      "입력된 세 수 34, 33, 27 중에서 가장 큰 수는 34 입니다\n"
     ]
    }
   ],
   "source": [
    "# p.129 예제(if~elif~else)\n",
    "\n",
    "num1 = int(input('첫 번째 정수를 입력하세요:'))\n",
    "num2 = int(input('두 번째 정수를 입력하세요:'))\n",
    "num3 = int(input('세 번째 정수를 입력하세요:'))\n",
    "\n",
    "if (num1>num2) and (num1>=num3):\n",
    "    largest = num1\n",
    "elif (num2>num1) and (num2>=num3):\n",
    "    largest = num2\n",
    "else:\n",
    "    largest = num3\n",
    "\n",
    "print('입력된 세 수 %d, %d, %d 중에서 가장 큰 수는 %d 입니다' % (num1, num2, num3, largest))"
   ]
  },
  {
   "cell_type": "code",
   "execution_count": 32,
   "id": "b2b696c8",
   "metadata": {},
   "outputs": [
    {
     "name": "stdout",
     "output_type": "stream",
     "text": [
      "서비스 만족도:\n",
      "1: 매우만족\n",
      "2: 만족\n",
      "3: 불만족\n",
      "\n",
      "서비스 만족도: 2, 팁:900원\n"
     ]
    }
   ],
   "source": [
    "# p.130 예제(if~elif~else)\n",
    "\n",
    "print('서비스 만족도:')\n",
    "print('1: 매우만족')\n",
    "print('2: 만족')\n",
    "print('3: 불만족')\n",
    "a = input('서비스 만족도를 입력해주세요(예: 1 또는 2 또는 3):')\n",
    "\n",
    "price = int(input('음식값을 입력해(예:8000):'))\n",
    "\n",
    "if a =='1':\n",
    "    tip = int(price*0.2)\n",
    "    service = '매우 만족'\n",
    "elif a =='2':\n",
    "    tip = int(price*0.1)\n",
    "    service = '만족'\n",
    "else:\n",
    "    tip =int(price*0.05)\n",
    "    service = '불만족'\n",
    "\n",
    "print()\n",
    "print('서비스 만족도: %s, 팁:%d원'%(a, tip))"
   ]
  },
  {
   "cell_type": "code",
   "execution_count": null,
   "id": "d1168a8f",
   "metadata": {},
   "outputs": [],
   "source": []
  }
 ],
 "metadata": {
  "kernelspec": {
   "display_name": "base",
   "language": "python",
   "name": "python3"
  },
  "language_info": {
   "codemirror_mode": {
    "name": "ipython",
    "version": 3
   },
   "file_extension": ".py",
   "mimetype": "text/x-python",
   "name": "python",
   "nbconvert_exporter": "python",
   "pygments_lexer": "ipython3",
   "version": "3.13.5"
  }
 },
 "nbformat": 4,
 "nbformat_minor": 5
}
