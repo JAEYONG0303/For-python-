{
 "cells": [
  {
   "cell_type": "code",
   "execution_count": 2,
   "id": "059ec9a5",
   "metadata": {},
   "outputs": [
    {
     "name": "stdout",
     "output_type": "stream",
     "text": [
      "<class 'str'>\n",
      "123\n"
     ]
    }
   ],
   "source": [
    "# 내장함수 str()\n",
    "\n",
    "num1 = 123\n",
    "num1_s = str(num1)\n",
    "print(type(num1_s))\n",
    "print(num1_s)"
   ]
  },
  {
   "cell_type": "code",
   "execution_count": 3,
   "id": "60a33cb1",
   "metadata": {},
   "outputs": [
    {
     "name": "stdout",
     "output_type": "stream",
     "text": [
      "<class 'str'>\n",
      "123.45\n"
     ]
    }
   ],
   "source": [
    "# 실수를 문자열로 변환 -> 데이터 타입과 결과값 확인\n",
    "num2 = 123.45\n",
    "num2_s = str(num2)\n",
    "print(type(num2_s))\n",
    "print(num2_s)"
   ]
  },
  {
   "cell_type": "code",
   "execution_count": 6,
   "id": "61162d7f",
   "metadata": {},
   "outputs": [
    {
     "name": "stdout",
     "output_type": "stream",
     "text": [
      "<class 'str'>\n",
      "True\n"
     ]
    }
   ],
   "source": [
    "# 불리언을 문자열로 변환 -> 데이터 타입과 결과값 확인\n",
    "\n",
    "bool1 = True\n",
    "bool1_s = str(bool1)\n",
    "print(type(bool1_s))\n",
    "print(bool1_s)"
   ]
  },
  {
   "cell_type": "code",
   "execution_count": 1,
   "id": "22da98be",
   "metadata": {},
   "outputs": [
    {
     "name": "stdout",
     "output_type": "stream",
     "text": [
      "깃 허브 수정 연습\n"
     ]
    }
   ],
   "source": [
    "print(\"깃 허브 수정 연습\")"
   ]
  },
  {
   "cell_type": "code",
   "execution_count": 1,
   "id": "b043858c",
   "metadata": {},
   "outputs": [
    {
     "name": "stdout",
     "output_type": "stream",
     "text": [
      "*\n",
      "*\n",
      "*\n",
      "*\n",
      "*\n",
      "*\n",
      "*\n",
      "*\n",
      "*\n",
      "*\n"
     ]
    }
   ],
   "source": [
    "for i in range(0,10):\n",
    "    star = \"\"\n",
    "\n",
    "    for j in range(0, 10-i):\n",
    "        star = \"*\"\n",
    "\n",
    "    print(star)"
   ]
  },
  {
   "cell_type": "code",
   "execution_count": 1,
   "id": "cf5a2584",
   "metadata": {},
   "outputs": [],
   "source": [
    "# 클래스 연습코드\n",
    "\n",
    "class Zombie:\n",
    "    speed = None\n",
    "    hp = None\n",
    "    attack = None\n",
    "    defense = None\n",
    "    \n"
   ]
  },
  {
   "cell_type": "code",
   "execution_count": 2,
   "id": "5f24151b",
   "metadata": {},
   "outputs": [
    {
     "name": "stdout",
     "output_type": "stream",
     "text": [
      "speed: 70, hp: 100, attack: 25, defense 5\n"
     ]
    }
   ],
   "source": [
    "zb1 = Zombie()\n",
    "\n",
    "zb1.speed = 70\n",
    "zb1.hp = 100\n",
    "zb1.attack = 25\n",
    "zb1.defense = 5\n",
    "\n",
    "tpl = \"speed: {0}, hp: {1}, attack: {2}, defense {3}\"\n",
    "print(tpl.format(zb1.speed, zb1.hp, zb1.attack, zb1.defense))"
   ]
  },
  {
   "cell_type": "code",
   "execution_count": 3,
   "id": "ac33550c",
   "metadata": {},
   "outputs": [
    {
     "name": "stdout",
     "output_type": "stream",
     "text": [
      "speed: 70.5, hp: 105, attack: 29, defense 7\n"
     ]
    }
   ],
   "source": [
    "zb1.speed += 0.5 \n",
    "zb1.hp += 10\n",
    "zb1.attack += 4\n",
    "zb1.defense += 2\n",
    "\n",
    "zb1.hp -= 5\n",
    "\n",
    "tpl = \"speed: {0}, hp: {1}, attack: {2}, defense {3}\"\n",
    "print(tpl.format(zb1.speed, zb1.hp, zb1.attack, zb1.defense))"
   ]
  },
  {
   "cell_type": "code",
   "execution_count": 4,
   "id": "cb8b0567",
   "metadata": {},
   "outputs": [
    {
     "name": "stdout",
     "output_type": "stream",
     "text": [
      "speed: 70.5, hp: 105, attack: 29, defense 7\n",
      "speed: 10, hp: 100, attack: 20, defense 15\n"
     ]
    }
   ],
   "source": [
    "zb2 = Zombie()\n",
    "\n",
    "zb2.speed = 10\n",
    "zb2.hp = 100\n",
    "zb2.attack = 20\n",
    "zb2.defense = 15\n",
    "tpl = \"speed: {0}, hp: {1}, attack: {2}, defense {3}\"\n",
    "print(tpl.format(zb1.speed, zb1.hp, zb1.attack, zb1.defense))\n",
    "print(tpl.format(zb2.speed, zb2.hp, zb2.attack, zb2.defense))"
   ]
  },
  {
   "cell_type": "markdown",
   "id": "39c4a787",
   "metadata": {},
   "source": [
    "# 조건문\n",
    "## 저서를 통한 예시"
   ]
  },
  {
   "cell_type": "code",
   "execution_count": null,
   "id": "2e01a68a",
   "metadata": {},
   "outputs": [
    {
     "name": "stdout",
     "output_type": "stream",
     "text": [
      "입장료: 무료\n"
     ]
    }
   ],
   "source": [
    "# p. 116 예제(if~) \n",
    "\n",
    "age = int(input('나이를 입력하세요:'))\n",
    "pay ='3000원'\n",
    "\n",
    "if age>= 65 or age <7:     # age가 65이상 or age가 7미만 =>참이면, 7행 문장 실행\n",
    "    pay = '무료'\n",
    "\n",
    "print('입장료: %s'% pay)   # 6행 조건식이 True = '무료', Fale = '3000원'"
   ]
  },
  {
   "cell_type": "code",
   "execution_count": null,
   "id": "d1edd975",
   "metadata": {},
   "outputs": [
    {
     "name": "stdout",
     "output_type": "stream",
     "text": [
      "다시 입력하세요\n"
     ]
    }
   ],
   "source": [
    "# p. 118 예제(if~else~)\n",
    "answer = '12345'                           # answer에 값을 '할당'하였으므로 ''를 써서 문자열 처리\n",
    "password = input('비밀번호를 입력하세요')   # password에 input() 함수를 '할당'\n",
    "\n",
    "if password == answer:                    # if: password가 answer '할당'값과 같다면 --> == 사용\n",
    "    print('문이 열렸습니다')               # 문이 열립니다 출력\n",
    "else:                                     # else: 값과 다르다면 다시 입력하세요 출력\n",
    "    print('다시 입력하세요')"
   ]
  },
  {
   "cell_type": "code",
   "execution_count": 12,
   "id": "b4db4df8",
   "metadata": {},
   "outputs": [
    {
     "name": "stdout",
     "output_type": "stream",
     "text": [
      "성적: 30\n",
      "등급: d\n"
     ]
    }
   ],
   "source": [
    "# p.122 예제(if~elif~else)\n",
    "\n",
    "score = int(input('점수를 입력하세요:'))   # score에 int() 값을 '할당'\n",
    "                                           \n",
    "if score >= 90:                           # if: score가 90보다 크거나 같으면\n",
    "    grade ='A'                            # grade는 A로 할당\n",
    "elif score >= 80:                         # if: score가 80보다 크거나 같으면\n",
    "    grade ='B'                            # grade는 b로 할당\n",
    "elif score >= 70:                         # if: score가 70보다 크거나 같으면 \n",
    "    grade ='c'                            # grade는 c로 할당\n",
    "else:                                     # 나머지는\n",
    "    grade ='d'                            # d로 할당\n",
    "\n",
    "print('성적: %d' %score)                  # 성적을 출력\n",
    "print('등급: %s' %grade)                  # 등급을 출력"
   ]
  },
  {
   "cell_type": "code",
   "execution_count": null,
   "id": "d5f42537",
   "metadata": {},
   "outputs": [
    {
     "name": "stdout",
     "output_type": "stream",
     "text": [
      "5월은 봄.\n"
     ]
    }
   ],
   "source": [
    "# p.123 예제(if~elif~else)\n",
    "\n",
    "month = int(input('월을 입력하세요:'))        # month에 int()값을 '할당'\n",
    "\n",
    "if month >= 3 and month <= 5:                # if: month가 3 이상 5 이하 이면 \n",
    "    print('%d월은 봄.'%month)                # ~월은 봄, %d: 정수형 값을 받을 때 쓰인다.\n",
    "if month >= 6 and month <= 8:                # 위 내용 반복\n",
    "    print('%d월은 여름.'%month)\n",
    "if month >= 9 and month <= 11:\n",
    "    print('%d월은 가을.'%month)\n",
    "if month >= 12 or month == 1 or month ==2:\n",
    "    print('%d월은 겨울.'%month)\n",
    "\n",
    "    "
   ]
  },
  {
   "cell_type": "code",
   "execution_count": null,
   "id": "d00f321d",
   "metadata": {},
   "outputs": [
    {
     "name": "stdout",
     "output_type": "stream",
     "text": [
      "일반실입니다.\n"
     ]
    }
   ],
   "source": [
    "# p.124 예제(if~)\n",
    "\n",
    "a = input('좌석 종류 입력(1:일반실, 2:특실):')   # a에 ( ) 값을 '할당'\n",
    " \n",
    "seat1 ='일반실'                                 # seat1에 일반실 값을 '할당'\n",
    "seat2 ='특실'                                   # seat2에 특실 값을 '할당'\n",
    "if a == '1':                                    # a가 1이랑 값이 똑같으면\n",
    "    print('%s입니다.'% seat1)                   # seat1에 할당된 값 일반실을 출력하라\n",
    "if a == '2':                                    # a가 2랑 값이 똑같으면\n",
    "    print('%s입니다.'% seat2)                   # seat2에 할당된 값 특실을 출력하라"
   ]
  },
  {
   "cell_type": "code",
   "execution_count": 2,
   "id": "38fc782f",
   "metadata": {},
   "outputs": [
    {
     "name": "stdout",
     "output_type": "stream",
     "text": [
      "678는 4의 배수도 5의 배수도 아니다.\n"
     ]
    }
   ],
   "source": [
    "# p.125 예제(if~)\n",
    "\n",
    "num = int(input('숫자를 입력하세요:'))         # num에 정수형 숫자를 입력하는 칸을 할당하라\n",
    "result = '4의 배수도 5의 배수도 아니다.'       # result에  ' '내용의 값을 할당하라\n",
    "\n",
    "if num % 4 == 0:                              # num값과 4를 나눴을 때, 나머지가 0이면\n",
    "    result ='4의 배수이다'                     # result에 ' '값을 할당하고\n",
    "if num % 5 == 0:                              # num값과 5를 나눴을 때 나머지가 0이면\n",
    "    result ='5의 배수이다'                     # result에 ' '값을 할당하라\n",
    "if num % 4 == 0 and num % 5 ==0:              # num값을 4와 5로 나눴을 때 둘 다 0이 나오면\n",
    "    result = '4의 배수이면서 5의 배수이다.'     # result에 ' ' 할당하라\n",
    "\n",
    "print('%d는 %s'%(num, result))"
   ]
  },
  {
   "cell_type": "code",
   "execution_count": null,
   "id": "fac6d643",
   "metadata": {},
   "outputs": [
    {
     "name": "stdout",
     "output_type": "stream",
     "text": [
      "a는 모음.\n"
     ]
    }
   ],
   "source": [
    "# p.126 예제(if~else~)\n",
    "\n",
    "char = input('영어 알파벳을 입력')                                               # char에 input( ) 값을 할당하라\n",
    "\n",
    "char2 = char.upper()                                                            #\n",
    "\n",
    "\n",
    "if char2 =='A' or char2 =='E' or char2 =='I' or char2 =='O' or char2 =='U':\n",
    "    print('%s는 모음.' %char)\n",
    "else:\n",
    "    print('%s는 자음.' %char)"
   ]
  },
  {
   "cell_type": "code",
   "execution_count": 22,
   "id": "93441ed4",
   "metadata": {},
   "outputs": [
    {
     "name": "stdout",
     "output_type": "stream",
     "text": [
      "------------------------------\n",
      "키: 175cm\n",
      "몸무게: 70kg\n",
      "보기 좋다\n",
      "------------------------------\n"
     ]
    }
   ],
   "source": [
    "# p.127 예제(if~else~)\n",
    "\n",
    "height = int(input('키를 입력:'))\n",
    "weight = int(input('몸무게를 입력'))\n",
    "\n",
    "a = (height - 100) * 0.9\n",
    "\n",
    "print('-'*30)\n",
    "print('키: %dcm' %height)\n",
    "print('몸무게: %dkg'%weight)\n",
    "\n",
    "if weight > 65:\n",
    "    print('보기 좋다')\n",
    "else: \n",
    "    print('표준(또는 마른) 체형')\n",
    "\n",
    "print('-' * 30)\n"
   ]
  },
  {
   "cell_type": "code",
   "execution_count": 25,
   "id": "d9df8044",
   "metadata": {},
   "outputs": [
    {
     "name": "stdout",
     "output_type": "stream",
     "text": [
      "구매가: 60000원\n",
      "할인율: 7.5원\n",
      "할인 금액: 4500원\n",
      "지불 금액: 55500원\n"
     ]
    }
   ],
   "source": [
    "# p.128 예제 (if~elif~else~)\n",
    "\n",
    "buy = int(input('물건 구매가를 입력해'))\n",
    "\n",
    "if buy >= 10000 and buy <50000:\n",
    "    rate = 5\n",
    "elif buy >= 50000 and buy <300000:\n",
    "    rate = 7.5\n",
    "elif buy >= 300000:\n",
    "    rate = 10\n",
    "else:\n",
    "    rate = 0\n",
    "\n",
    "discount = (buy * rate) / 100\n",
    "pay = buy - discount\n",
    "\n",
    "print('구매가: %.0f원' % buy)\n",
    "print('할인율: %.1f원' % rate)\n",
    "print('할인 금액: %.0f원' % discount)\n",
    "print('지불 금액: %.0f원' % pay)"
   ]
  },
  {
   "cell_type": "code",
   "execution_count": 29,
   "id": "daacc23f",
   "metadata": {},
   "outputs": [
    {
     "name": "stdout",
     "output_type": "stream",
     "text": [
      "입력된 세 수 34, 33, 27 중에서 가장 큰 수는 34 입니다\n"
     ]
    }
   ],
   "source": [
    "# p.129 예제(if~elif~else)\n",
    "\n",
    "num1 = int(input('첫 번째 정수를 입력하세요:'))\n",
    "num2 = int(input('두 번째 정수를 입력하세요:'))\n",
    "num3 = int(input('세 번째 정수를 입력하세요:'))\n",
    "\n",
    "if (num1>num2) and (num1>=num3):\n",
    "    largest = num1\n",
    "elif (num2>num1) and (num2>=num3):\n",
    "    largest = num2\n",
    "else:\n",
    "    largest = num3\n",
    "\n",
    "print('입력된 세 수 %d, %d, %d 중에서 가장 큰 수는 %d 입니다' % (num1, num2, num3, largest))"
   ]
  },
  {
   "cell_type": "code",
   "execution_count": null,
   "id": "b2b696c8",
   "metadata": {},
   "outputs": [
    {
     "name": "stdout",
     "output_type": "stream",
     "text": [
      "서비스 만족도:\n",
      "1: 매우만족\n",
      "2: 만족\n",
      "3: 불만족\n",
      "\n",
      "서비스 만족도: 2, 팁:900원\n"
     ]
    }
   ],
   "source": [
    "# p.130 예제(if~elif~else)\n",
    "\n",
    "print('서비스 만족도:')\n",
    "print('1: 매우만족')\n",
    "print('2: 만족')\n",
    "print('3: 불만족')\n",
    "a = input('서비스 만족도를 입력해주세요(예: 1 또는 2 또는 3):')\n",
    "\n",
    "price = int(input('음식값을 입력해(예:8000):'))\n",
    "\n",
    "if a =='1':\n",
    "    tip = int(price*0.2)\n",
    "    service = '매우 만족'\n",
    "elif a =='2':\n",
    "    tip = int(price*0.1)\n",
    "    service = '만족'\n",
    "else:\n",
    "    tip =int(price*0.05)\n",
    "    service = '불만족'\n",
    "\n",
    "print()\n",
    "print('서비스 만족도: %s, 팁:%d원'%(a, tip))"
   ]
  },
  {
   "cell_type": "markdown",
   "id": "912d9591",
   "metadata": {},
   "source": [
    "## for문 "
   ]
  },
  {
   "cell_type": "code",
   "execution_count": null,
   "id": "d1168a8f",
   "metadata": {},
   "outputs": [
    {
     "name": "stdout",
     "output_type": "stream",
     "text": [
      "i의 값: 1, 합계: 1\n",
      "i의 값: 2, 합계: 3\n",
      "i의 값: 3, 합계: 6\n",
      "i의 값: 4, 합계: 10\n",
      "i의 값: 5, 합계: 15\n",
      "i의 값: 6, 합계: 21\n",
      "i의 값: 7, 합계: 28\n",
      "i의 값: 8, 합계: 36\n",
      "i의 값: 9, 합계: 45\n",
      "i의 값: 10, 합계: 55\n",
      "i의 값: 11, 합계: 66\n",
      "i의 값: 12, 합계: 78\n",
      "i의 값: 13, 합계: 91\n"
     ]
    }
   ],
   "source": [
    "# p.140 예제\n",
    "answer = 0                                      # 합계 구하는 식이므로 0으로 초기화\n",
    "for i in range(1,14):                           # i는 1~13까지 반복한다\n",
    "    answer +=i                                  # 초기화한 answer값에 i를 누적\n",
    "    print('i의 값: %d, 합계: %d' % (i,answer))   # ( ) 와 같이 출력한다"
   ]
  },
  {
   "cell_type": "code",
   "execution_count": 12,
   "id": "bd6cd00e",
   "metadata": {},
   "outputs": [
    {
     "name": "stdout",
     "output_type": "stream",
     "text": [
      "0123456789\n",
      "12345678910\n",
      "2018161412108642\n"
     ]
    }
   ],
   "source": [
    "# p.142 예제\n",
    "\n",
    "for i in range(10):\n",
    "    print(i, end='')\n",
    "print()\n",
    "\n",
    "for i in range(1, 11):\n",
    "    print(i, end ='')\n",
    "print()\n",
    "\n",
    "for i in range(20, 0, -2):\n",
    "    print(i, end ='')\n",
    "print()"
   ]
  },
  {
   "cell_type": "code",
   "execution_count": 16,
   "id": "f4504909",
   "metadata": {},
   "outputs": [
    {
     "name": "stdout",
     "output_type": "stream",
     "text": [
      "369121518212427303336394245485154576063666972757881848790939699\n",
      " --------------------------------------------------\n",
      "1~100에서 3의 배수의 합계: 1683\n"
     ]
    }
   ],
   "source": [
    "# p.144 예제\n",
    "\n",
    "sum = 0\n",
    "for i in range(1, 101):\n",
    "    if i % 3 == 0:\n",
    "        print('%d'% i, end='')\n",
    "        sum += i\n",
    "print('\\n','-'* 50)\n",
    "print('1~100에서 3의 배수의 합계: %d' % sum)"
   ]
  },
  {
   "cell_type": "code",
   "execution_count": 18,
   "id": "e8043206",
   "metadata": {},
   "outputs": [
    {
     "name": "stdout",
     "output_type": "stream",
     "text": [
      "h\n",
      "e\n",
      "l\n",
      "l\n",
      "o\n"
     ]
    }
   ],
   "source": [
    "# p.146 예제\n",
    "\n",
    "word = input('영어 암거나 임력')\n",
    "\n",
    "for x in word:\n",
    "    print(x)"
   ]
  },
  {
   "cell_type": "code",
   "execution_count": 19,
   "id": "5cea0008",
   "metadata": {},
   "outputs": [
    {
     "name": "stdout",
     "output_type": "stream",
     "text": [
      "2 x 1 = 2\n",
      "2 x 2 = 4\n",
      "2 x 3 = 6\n",
      "2 x 4 = 8\n",
      "2 x 5 = 10\n",
      "2 x 6 = 12\n",
      "2 x 7 = 14\n",
      "2 x 8 = 16\n",
      "2 x 9 = 18\n",
      "2 x 10 = 20\n"
     ]
    }
   ],
   "source": [
    "# p.155 예제\n",
    "\n",
    "a = 2\n",
    "\n",
    "for b in range(1, 11):\n",
    "    c = a * b\n",
    "    print(a,'x', b,'=', c)"
   ]
  },
  {
   "cell_type": "code",
   "execution_count": 21,
   "id": "5cc6b762",
   "metadata": {},
   "outputs": [
    {
     "name": "stdout",
     "output_type": "stream",
     "text": [
      "--------------------------------------------------\n",
      "2 x 10 = 20\n",
      "2 x 10 = 20\n",
      "2 x 10 = 20\n",
      "2 x 10 = 20\n",
      "2 x 10 = 20\n",
      "2 x 10 = 20\n",
      "2 x 10 = 20\n",
      "2 x 10 = 20\n",
      "2 x 10 = 20\n",
      "2 x 10 = 20\n",
      "2 x 10 = 20\n",
      "2 x 10 = 20\n",
      "2 x 10 = 20\n",
      "2 x 10 = 20\n",
      "2 x 10 = 20\n",
      "2 x 10 = 20\n",
      "2 x 10 = 20\n",
      "2 x 10 = 20\n",
      "2 x 10 = 20\n",
      "2 x 10 = 20\n",
      "2 x 10 = 20\n",
      "2 x 10 = 20\n",
      "2 x 10 = 20\n",
      "2 x 10 = 20\n",
      "2 x 10 = 20\n",
      "2 x 10 = 20\n",
      "2 x 10 = 20\n",
      "2 x 10 = 20\n",
      "2 x 10 = 20\n",
      "2 x 10 = 20\n",
      "2 x 10 = 20\n",
      "2 x 10 = 20\n",
      "2 x 10 = 20\n",
      "2 x 10 = 20\n",
      "2 x 10 = 20\n",
      "2 x 10 = 20\n",
      "2 x 10 = 20\n",
      "2 x 10 = 20\n",
      "2 x 10 = 20\n",
      "2 x 10 = 20\n",
      "2 x 10 = 20\n",
      "2 x 10 = 20\n",
      "2 x 10 = 20\n",
      "2 x 10 = 20\n",
      "2 x 10 = 20\n",
      "2 x 10 = 20\n",
      "2 x 10 = 20\n",
      "2 x 10 = 20\n",
      "2 x 10 = 20\n",
      "2 x 10 = 20\n",
      "2 x 10 = 20\n",
      "2 x 10 = 20\n",
      "2 x 10 = 20\n",
      "2 x 10 = 20\n",
      "2 x 10 = 20\n",
      "2 x 10 = 20\n",
      "2 x 10 = 20\n",
      "2 x 10 = 20\n",
      "2 x 10 = 20\n",
      "2 x 10 = 20\n",
      "2 x 10 = 20\n",
      "2 x 10 = 20\n",
      "2 x 10 = 20\n",
      "2 x 10 = 20\n",
      "2 x 10 = 20\n",
      "2 x 10 = 20\n",
      "2 x 10 = 20\n",
      "2 x 10 = 20\n",
      "2 x 10 = 20\n",
      "2 x 10 = 20\n",
      "2 x 10 = 20\n",
      "2 x 10 = 20\n",
      "--------------\n"
     ]
    }
   ],
   "source": [
    "# 156 예제\n",
    "\n",
    "print('-' * 50)\n",
    "\n",
    "for i in range(2, 10):\n",
    "    for j in range(1, 10):\n",
    "        c = a * b\n",
    "        print(a, 'x', b, '=', c)\n",
    "print('--------------')"
   ]
  },
  {
   "cell_type": "code",
   "execution_count": 25,
   "id": "b8698656",
   "metadata": {},
   "outputs": [
    {
     "name": "stdout",
     "output_type": "stream",
     "text": [
      "*\n",
      "**\n",
      "***\n",
      "****\n",
      "*****\n",
      "******\n",
      "*******\n",
      "********\n",
      "*********\n",
      "**********\n"
     ]
    }
   ],
   "source": [
    "# p.158\n",
    "\n",
    "for i in range(1, 11):\n",
    "    star = ''\n",
    "    for j in range(1, i+1):\n",
    "        star += '*'\n",
    "    print(star)"
   ]
  },
  {
   "cell_type": "code",
   "execution_count": 27,
   "id": "c08273d2",
   "metadata": {},
   "outputs": [
    {
     "name": "stdout",
     "output_type": "stream",
     "text": [
      "*********\n",
      "********\n",
      "*******\n",
      "******\n",
      "*****\n",
      "****\n",
      "***\n",
      "**\n",
      "*\n",
      "\n"
     ]
    }
   ],
   "source": [
    "# p.159 예제\n",
    "\n",
    "for i in range(1, 11):\n",
    "    star = ''\n",
    "    for j in range(1, 11-i):\n",
    "        star +='*'\n",
    "    print(star)"
   ]
  },
  {
   "cell_type": "markdown",
   "id": "b917d9f5",
   "metadata": {},
   "source": [
    "### break 문"
   ]
  },
  {
   "cell_type": "code",
   "execution_count": 28,
   "id": "513066fa",
   "metadata": {},
   "outputs": [
    {
     "name": "stdout",
     "output_type": "stream",
     "text": [
      "1\n",
      "2\n",
      "3\n",
      "4\n",
      "5\n",
      "6\n",
      "7\n",
      "8\n",
      "9\n",
      "10\n"
     ]
    }
   ],
   "source": [
    "# break문으로 반복 루프 빠져나가기\n",
    "\n",
    "for i in range(1, 1001):\n",
    "    print(i)\n",
    "\n",
    "    if i == 10:\n",
    "        break"
   ]
  },
  {
   "cell_type": "markdown",
   "id": "960d3ec4",
   "metadata": {},
   "source": [
    "### 딕셔너리\n"
   ]
  },
  {
   "cell_type": "code",
   "execution_count": 30,
   "id": "68f4045e",
   "metadata": {},
   "outputs": [
    {
     "name": "stdout",
     "output_type": "stream",
     "text": [
      "{'갤럭시 노트8': 2017, '갤럭시 S9': 2018, '갤럭시 노트 10': 2019, '갤럭시 S20': 2020}\n",
      "갤럭시 노트8 ----> 2017\n",
      "갤럭시 S9 ----> 2018\n",
      "갤럭시 노트 10 ----> 2019\n",
      "갤럭시 S20 ----> 2020\n",
      "4\n"
     ]
    }
   ],
   "source": [
    "# for 문에서 딕셔너리 활용\n",
    "\n",
    "phones = {'갤럭시 노트8': 2017, '갤럭시 S9': 2018, '갤럭시 노트 10': 2019, '갤럭시 S20': 2020}\n",
    "print(phones)\n",
    "\n",
    "for key in phones:\n",
    "    print('%s ----> %s' % (key, phones[key]))\n",
    "\n",
    "print(len(phones))"
   ]
  },
  {
   "cell_type": "code",
   "execution_count": 38,
   "id": "0a4cbd3f",
   "metadata": {},
   "outputs": [
    {
     "name": "stdout",
     "output_type": "stream",
     "text": [
      "김예진: 90\n",
      "권재용: 92\n",
      "안승주: 100\n",
      "합계: 282, 평균: 94\n"
     ]
    }
   ],
   "source": [
    "# 딕셔너리로 성적 합계/평균 구하기\n",
    "\n",
    "scores = {'김예진': 90, '권재용': 92, '안승주': 100}\n",
    "\n",
    "sum = 0\n",
    "for key in scores:\n",
    "    sum += scores[key]\n",
    "\n",
    "    print('%s: %d' % (key, scores[key]))\n",
    "avg = sum /len(scores)\n",
    "print('합계: %d, 평균: %.f' % (sum,avg))"
   ]
  },
  {
   "cell_type": "code",
   "execution_count": null,
   "id": "8aab4164",
   "metadata": {},
   "outputs": [
    {
     "name": "stdout",
     "output_type": "stream",
     "text": [
      "접근 불가\n"
     ]
    }
   ],
   "source": [
    "# 딕셔너리로 정보 접근 제어하기\n",
    "\n",
    "ad = {'id':'admin', 'password':'11111'}\n",
    "\n",
    "in_id = input('아이디')\n",
    "in_password = input('비번')\n",
    "\n",
    "if(in_id == ad['id'] and in_password == ad['password']):\n",
    "    print('접근 가능')\n",
    "else:\n",
    "    print('접근 불가')"
   ]
  },
  {
   "cell_type": "code",
   "execution_count": 40,
   "id": "84357165",
   "metadata": {},
   "outputs": [
    {
     "name": "stdout",
     "output_type": "stream",
     "text": [
      "오답\n",
      "오답\n",
      "정답\n",
      "오답\n",
      "정답\n"
     ]
    }
   ],
   "source": [
    "# 딕셔너리로 영어 단어 퀴즈 만들기\n",
    "\n",
    "words = {'사과': 'apple', '컴퓨터':'computer', '학교':'school', '책상':'desk', \n",
    "'의자':'chair'}\n",
    "\n",
    "for key in words:\n",
    "    in_word = input('%s에 해당되는 영어 단어를 입력해주세요:'% key)\n",
    "\n",
    "    if in_word == words[key]:\n",
    "        print('정답')\n",
    "    else:\n",
    "        print('오답')"
   ]
  },
  {
   "cell_type": "code",
   "execution_count": null,
   "id": "75ddf29a",
   "metadata": {},
   "outputs": [
    {
     "name": "stdout",
     "output_type": "stream",
     "text": [
      "아이디: kim99,마일리지: 12000점\n",
      "아이디: lee66,마일리지: 11000점\n",
      "아이디: han55,마일리지: 3000점\n",
      "아이디: hong77,마일리지: 5000점\n",
      "아이디: hwang33,마일리지: 18000점\n"
     ]
    }
   ],
   "source": [
    "# p.218 예제\n",
    "\n",
    "a = {'kim99': '12000', 'lee66':'11000', 'han55':'3000', 'hong77':'5000', 'hwang33':'18000'}\n",
    "\n",
    "for key in a:\n",
    "    print('아이디: %s,마일리지: %s점' % (key, a[key]))\n",
    "    "
   ]
  },
  {
   "cell_type": "code",
   "execution_count": 48,
   "id": "aeba4aeb",
   "metadata": {},
   "outputs": [
    {
     "name": "stdout",
     "output_type": "stream",
     "text": [
      "{'kim99': '12000', 'lee66': '11000', 'han55': 5000, 'hong77': '5000', 'hwang33': '18000'}\n"
     ]
    }
   ],
   "source": [
    "a['han55'] = 5000\n",
    "print(a)"
   ]
  },
  {
   "cell_type": "code",
   "execution_count": null,
   "id": "94acb9f9",
   "metadata": {},
   "outputs": [
    {
     "name": "stdout",
     "output_type": "stream",
     "text": [
      "{'kim99': '12000', 'lee66': '11000', 'han55': 5000, 'hong77': '5000', 'hwang33': '18000', 'jang88': 7000}\n",
      "jang88님의 마일리지(7000점)이 추가 되었습니다\n"
     ]
    }
   ],
   "source": [
    "a['jang88'] = 7000\n",
    "print(a)\n",
    "print('jang88님의 마일리지(7000점)이 추가 되었습니다')"
   ]
  },
  {
   "cell_type": "markdown",
   "id": "152caf28",
   "metadata": {},
   "source": [
    "### for문 활용 리스트문"
   ]
  },
  {
   "cell_type": "code",
   "execution_count": 62,
   "id": "9dd4a1b8",
   "metadata": {},
   "outputs": [
    {
     "name": "stdout",
     "output_type": "stream",
     "text": [
      "총점:25\n"
     ]
    }
   ],
   "source": [
    "numbers = [3,5,7,2,8]\n",
    "answer = 0\n",
    "for i in numbers:\n",
    "    answer = answer + i\n",
    "print(\"총점:%d\"% answer)"
   ]
  },
  {
   "cell_type": "code",
   "execution_count": 88,
   "id": "f1927d4e",
   "metadata": {},
   "outputs": [
    {
     "name": "stdout",
     "output_type": "stream",
     "text": [
      "짝수만 출력: 4\n",
      "짝수만 출력: 10\n",
      "짝수만 출력: 16\n"
     ]
    }
   ],
   "source": [
    "numbers = [1,4,7,10,13,16]\n",
    "answer = []\n",
    "for i in numbers:\n",
    "    if i % 2 == 0:\n",
    "          print(\"짝수만 출력: %d\" % i)"
   ]
  },
  {
   "cell_type": "code",
   "execution_count": 92,
   "id": "6b73e1ea",
   "metadata": {},
   "outputs": [
    {
     "name": "stdout",
     "output_type": "stream",
     "text": [
      "총합: 435\n",
      "평균: 87\n"
     ]
    }
   ],
   "source": [
    "scores =[80, 70, 95, 100, 90]\n",
    "answer = 0\n",
    "for i in scores:\n",
    "    answer += i\n",
    "print(\"총합: %d\" % answer) \n",
    "avg =answer // len(scores)\n",
    "print(\"평균: %d\" % avg)   "
   ]
  },
  {
   "cell_type": "code",
   "execution_count": null,
   "id": "af30e506",
   "metadata": {},
   "outputs": [],
   "source": []
  },
  {
   "cell_type": "code",
   "execution_count": 103,
   "id": "62b27a8d",
   "metadata": {},
   "outputs": [
    {
     "name": "stdout",
     "output_type": "stream",
     "text": [
      "[3, 7, 10]\n"
     ]
    }
   ],
   "source": [
    "numbers = [3, -1, 7, 0, -5, 10]\n",
    "answer = []\n",
    "for i in numbers:\n",
    "    if i > 0:\n",
    "        answer.append(i)\n",
    "print(answer)  "
   ]
  },
  {
   "cell_type": "code",
   "execution_count": 107,
   "id": "bcb025c8",
   "metadata": {},
   "outputs": [
    {
     "name": "stdout",
     "output_type": "stream",
     "text": [
      "[5, 4, 6, 5]\n"
     ]
    }
   ],
   "source": [
    "words = [\"apple\", \"kiwi\", \"banana\", \"mango\"]\n",
    "answer = []\n",
    "for i in words:\n",
    "    answer.append(len(i))\n",
    "print(answer)"
   ]
  },
  {
   "cell_type": "code",
   "execution_count": 121,
   "id": "dc1e1ab7",
   "metadata": {},
   "outputs": [
    {
     "name": "stdout",
     "output_type": "stream",
     "text": [
      "10\n",
      "40\n"
     ]
    }
   ],
   "source": [
    "numbers = [10, 20, 30, 40, 50, 60]\n",
    "answer = 0\n",
    "for i in range(0,len(numbers),3):\n",
    "    print(numbers[i])"
   ]
  },
  {
   "cell_type": "markdown",
   "id": "c988bec6",
   "metadata": {},
   "source": [
    "### 다시보기"
   ]
  },
  {
   "cell_type": "code",
   "execution_count": 228,
   "id": "444804a0",
   "metadata": {},
   "outputs": [
    {
     "name": "stdout",
     "output_type": "stream",
     "text": [
      "최대값: 12\n",
      "최소값 12\n"
     ]
    }
   ],
   "source": [
    "numbers = [12, 7, 19, 3, 21 ,5]\n",
    "a = numbers[0]\n",
    "b = numbers[0]\n",
    "\n",
    "for i in numbers:\n",
    "    if i > a:\n",
    "        i = a\n",
    "    if i < b:\n",
    "        i = b\n",
    "\n",
    "print(\"최대값: %d\" % a)\n",
    "print(\"최소값 %d\" % b)\n",
    "    "
   ]
  },
  {
   "cell_type": "code",
   "execution_count": 143,
   "id": "99a66bcf",
   "metadata": {},
   "outputs": [
    {
     "name": "stdout",
     "output_type": "stream",
     "text": [
      "Bob의 점수: 90\n"
     ]
    }
   ],
   "source": [
    "#딕셔너리로 변환\n",
    "\n",
    "Test = {'Alice': 85, 'Bob': 90, 'Charlie': 78}\n",
    "key = input('이름 입력')\n",
    "print('%s의 점수: %d' % (key, Test[key]))"
   ]
  },
  {
   "cell_type": "code",
   "execution_count": 149,
   "id": "2b6ac008",
   "metadata": {},
   "outputs": [
    {
     "name": "stdout",
     "output_type": "stream",
     "text": [
      "{'Alice': 95, 'Bob': 90, 'Charlie': 78}\n"
     ]
    }
   ],
   "source": [
    "Test['Alice'] = 95\n",
    "print(Test)"
   ]
  },
  {
   "cell_type": "code",
   "execution_count": 154,
   "id": "9145b159",
   "metadata": {},
   "outputs": [
    {
     "name": "stdout",
     "output_type": "stream",
     "text": [
      "{'Alice': 95, 'Bob': 90, 'Charlie': 78, 'David': 90}\n"
     ]
    }
   ],
   "source": [
    "Test.update({'David': 90})\n",
    "print(Test)"
   ]
  },
  {
   "cell_type": "code",
   "execution_count": 197,
   "id": "11f5c8aa",
   "metadata": {},
   "outputs": [
    {
     "name": "stdout",
     "output_type": "stream",
     "text": [
      "학생 이름 : ['Alice', 'Bob', 'Charlie', 'David']\n"
     ]
    }
   ],
   "source": [
    "Keys = list(Test.keys())\n",
    "print('학생 이름 : %s' % Keys)"
   ]
  },
  {
   "cell_type": "code",
   "execution_count": 168,
   "id": "80cac711",
   "metadata": {},
   "outputs": [
    {
     "name": "stdout",
     "output_type": "stream",
     "text": [
      "점수: [95, 90, 78, 90]\n"
     ]
    }
   ],
   "source": [
    "Values = list(Test.values())\n",
    "print('점수:', Values)"
   ]
  },
  {
   "cell_type": "code",
   "execution_count": 185,
   "id": "0da2e74a",
   "metadata": {},
   "outputs": [
    {
     "name": "stdout",
     "output_type": "stream",
     "text": [
      "90\n"
     ]
    }
   ],
   "source": [
    "scores = {\"Alice\": 85, \"Bob\": 90, \"Charlie\": 78}\n",
    "\n",
    "key = input('학생 이름을 입력하세요')\n",
    "if key in scores:\n",
    "    print('%d' % scores[key])\n",
    "else:\n",
    "    print('학생없음')"
   ]
  },
  {
   "cell_type": "code",
   "execution_count": 188,
   "id": "3ef3255c",
   "metadata": {},
   "outputs": [
    {
     "name": "stdout",
     "output_type": "stream",
     "text": [
      "{'Alice': 95, 'Bob': 90, 'Charlie': 78}\n"
     ]
    }
   ],
   "source": [
    "scores['Alice'] = 95\n",
    "print(scores)"
   ]
  },
  {
   "cell_type": "code",
   "execution_count": 203,
   "id": "e9d5cbc7",
   "metadata": {},
   "outputs": [
    {
     "name": "stdout",
     "output_type": "stream",
     "text": [
      "학생이름: ['Alice', 'Bob', 'Charlie', 'david']\n",
      "점수: [95, 90, 78, 88]\n"
     ]
    }
   ],
   "source": [
    "scores.update({'david': 88})\n",
    "\n",
    "keys = list(scores.keys())\n",
    "print('학생이름: %s' % keys)\n",
    "values = list(scores.values())\n",
    "print('점수: %s' % values)"
   ]
  },
  {
   "cell_type": "code",
   "execution_count": 206,
   "id": "62816b2d",
   "metadata": {},
   "outputs": [
    {
     "name": "stdout",
     "output_type": "stream",
     "text": [
      "apple\n"
     ]
    }
   ],
   "source": [
    "words = {\"사과\": \"apple\", \"바나나\": \"banana\", \"포도\": \"grape\"}\n",
    "\n",
    "key = input('단어를 입력하세요:')\n",
    "if key in words:\n",
    "    print('%s' % words[key])\n",
    "else:\n",
    "    print('과일없음')"
   ]
  },
  {
   "cell_type": "code",
   "execution_count": 207,
   "id": "0ca6c5c9",
   "metadata": {},
   "outputs": [
    {
     "name": "stdout",
     "output_type": "stream",
     "text": [
      "{'사과': 1500, '바나나': 'banana', '포도': 'grape'}\n"
     ]
    }
   ],
   "source": [
    "words['사과'] = 1500\n",
    "print(words)"
   ]
  },
  {
   "cell_type": "code",
   "execution_count": 215,
   "id": "2f69811f",
   "metadata": {},
   "outputs": [
    {
     "name": "stdout",
     "output_type": "stream",
     "text": [
      "{'사과': 1000, '바나나': 2000, '포도': 3000, '딸기': 2500}\n",
      "과일 이름: ['사과', '바나나', '포도', '딸기']\n",
      " 가격: [1000, 2000, 3000, 2500]\n"
     ]
    }
   ],
   "source": [
    "fruits = {\"사과\": 1000, \"바나나\": 2000, \"포도\": 3000}\n",
    "fruits.update({'딸기': 2500})\n",
    "print(fruits)\n",
    "\n",
    "keys = list(fruits.keys())\n",
    "values = list(fruits.values())\n",
    "print('과일 이름: %s' % keys)\n",
    "print(' 가격: %s' % values)"
   ]
  },
  {
   "cell_type": "markdown",
   "id": "f6309cdb",
   "metadata": {},
   "source": [
    "### try~except 문"
   ]
  },
  {
   "cell_type": "code",
   "execution_count": 218,
   "id": "1ebb7dcc",
   "metadata": {},
   "outputs": [
    {
     "name": "stdout",
     "output_type": "stream",
     "text": [
      "숫자만 입력하세요 invalid literal for int() with base 10: ''\n",
      "명령 수행 끝\n"
     ]
    }
   ],
   "source": [
    "try:\n",
    "    x = int(input('숫자 입력:'))\n",
    "    y = 100 / x\n",
    "    print('결과는 %d입니다' % y)\n",
    "except ValueError as verr:\n",
    "    print('숫자만 입력하세요', verr)\n",
    "except ZeroDivisionError as zerr:\n",
    "    print('0으로 못 나눈다', zerr)\n",
    "except Exception as err:\n",
    "    print('미상의 에러가 발생', err)\n",
    "finally:\n",
    "    print('명령 수행 끝')"
   ]
  },
  {
   "cell_type": "code",
   "execution_count": 222,
   "id": "49969b86",
   "metadata": {},
   "outputs": [
    {
     "name": "stdout",
     "output_type": "stream",
     "text": [
      "결과는 20000\n",
      "명령 수행 끄읕~!\n"
     ]
    }
   ],
   "source": [
    "try:\n",
    "    x = float(input('숫자 입력:'))\n",
    "    y = 20000 / x\n",
    "    print('결과는 %d' % y)\n",
    "except Exception as err:\n",
    "    print('미상의 에러 발생', err)\n",
    "finally:\n",
    "    print('명령 수행 끄읕~!')"
   ]
  },
  {
   "cell_type": "code",
   "execution_count": 227,
   "id": "ea10cac6",
   "metadata": {},
   "outputs": [
    {
     "name": "stdout",
     "output_type": "stream",
     "text": [
      "미상의 에러 발생 'float' object cannot be interpreted as an integer\n",
      "계산 끝\n"
     ]
    }
   ],
   "source": [
    "a = [3, 2, 4,5, 67, 8, 1314]\n",
    "answer = 0\n",
    "\n",
    "try:\n",
    "    X = int(input('숫자를 입력하세요'))\n",
    "\n",
    "    for i in range(x):\n",
    "        mysum += a[i]\n",
    "\n",
    "except Exception as err:\n",
    "    print('미상의 에러 발생', err)\n",
    "finally:\n",
    "    print('계산 끝')"
   ]
  },
  {
   "cell_type": "code",
   "execution_count": null,
   "id": "a286aead",
   "metadata": {},
   "outputs": [],
   "source": []
  }
 ],
 "metadata": {
  "kernelspec": {
   "display_name": "base",
   "language": "python",
   "name": "python3"
  },
  "language_info": {
   "codemirror_mode": {
    "name": "ipython",
    "version": 3
   },
   "file_extension": ".py",
   "mimetype": "text/x-python",
   "name": "python",
   "nbconvert_exporter": "python",
   "pygments_lexer": "ipython3",
   "version": "3.13.5"
  }
 },
 "nbformat": 4,
 "nbformat_minor": 5
}
