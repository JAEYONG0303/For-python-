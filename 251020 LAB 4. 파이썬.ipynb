{
 "cells": [
  {
   "cell_type": "code",
   "execution_count": 3,
   "id": "efdb003a",
   "metadata": {},
   "outputs": [
    {
     "name": "stdout",
     "output_type": "stream",
     "text": [
      "0 번째 원소 봄\n",
      "1 번째 원소 여름\n",
      "2 번째 원소 가을\n",
      "3 번째 원소 겨울\n"
     ]
    }
   ],
   "source": [
    "seasons = [\"봄\", \"여름\", \"가을\", \"겨울\"]\n",
    "\n",
    "size = len(seasons)\n",
    "for i in range(0, size):\n",
    "    print(i, \"번째 원소\", seasons[i])"
   ]
  },
  {
   "cell_type": "code",
   "execution_count": 4,
   "id": "2b0fd578",
   "metadata": {},
   "outputs": [
    {
     "name": "stdout",
     "output_type": "stream",
     "text": [
      "python\n",
      "is\n",
      "good\n"
     ]
    }
   ],
   "source": [
    "msg = [\"python\", \"is\", \"good\"]\n",
    "\n",
    "for i in msg:\n",
    "    print(i)"
   ]
  },
  {
   "cell_type": "code",
   "execution_count": 7,
   "id": "6ea95e85",
   "metadata": {},
   "outputs": [
    {
     "name": "stdout",
     "output_type": "stream",
     "text": [
      "총합: 341 , 평균: 68\n"
     ]
    }
   ],
   "source": [
    "# 성적에 대한 총점과 평균 구하기\n",
    "score = [100, 54, 97, 34, 56]\n",
    "\n",
    "#총점을 저장할 변수\n",
    "total = 0\n",
    "\n",
    "for v in score:\n",
    "    # 총점은 각 원소를 누적해서 더한다.\n",
    "    total += v\n",
    "\n",
    "#평균은 총 합에서 원소의 수를 나눈다.\n",
    "# \"//\"는 나눗셈에서 정수부분 몫만 구한다(의미 없음 그냥 가독성 좋게 보일려고)\n",
    "avg = total //len(score)\n",
    "\n",
    "print(\"총합:\", total, \", 평균:\", avg)"
   ]
  },
  {
   "cell_type": "code",
   "execution_count": 9,
   "id": "51f7f1e9",
   "metadata": {},
   "outputs": [
    {
     "name": "stdout",
     "output_type": "stream",
     "text": [
      "0 도시 제천\n",
      "1 도시 광주\n",
      "2 도시 대구\n",
      "3 도시 부산\n",
      "4 도시 부평\n",
      "5 도시 부천\n"
     ]
    }
   ],
   "source": [
    "# i에는 리스트의 인덱스가 저장된다.\n",
    "# v에는 리스트의 값(원소)가 저장된다.\n",
    "# i, v는 단순 변수이고 개발자 편의에 따라 이름지을 수 있음.\n",
    "\n",
    "city=[\"제천\",\"광주\", \"대구\", \"부산\", \"부평\", '부천']\n",
    "\n",
    "for a, b in enumerate(city):\n",
    "    print(a, \"도시\", b)"
   ]
  },
  {
   "cell_type": "code",
   "execution_count": null,
   "id": "b063bc82",
   "metadata": {},
   "outputs": [
    {
     "name": "stdout",
     "output_type": "stream",
     "text": [
      "Life is too short\n",
      "you need python\n"
     ]
    }
   ],
   "source": [
    " # 쌍따옴표나 홑따옴표를 감싸야 한다.\n",
    "\n",
    "msg1 = \"Life is too short\"\n",
    "msg2 = \"you need python\"\n",
    "print(msg1)\n",
    "print(msg2)"
   ]
  },
  {
   "cell_type": "code",
   "execution_count": 16,
   "id": "3be724b5",
   "metadata": {},
   "outputs": [
    {
     "name": "stdout",
     "output_type": "stream",
     "text": [
      "python study\n"
     ]
    }
   ],
   "source": [
    "# 따옴표의 쌍이 다르게 지정된 경우 --> 에러\n",
    "msg3 = \"python study\"\n",
    "print(msg3)"
   ]
  },
  {
   "cell_type": "code",
   "execution_count": 17,
   "id": "1102af1a",
   "metadata": {},
   "outputs": [
    {
     "name": "stdout",
     "output_type": "stream",
     "text": [
      "20000100\n"
     ]
    }
   ],
   "source": [
    "#문자열의 덧셈\n",
    "\n",
    "pay = \"20000\"\n",
    "bonus = \"100\"\n",
    "print(pay + bonus)"
   ]
  },
  {
   "cell_type": "code",
   "execution_count": 19,
   "id": "8c4f2622",
   "metadata": {},
   "outputs": [
    {
     "name": "stdout",
     "output_type": "stream",
     "text": [
      "HAHA,Python\n"
     ]
    }
   ],
   "source": [
    "msg1 = \"HAHA\"\n",
    "msg2 = \"Python\"\n",
    "print(msg1+\",\"+msg2)"
   ]
  },
  {
   "cell_type": "code",
   "execution_count": 20,
   "id": "5d4e84ea",
   "metadata": {},
   "outputs": [
    {
     "name": "stdout",
     "output_type": "stream",
     "text": [
      "pythonpythonpythonpythonpythonpythonpythonpythonpythonpython\n"
     ]
    }
   ],
   "source": [
    "# 문자열 곱셈\n",
    "\n",
    "name = \"python\"\n",
    "print(name * 10)"
   ]
  },
  {
   "cell_type": "code",
   "execution_count": 23,
   "id": "f938b5ae",
   "metadata": {},
   "outputs": [
    {
     "name": "stdout",
     "output_type": "stream",
     "text": [
      "hello\"python\" world\n"
     ]
    }
   ],
   "source": [
    "# 이스케이프 문자\n",
    "\n",
    "message = \"hello\\\"python\\\" world\"\n",
    "print(message)"
   ]
  },
  {
   "cell_type": "code",
   "execution_count": 24,
   "id": "a4913b97",
   "metadata": {},
   "outputs": [
    {
     "name": "stdout",
     "output_type": "stream",
     "text": [
      "life is \"too \" short\n"
     ]
    }
   ],
   "source": [
    "# 쌍따옴표 안에 쌍다옴표 넣기 -> 이스케이프 문자 사용\n",
    "case1 = \"life is \\\"too \\\" short\"\n",
    "print(case1)"
   ]
  },
  {
   "cell_type": "code",
   "execution_count": 29,
   "id": "b0f2c487",
   "metadata": {},
   "outputs": [
    {
     "name": "stdout",
     "output_type": "stream",
     "text": [
      "life is'too' short\n"
     ]
    }
   ],
   "source": [
    "#홑따옴표 안에 홑따옴표 넣기 ->이스케이프 문자 사용\n",
    "i = 'life is\\'too\\' short'\n",
    "print(i)"
   ]
  },
  {
   "cell_type": "code",
   "execution_count": 31,
   "id": "4b7013d3",
   "metadata": {},
   "outputs": [
    {
     "name": "stdout",
     "output_type": "stream",
     "text": [
      "life is 'too'\n",
      "short\n"
     ]
    }
   ],
   "source": [
    "# 줄바꿈\n",
    "\n",
    "print('life is \\'too\\'\\nshort')"
   ]
  },
  {
   "cell_type": "code",
   "execution_count": 32,
   "id": "17a63b11",
   "metadata": {},
   "outputs": [
    {
     "name": "stdout",
     "output_type": "stream",
     "text": [
      "life is too short\t you need python\n"
     ]
    }
   ],
   "source": [
    "# 탭키\n",
    "print(\"life is too short\\t you need python\")"
   ]
  },
  {
   "cell_type": "code",
   "execution_count": 35,
   "id": "8514bb7a",
   "metadata": {},
   "outputs": [
    {
     "name": "stdout",
     "output_type": "stream",
     "text": [
      "life is too short\\ you need python\n"
     ]
    }
   ],
   "source": [
    "# 순수한 역슬래시 출력\n",
    "print(\"life is too short\\\\ you need python\")"
   ]
  },
  {
   "cell_type": "markdown",
   "id": "ffe1374f",
   "metadata": {},
   "source": [
    "### 문자열 안에 따옴표 포함시키는 방법\n"
   ]
  },
  {
   "cell_type": "code",
   "execution_count": 37,
   "id": "6821234b",
   "metadata": {},
   "outputs": [
    {
     "name": "stdout",
     "output_type": "stream",
     "text": [
      "you 'need' python\n"
     ]
    }
   ],
   "source": [
    "# 문자열을 쌍따옴표로 표현하는 경우 -> 홑따옴표 포함 가능\n",
    "str1 = \"you 'need' python\"\n",
    "print(str1)"
   ]
  },
  {
   "cell_type": "code",
   "execution_count": 38,
   "id": "1637af19",
   "metadata": {},
   "outputs": [
    {
     "name": "stdout",
     "output_type": "stream",
     "text": [
      "You \"need\"Python\n"
     ]
    }
   ],
   "source": [
    "# 문자열을 홑따옴표로 표현하는 경우 -> 쌍따옴표 포함 가능\n",
    "str2 = 'You \"need\"Python'\n",
    "print(str2)"
   ]
  },
  {
   "cell_type": "markdown",
   "id": "ea362d12",
   "metadata": {},
   "source": [
    "### 문자열의 인덱스 번호"
   ]
  },
  {
   "cell_type": "code",
   "execution_count": 43,
   "id": "67663c98",
   "metadata": {},
   "outputs": [
    {
     "name": "stdout",
     "output_type": "stream",
     "text": [
      "g\n",
      "r\n"
     ]
    }
   ],
   "source": [
    "# 인덱스 번호 활용하여 특정 글자를 추출하는 처리\n",
    "\n",
    "mystr = \"Time goes on, Keep harder\"\n",
    "mystr\n",
    "\n",
    "#6번째 문자 추출 ->0부터 카운트\n",
    "print(mystr[5])\n",
    "\n",
    "#뒤에서 4번째 글자 추출\n",
    "print(mystr[-4])"
   ]
  },
  {
   "cell_type": "markdown",
   "id": "f3ca8292",
   "metadata": {},
   "source": [
    "### 문자열 슬라이싱"
   ]
  },
  {
   "cell_type": "code",
   "execution_count": 47,
   "id": "0fc554f6",
   "metadata": {},
   "outputs": [
    {
     "name": "stdout",
     "output_type": "stream",
     "text": [
      "ime\n"
     ]
    }
   ],
   "source": [
    "a = \"Time goes on, Keep harder\"\n",
    "\n",
    "print(a[1:4])"
   ]
  },
  {
   "cell_type": "code",
   "execution_count": 50,
   "id": "8b4f7d2f",
   "metadata": {},
   "outputs": [
    {
     "name": "stdout",
     "output_type": "stream",
     "text": [
      "harde\n"
     ]
    }
   ],
   "source": [
    "a = \"Time goes on, Keep harder\"\n",
    "print(a[-6:-1])"
   ]
  },
  {
   "cell_type": "code",
   "execution_count": 51,
   "id": "b54fa6ef",
   "metadata": {},
   "outputs": [
    {
     "name": "stdout",
     "output_type": "stream",
     "text": [
      "Time\n"
     ]
    }
   ],
   "source": [
    "a = \"Time goes on, Keep harder\"\n",
    "print(a[:4])"
   ]
  },
  {
   "cell_type": "code",
   "execution_count": 52,
   "id": "efc80e37",
   "metadata": {},
   "outputs": [
    {
     "name": "stdout",
     "output_type": "stream",
     "text": [
      "ime goes on, Keep harder\n"
     ]
    }
   ],
   "source": [
    "a = \"Time goes on, Keep harder\"\n",
    "print(a[1:])"
   ]
  },
  {
   "cell_type": "code",
   "execution_count": 53,
   "id": "873017a7",
   "metadata": {},
   "outputs": [
    {
     "name": "stdout",
     "output_type": "stream",
     "text": [
      "Time goes on, Keep harder\n"
     ]
    }
   ],
   "source": [
    "a = \"Time goes on, Keep harder\"\n",
    "print(a[:\n",
    "        ])"
   ]
  },
  {
   "cell_type": "markdown",
   "id": "f230b020",
   "metadata": {},
   "source": [
    "## # 문자열 포매팅\n",
    "### 문자열 포매팅과 형식문자"
   ]
  },
  {
   "cell_type": "code",
   "execution_count": null,
   "id": "b35f3c82",
   "metadata": {},
   "outputs": [
    {
     "name": "stdout",
     "output_type": "stream",
     "text": [
      "나는 20세 입니다.\n"
     ]
    }
   ],
   "source": [
    "# 기본 사용 방법\n",
    "\n",
    "str = \"나는 %d세 입니다.\"\n",
    "print( str % 20)"
   ]
  },
  {
   "cell_type": "code",
   "execution_count": 57,
   "id": "7b62f7c3",
   "metadata": {},
   "outputs": [
    {
     "name": "stdout",
     "output_type": "stream",
     "text": [
      "나는 20세 입니다.\n"
     ]
    }
   ],
   "source": [
    "print(\"나는 %d세 입니다.\" % 20)"
   ]
  },
  {
   "cell_type": "code",
   "execution_count": 58,
   "id": "1c9cbaa5",
   "metadata": {},
   "outputs": [
    {
     "name": "stdout",
     "output_type": "stream",
     "text": [
      "나는 4학년 2반 입니다.\n"
     ]
    }
   ],
   "source": [
    "print( \"나는 %d학년 %d반 입니다.\" % (4,2))"
   ]
  },
  {
   "cell_type": "code",
   "execution_count": 60,
   "id": "6d43c8c9",
   "metadata": {},
   "outputs": [
    {
     "name": "stdout",
     "output_type": "stream",
     "text": [
      "나는 100000원을 갖고 있다.\n"
     ]
    }
   ],
   "source": [
    "### 형식문자의 기본 사용\n",
    "str1 = \"나는 %d원을 갖고 있다.\" % 100000\n",
    "print(str1)"
   ]
  },
  {
   "cell_type": "code",
   "execution_count": 61,
   "id": "7b81a9d9",
   "metadata": {},
   "outputs": [
    {
     "name": "stdout",
     "output_type": "stream",
     "text": [
      "[1000.000000]원 입니다.\n"
     ]
    }
   ],
   "source": [
    "# 실수값 표현하기\n",
    "money = 1000.000000\n",
    "print(\"[%f]원 입니다.\" % money)"
   ]
  },
  {
   "cell_type": "code",
   "execution_count": 64,
   "id": "9fabcbe6",
   "metadata": {},
   "outputs": [
    {
     "name": "stdout",
     "output_type": "stream",
     "text": [
      "hello python\n"
     ]
    }
   ],
   "source": [
    "lang = \"python\"\n",
    "str2 = \"hello %s\" % lang\n",
    "print(str2)"
   ]
  },
  {
   "cell_type": "markdown",
   "id": "fee84277",
   "metadata": {},
   "source": [
    "### 두 개 이상의 형식문자 사용\n"
   ]
  },
  {
   "cell_type": "code",
   "execution_count": 66,
   "id": "2c5c49c2",
   "metadata": {},
   "outputs": [
    {
     "name": "stdout",
     "output_type": "stream",
     "text": [
      "정모 날짜는 2023년 1월 1일\n"
     ]
    }
   ],
   "source": [
    "# 형식문자를 포함한 문장만 별도의 변수로 지정\n",
    "\n",
    "str3 = \"%s 날짜는 %d년 %d월 %d일\"\n",
    "msg1 = str3 % (\"정모\", 2023, 1, 1)\n",
    "print(msg1)    "
   ]
  },
  {
   "cell_type": "markdown",
   "id": "4559fbad",
   "metadata": {},
   "source": [
    "### 정수 자릿수 표현"
   ]
  },
  {
   "cell_type": "code",
   "execution_count": 67,
   "id": "3a840fe3",
   "metadata": {},
   "outputs": [
    {
     "name": "stdout",
     "output_type": "stream",
     "text": [
      "[ 123213213]원을 송금\n"
     ]
    }
   ],
   "source": [
    "# 간단 예시\n",
    "\n",
    "print(\"[%10d]원을 송금\" % 123213213)"
   ]
  },
  {
   "cell_type": "code",
   "execution_count": 68,
   "id": "6a65e04b",
   "metadata": {},
   "outputs": [
    {
     "name": "stdout",
     "output_type": "stream",
     "text": [
      "[0123213213]원을 송금\n"
     ]
    }
   ],
   "source": [
    "print(\"[%010d]원을 송금\" % 123213213)"
   ]
  },
  {
   "cell_type": "markdown",
   "id": "899cd7f7",
   "metadata": {},
   "source": [
    "### 문자열 자릿수 표현"
   ]
  },
  {
   "cell_type": "code",
   "execution_count": 71,
   "id": "2393b265",
   "metadata": {},
   "outputs": [
    {
     "name": "stdout",
     "output_type": "stream",
     "text": [
      "[      아이티윌]원을 송금\n"
     ]
    }
   ],
   "source": [
    "# 문자열 자릿수 지정(빈자리는 공백만 가능)\n",
    "print(\"[%10s]원을 송금\" % '아이티윌')"
   ]
  },
  {
   "cell_type": "markdown",
   "id": "e3245ddb",
   "metadata": {},
   "source": [
    "### 실수 자릿수 표현"
   ]
  },
  {
   "cell_type": "code",
   "execution_count": 75,
   "id": "44b1f427",
   "metadata": {},
   "outputs": [
    {
     "name": "stdout",
     "output_type": "stream",
     "text": [
      "[10000.233]원 있습니다\n"
     ]
    }
   ],
   "source": [
    "moneyaccount = 10000.233455\n",
    "print(\"[%0.3f]원 있습니다\" % moneyaccount)"
   ]
  },
  {
   "cell_type": "code",
   "execution_count": null,
   "id": "4af2bea3",
   "metadata": {},
   "outputs": [
    {
     "name": "stdout",
     "output_type": "stream",
     "text": [
      "[ 10000.233]원 있습니다\n"
     ]
    }
   ],
   "source": [
    "moneyaccount = 10000.233455\n",
    "print(\"[%10.3f]원 있습니다\" % moneyaccount)"
   ]
  },
  {
   "cell_type": "code",
   "execution_count": 78,
   "id": "323946b5",
   "metadata": {},
   "outputs": [
    {
     "name": "stdout",
     "output_type": "stream",
     "text": [
      "[010000.233]원 있습니다\n"
     ]
    }
   ],
   "source": [
    "moneyaccount = 10000.233455\n",
    "print(\"[%010.3f]원 있습니다\" % moneyaccount)"
   ]
  },
  {
   "cell_type": "markdown",
   "id": "d624d49b",
   "metadata": {},
   "source": [
    "### 인덱스 번호를 사용한 문자열 포매팅"
   ]
  },
  {
   "cell_type": "code",
   "execution_count": 80,
   "id": "2c97f665",
   "metadata": {},
   "outputs": [
    {
     "name": "stdout",
     "output_type": "stream",
     "text": [
      "나는 55개의 사과를 먹었다\n"
     ]
    }
   ],
   "source": [
    "msg1 = \"나는 {0}개의 사과를 먹었다\"\n",
    "print(msg1.format(55))"
   ]
  },
  {
   "cell_type": "code",
   "execution_count": 82,
   "id": "9dd9343f",
   "metadata": {},
   "outputs": [
    {
     "name": "stdout",
     "output_type": "stream",
     "text": [
      "종강일은 2026년 3월 30일 이다\n"
     ]
    }
   ],
   "source": [
    "msg2 = \"{0}일은 {1}년 {2}월 {3}일 이다\"\n",
    "print(msg2.format(\"종강\", 2026, 3, 30))"
   ]
  },
  {
   "cell_type": "code",
   "execution_count": 84,
   "id": "04bc54d7",
   "metadata": {},
   "outputs": [
    {
     "name": "stdout",
     "output_type": "stream",
     "text": [
      "이 담배는 5000원입니다\n"
     ]
    }
   ],
   "source": [
    "a = '이 담배는 {q}{w}입니다'\n",
    "b = a.format(q =5000, w =\"원\")\n",
    "print(b)"
   ]
  },
  {
   "cell_type": "markdown",
   "id": "ef443b7e",
   "metadata": {},
   "source": [
    "## # 문자열 관련 함수\n"
   ]
  },
  {
   "cell_type": "code",
   "execution_count": 85,
   "id": "03806cbb",
   "metadata": {},
   "outputs": [],
   "source": [
    "# 문자열 길이 조회\n",
    "# len()"
   ]
  },
  {
   "cell_type": "code",
   "execution_count": 86,
   "id": "28cde3e8",
   "metadata": {},
   "outputs": [],
   "source": [
    "# 문자열 변환\n",
    "# str()"
   ]
  },
  {
   "cell_type": "code",
   "execution_count": 87,
   "id": "7537c53b",
   "metadata": {},
   "outputs": [],
   "source": [
    "# 문자열 안에 포함된 특정 단어나 글자 개수 세기\n",
    "# count()"
   ]
  },
  {
   "cell_type": "code",
   "execution_count": 88,
   "id": "76348915",
   "metadata": {},
   "outputs": [],
   "source": [
    "# 특정 글자나 단어가 처음 나타나는 위치 조회\n",
    "#find()\n"
   ]
  },
  {
   "cell_type": "code",
   "execution_count": 89,
   "id": "473d854d",
   "metadata": {},
   "outputs": [],
   "source": [
    "# 특정글자나 단어가 마지막으로 나타나는 위치 조회\n",
    "# rfind()"
   ]
  },
  {
   "cell_type": "code",
   "execution_count": 90,
   "id": "01bca95a",
   "metadata": {},
   "outputs": [],
   "source": [
    "# 대소문자 여부 검사\n",
    "# 문자열객체.isupper(), 문자열객체.islower()"
   ]
  },
  {
   "cell_type": "code",
   "execution_count": 91,
   "id": "232db8d5",
   "metadata": {},
   "outputs": [],
   "source": [
    "# 대소문자 변환\n",
    "# upper(), lower() "
   ]
  },
  {
   "cell_type": "code",
   "execution_count": 92,
   "id": "a05185be",
   "metadata": {},
   "outputs": [],
   "source": [
    "# 대소문자 변환 \n",
    "# swapcae(), capitalize(), title()"
   ]
  },
  {
   "cell_type": "code",
   "execution_count": 93,
   "id": "939b8e2e",
   "metadata": {},
   "outputs": [],
   "source": [
    "# 공백 지우기\n",
    "# 문자열객체.strip(), 문자열객체.Istrip(), 문자열객체.rstrip()"
   ]
  },
  {
   "cell_type": "code",
   "execution_count": 94,
   "id": "cd2691d2",
   "metadata": {},
   "outputs": [],
   "source": [
    "# 문자열 바꾸기\n",
    "# 문자열객체.replace(\"원본값\", \"변경할 값\")"
   ]
  },
  {
   "cell_type": "code",
   "execution_count": 95,
   "id": "ace9784e",
   "metadata": {},
   "outputs": [],
   "source": [
    "# 문자열 가르기\n",
    "# 문자열 객체.split(기본값)"
   ]
  },
  {
   "cell_type": "code",
   "execution_count": null,
   "id": "99b112e9",
   "metadata": {},
   "outputs": [],
   "source": [
    "# 숫자로만 구성된 문자열인지 검사\n",
    "# 문자열객체.isnumeric()"
   ]
  }
 ],
 "metadata": {
  "kernelspec": {
   "display_name": "Python 3",
   "language": "python",
   "name": "python3"
  },
  "language_info": {
   "codemirror_mode": {
    "name": "ipython",
    "version": 3
   },
   "file_extension": ".py",
   "mimetype": "text/x-python",
   "name": "python",
   "nbconvert_exporter": "python",
   "pygments_lexer": "ipython3",
   "version": "3.13.9"
  }
 },
 "nbformat": 4,
 "nbformat_minor": 5
}
