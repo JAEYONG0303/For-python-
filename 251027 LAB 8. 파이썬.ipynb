{
 "cells": [
  {
   "cell_type": "markdown",
   "id": "f1c47af2",
   "metadata": {},
   "source": [
    "# 메일링 리스트 데이터베이스 연동\n",
    "## 메일링 리스트 구현"
   ]
  },
  {
   "cell_type": "markdown",
   "id": "419c8015",
   "metadata": {},
   "source": [
    "### 메일 발송 준비"
   ]
  },
  {
   "cell_type": "code",
   "execution_count": 14,
   "id": "98420d8e",
   "metadata": {},
   "outputs": [],
   "source": [
    "# 모듈 참조\n",
    "from mylibrary import MyMailer\n",
    "import datetime as dt"
   ]
  },
  {
   "cell_type": "code",
   "execution_count": 15,
   "id": "596942bb",
   "metadata": {},
   "outputs": [
    {
     "name": "stdout",
     "output_type": "stream",
     "text": [
      "2025 10 27\n"
     ]
    }
   ],
   "source": [
    "# 날짜 성분값 초기화\n",
    "today = dt.datetime.now()\n",
    "year = today.year\n",
    "month = today.month\n",
    "day = today.day\n",
    "print(year, month, day)"
   ]
  },
  {
   "cell_type": "markdown",
   "id": "43bb8bb8",
   "metadata": {},
   "source": [
    "### 메일 발송 준비(2)"
   ]
  },
  {
   "cell_type": "code",
   "execution_count": 16,
   "id": "de8afa9c",
   "metadata": {},
   "outputs": [],
   "source": [
    "#메일 발신자 정보\n",
    "fromAddr = \"운영지원팀 <rnjswodyd1@gmail.com>\"\n",
    "subjectTmpl = \"{name}님의 {yy}년 {mm}월 급여명세서 입니다.\""
   ]
  },
  {
   "cell_type": "markdown",
   "id": "25ab8ce2",
   "metadata": {},
   "source": [
    "### 메일 발송 준비(3)"
   ]
  },
  {
   "cell_type": "code",
   "execution_count": 5,
   "id": "0ad59491",
   "metadata": {},
   "outputs": [
    {
     "name": "stdout",
     "output_type": "stream",
     "text": [
      "안녕하세요 {name}님\n",
      "\n",
      "{yy}년도 {mm}월 급여명세서와 결산보고서 보내드립니다.\n",
      "\n",
      "귀하의 노고에 감사드립니다.\n",
      "\n",
      "- {yy}년 {mm}월 {dd}일 / 운영지원팀 드림\n"
     ]
    }
   ],
   "source": [
    "# 메일 본문 가져오기\n",
    "with open('mail/content.txt', 'r', encoding = 'utf - 8') as f:\n",
    "    contentTmpl = f.read()\n",
    "    print(contentTmpl)"
   ]
  },
  {
   "cell_type": "markdown",
   "id": "f52ccc51",
   "metadata": {},
   "source": [
    "### 수신자 목록CSV에 대한 반복 처리\n"
   ]
  },
  {
   "cell_type": "code",
   "execution_count": 17,
   "id": "6d7540c8",
   "metadata": {},
   "outputs": [
    {
     "name": "stdout",
     "output_type": "stream",
     "text": [
      "document.pptx 가 첨부되었습니다\n",
      "pay1.xlsx 가 첨부되었습니다\n",
      "document.pptx 가 첨부되었습니다\n",
      "pay2.xlsx 가 첨부되었습니다\n",
      "document.pptx 가 첨부되었습니다\n",
      "pay3.xlsx 가 첨부되었습니다\n"
     ]
    }
   ],
   "source": [
    "with open(\"mail/mail_list.csv\", \"r\", encoding = \"euc-kr\") as f:\n",
    "    csv = f.readlines()\n",
    "\n",
    "    # CSV의 라인 수 만큼 반복\n",
    "    for line in csv:\n",
    "        name, email, file1, file2 = line.strip().split(\",\")\n",
    "        #print(name,email, file1, file2)\n",
    "\n",
    "        toAddr = \"{name} <{email}>\".format(name=name, email=email)\n",
    "        #print(toAddr)\n",
    "\n",
    "        # 메일 제목\n",
    "        subject = subjectTmpl.format(name=name, yy=year, mm=month)\n",
    "        #print(subject)\n",
    "\n",
    "        # 메일 내용\n",
    "        content = contentTmpl.format(name=name, yy=year, mm=month, dd=day)\n",
    "        #print(content)\n",
    "\n",
    "        # 메일 보내기\n",
    "        MyMailer.sendMail(fromAddr, toAddr, subject, content, [file1, file2])"
   ]
  },
  {
   "cell_type": "markdown",
   "id": "fe9496d2",
   "metadata": {},
   "source": [
    "### 필요한 패키지 참조하기"
   ]
  },
  {
   "cell_type": "code",
   "execution_count": 23,
   "id": "8b0d1159",
   "metadata": {},
   "outputs": [],
   "source": [
    "# 프로그램에 딜레이를 적용하는 기능을 제공하는 모듈\n",
    "import time\n",
    "\n",
    "# 날짜 처리 모듈\n",
    "import datetime as dt\n",
    "\n",
    "# 메일 발송 모듈\n",
    "from mylibrary import MyMailer\n",
    "\n",
    "# 비동기 처리 기능을 제공하는 모듈\n",
    "import concurrent.futures as futures"
   ]
  },
  {
   "cell_type": "markdown",
   "id": "740ca6f8",
   "metadata": {},
   "source": [
    "### 주어진 시간 동안 딜레이가 발생하는 함수 정의\n"
   ]
  },
  {
   "cell_type": "code",
   "execution_count": 21,
   "id": "f70fb39d",
   "metadata": {},
   "outputs": [],
   "source": [
    "# 다소 시간이 오래 걸리는 상황을 가정한 함수\n",
    "\n",
    "def timeWork(name, seconds):\n",
    "    print(\"[%s] 작업을 %d초 동안 수행\" % (name, seconds))\n",
    "\n",
    "    for i in range(0, seconds):\n",
    "        time.sleep(1)\n",
    "        print(\"[%s] %d초]\" % (name, i+1))\n",
    "\n",
    "    print(\"[%s] 작업이 종료되었음\" % name)\n"
   ]
  },
  {
   "cell_type": "markdown",
   "id": "62354510",
   "metadata": {},
   "source": [
    "### 동기식 함수 호출"
   ]
  },
  {
   "cell_type": "code",
   "execution_count": null,
   "id": "9c27f273",
   "metadata": {},
   "outputs": [
    {
     "name": "stdout",
     "output_type": "stream",
     "text": [
      "[A] 작업을 3초 동안 수행\n",
      "[A] 1초]\n",
      "[A] 2초]\n",
      "[A] 3초]\n",
      "[A] 작업이 종료되었음\n",
      "[B] 작업을 5초 동안 수행\n",
      "[B] 1초]\n",
      "[B] 2초]\n",
      "[B] 3초]\n",
      "[B] 4초]\n",
      "[B] 5초]\n",
      "[B] 작업이 종료되었음\n",
      "[C] 작업을 2초 동안 수행\n",
      "[C] 1초]\n",
      "[C] 2초]\n",
      "[C] 작업이 종료되었음\n",
      "작업에 소요된 시간은 총 10초 입니다\n"
     ]
    }
   ],
   "source": [
    "# 순차적으로 작업이 수행된다\n",
    "\n",
    "startTime = dt.datetime.now()\n",
    "\n",
    "timeWork(\"A\", 3)\n",
    "timeWork(\"B\", 5)\n",
    "timeWork(\"C\", 2)\n",
    "\n",
    "endtime = dt.datetime.now()\n",
    "workTime = endtime - startTime\n",
    "print(\"작업에 소요된 시간은 총 %s초 입니다\" % workTime.seconds)"
   ]
  },
  {
   "cell_type": "markdown",
   "id": "82c1e562",
   "metadata": {},
   "source": [
    "### 비동기식 함수 호출\n"
   ]
  },
  {
   "cell_type": "code",
   "execution_count": 28,
   "id": "215aaebf",
   "metadata": {},
   "outputs": [
    {
     "name": "stdout",
     "output_type": "stream",
     "text": [
      "[A] 작업을 3초 동안 수행\n",
      "[B] 작업을 5초 동안 수행\n",
      "[C] 작업을 2초 동안 수행\n",
      "[A] 1초]\n",
      "[B] 1초]\n",
      "[C] 1초]\n",
      "[B] 2초]\n",
      "[C] 2초]\n",
      "[C] 작업이 종료되었음\n",
      "[A] 2초]\n",
      "[B] 3초][A] 3초]\n",
      "[A] 작업이 종료되었음\n",
      "\n",
      "[B] 4초]\n",
      "[B] 5초]\n",
      "[B] 작업이 종료되었음\n",
      "작업에 소요된 시간은 총 274초 입니다.\n"
     ]
    }
   ],
   "source": [
    "# ThreadPollExecutor에 의한 비동기식 함수 호출\n",
    "\n",
    "starTime = dt.datetime.now()\n",
    "\n",
    "with futures.ThreadPoolExecutor(max_workers=3) as executor:\n",
    "    executor.submit(timeWork, \"A\", 3)\n",
    "    executor.submit(timeWork, \"B\", 5)\n",
    "    executor.submit(timeWork, \"C\", 2)\n",
    "\n",
    "endtime = dt.datetime.now()\n",
    "workTime = endtime - startTime\n",
    "print(\"작업에 소요된 시간은 총 %s초 입니다.\" % workTime.seconds)"
   ]
  },
  {
   "cell_type": "markdown",
   "id": "36474e83",
   "metadata": {},
   "source": [
    "### 메일 발송에 필요한 변수 초기화\n"
   ]
  },
  {
   "cell_type": "code",
   "execution_count": 29,
   "id": "30e69a36",
   "metadata": {},
   "outputs": [],
   "source": [
    "today = dt.datetime.now()\n",
    "year = today.year\n",
    "month = today.month\n",
    "day = today.day\n",
    "\n",
    "fromAddr = \"운영지원팀 <rnjswodyd1@gmail.com>\"\n",
    "subjectTmpl = \"{name}님의 {yy}년 {mm}월 급여명세서 입니다\"\n",
    "\n",
    "with open('mail/content.txt', 'r', encoding = 'utf - 8') as f:\n",
    "    contentTmpl = f.read()"
   ]
  },
  {
   "cell_type": "markdown",
   "id": "d18d8cce",
   "metadata": {},
   "source": [
    "### 동기식 메일 발송\n"
   ]
  },
  {
   "cell_type": "code",
   "execution_count": 31,
   "id": "1773a531",
   "metadata": {},
   "outputs": [
    {
     "name": "stdout",
     "output_type": "stream",
     "text": [
      "document.pptx 가 첨부되었습니다\n",
      "pay1.xlsx 가 첨부되었습니다\n",
      "document.pptx 가 첨부되었습니다\n",
      "pay2.xlsx 가 첨부되었습니다\n",
      "document.pptx 가 첨부되었습니다\n",
      "pay3.xlsx 가 첨부되었습니다\n",
      "작업에 소요된 시간은 총 86020초 입니다\n"
     ]
    }
   ],
   "source": [
    "startTime = dt.datetime.now()\n",
    "\n",
    "with open(\"mail/mail_list.csv\", \"r\", encoding = \"euc-kr\") as f:\n",
    "    csv = f.readlines()\n",
    "\n",
    "    for line in csv:\n",
    "        name, email, file1, file2 = line.strip().split(\",\")\n",
    "        #print(name,email, file1, file2)\n",
    "\n",
    "        toAddr = \"{name} <{email}>\".format(name=name, email=email)\n",
    "        #print(toAddr)\n",
    "\n",
    "        # 메일 제목\n",
    "        subject = subjectTmpl.format(name=name, yy=year, mm=month)\n",
    "        #print(subject)\n",
    "\n",
    "        # 메일 내용\n",
    "        content = contentTmpl.format(name=name, yy=year, mm=month, dd=day)\n",
    "        #print(content)\n",
    "\n",
    "        # 메일 보내기\n",
    "        MyMailer.sendMail(fromAddr, toAddr, subject, content, [file1, file2])\n",
    "\n",
    "endTime = dt.datetime.now()\n",
    "workTime = endtime - startTime\n",
    "print(\"작업에 소요된 시간은 총 %s초 입니다\" % workTime.seconds)"
   ]
  },
  {
   "cell_type": "markdown",
   "id": "5c23f426",
   "metadata": {},
   "source": [
    "### 비동기식 메일 발송\n"
   ]
  },
  {
   "cell_type": "code",
   "execution_count": 35,
   "id": "9759e22f",
   "metadata": {},
   "outputs": [
    {
     "name": "stdout",
     "output_type": "stream",
     "text": [
      "document.pptxdocument.pptx 가 첨부되었습니다\n",
      " 가 첨부되었습니다\n",
      "document.pptx 가 첨부되었습니다\n",
      "pay2.xlsx 가 첨부되었습니다\n",
      "pay1.xlsx 가 첨부되었습니다\n",
      "pay3.xlsx 가 첨부되었습니다\n",
      "작업에 소요된 시간은 총 4초 입니다\n"
     ]
    }
   ],
   "source": [
    "# 동시 메일 발송 처리\n",
    "\n",
    "startTime = dt.datetime.now()\n",
    "\n",
    "with open(\"mail/mail_list.csv\", \"r\", encoding = \"euc-kr\") as f:\n",
    "    csv = f.readlines()\n",
    "\n",
    "    with futures.ThreadPoolExecutor(max_workers=10) as executor:\n",
    "        for line in csv:\n",
    "            name, email, file1, file2 = line.strip().split(\",\")\n",
    "            #print(name,email, file1, file2)\n",
    "\n",
    "            toAddr = \"{name} <{email}>\".format(name=name, email=email)\n",
    "            #print(toAddr)\n",
    "\n",
    "            # 메일 제목\n",
    "            subject = subjectTmpl.format(name=name, yy=year, mm=month)\n",
    "            #print(subject)\n",
    "\n",
    "            # 메일 내용\n",
    "            content = contentTmpl.format(name=name, yy=year, mm=month, dd=day)\n",
    "            #print(content)\n",
    "\n",
    "            # 메일 보내기\n",
    "            # MyMailer.sendMail(fromAddr, toAddr, subject, content, [file1, file2])\n",
    "            executor.submit(MyMailer.sendMail, fromAddr, toAddr, subject, content, [file1, file2])\n",
    "\n",
    "endTime = dt.datetime.now()\n",
    "workTime = endTime - startTime\n",
    "print(\"작업에 소요된 시간은 총 %s초 입니다\" % workTime.seconds)"
   ]
  },
  {
   "cell_type": "code",
   "execution_count": null,
   "id": "a65bddc8",
   "metadata": {},
   "outputs": [],
   "source": []
  }
 ],
 "metadata": {
  "kernelspec": {
   "display_name": "base",
   "language": "python",
   "name": "python3"
  },
  "language_info": {
   "codemirror_mode": {
    "name": "ipython",
    "version": 3
   },
   "file_extension": ".py",
   "mimetype": "text/x-python",
   "name": "python",
   "nbconvert_exporter": "python",
   "pygments_lexer": "ipython3",
   "version": "3.13.5"
  }
 },
 "nbformat": 4,
 "nbformat_minor": 5
}
