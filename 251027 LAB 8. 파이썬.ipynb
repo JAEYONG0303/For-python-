{
 "cells": [
  {
   "cell_type": "markdown",
   "id": "f1c47af2",
   "metadata": {},
   "source": [
    "# 메일링 리스트 데이터베이스 연동\n",
    "## 메일링 리스트 구현"
   ]
  },
  {
   "cell_type": "markdown",
   "id": "419c8015",
   "metadata": {},
   "source": [
    "### 메일 발송 준비"
   ]
  },
  {
   "cell_type": "code",
   "execution_count": 14,
   "id": "98420d8e",
   "metadata": {},
   "outputs": [],
   "source": [
    "# 모듈 참조\n",
    "from mylibrary import MyMailer\n",
    "import datetime as dt"
   ]
  },
  {
   "cell_type": "code",
   "execution_count": 15,
   "id": "596942bb",
   "metadata": {},
   "outputs": [
    {
     "name": "stdout",
     "output_type": "stream",
     "text": [
      "2025 10 27\n"
     ]
    }
   ],
   "source": [
    "# 날짜 성분값 초기화\n",
    "today = dt.datetime.now()\n",
    "year = today.year\n",
    "month = today.month\n",
    "day = today.day\n",
    "print(year, month, day)"
   ]
  },
  {
   "cell_type": "markdown",
   "id": "43bb8bb8",
   "metadata": {},
   "source": [
    "### 메일 발송 준비(2)"
   ]
  },
  {
   "cell_type": "code",
   "execution_count": 16,
   "id": "de8afa9c",
   "metadata": {},
   "outputs": [],
   "source": [
    "#메일 발신자 정보\n",
    "fromAddr = \"운영지원팀 <rnjswodyd1@gmail.com>\"\n",
    "subjectTmpl = \"{name}님의 {yy}년 {mm}월 급여명세서 입니다.\""
   ]
  },
  {
   "cell_type": "markdown",
   "id": "25ab8ce2",
   "metadata": {},
   "source": [
    "### 메일 발송 준비(3)"
   ]
  },
  {
   "cell_type": "code",
   "execution_count": 5,
   "id": "0ad59491",
   "metadata": {},
   "outputs": [
    {
     "name": "stdout",
     "output_type": "stream",
     "text": [
      "안녕하세요 {name}님\n",
      "\n",
      "{yy}년도 {mm}월 급여명세서와 결산보고서 보내드립니다.\n",
      "\n",
      "귀하의 노고에 감사드립니다.\n",
      "\n",
      "- {yy}년 {mm}월 {dd}일 / 운영지원팀 드림\n"
     ]
    }
   ],
   "source": [
    "# 메일 본문 가져오기\n",
    "with open('mail/content.txt', 'r', encoding = 'utf - 8') as f:\n",
    "    contentTmpl = f.read()\n",
    "    print(contentTmpl)"
   ]
  },
  {
   "cell_type": "markdown",
   "id": "f52ccc51",
   "metadata": {},
   "source": [
    "### 수신자 목록CSV에 대한 반복 처리\n"
   ]
  },
  {
   "cell_type": "code",
   "execution_count": 17,
   "id": "6d7540c8",
   "metadata": {},
   "outputs": [
    {
     "name": "stdout",
     "output_type": "stream",
     "text": [
      "document.pptx 가 첨부되었습니다\n",
      "pay1.xlsx 가 첨부되었습니다\n",
      "document.pptx 가 첨부되었습니다\n",
      "pay2.xlsx 가 첨부되었습니다\n",
      "document.pptx 가 첨부되었습니다\n",
      "pay3.xlsx 가 첨부되었습니다\n"
     ]
    }
   ],
   "source": [
    "with open(\"mail/mail_list.csv\", \"r\", encoding = \"euc-kr\") as f:\n",
    "    csv = f.readlines()\n",
    "\n",
    "    # CSV의 라인 수 만큼 반복\n",
    "    for line in csv:\n",
    "        name, email, file1, file2 = line.strip().split(\",\")\n",
    "        #print(name,email, file1, file2)\n",
    "\n",
    "        toAddr = \"{name} <{email}>\".format(name=name, email=email)\n",
    "        #print(toAddr)\n",
    "\n",
    "        # 메일 제목\n",
    "        subject = subjectTmpl.format(name=name, yy=year, mm=month)\n",
    "        #print(subject)\n",
    "\n",
    "        # 메일 내용\n",
    "        content = contentTmpl.format(name=name, yy=year, mm=month, dd=day)\n",
    "        #print(content)\n",
    "\n",
    "        # 메일 보내기\n",
    "        MyMailer.sendMail(fromAddr, toAddr, subject, content, [file1, file2])"
   ]
  },
  {
   "cell_type": "markdown",
   "id": "fe9496d2",
   "metadata": {},
   "source": [
    "### 필요한 패키지 참조하기"
   ]
  },
  {
   "cell_type": "code",
   "execution_count": 23,
   "id": "8b0d1159",
   "metadata": {},
   "outputs": [],
   "source": [
    "# 프로그램에 딜레이를 적용하는 기능을 제공하는 모듈\n",
    "import time\n",
    "\n",
    "# 날짜 처리 모듈\n",
    "import datetime as dt\n",
    "\n",
    "# 메일 발송 모듈\n",
    "from mylibrary import MyMailer\n",
    "\n",
    "# 비동기 처리 기능을 제공하는 모듈\n",
    "import concurrent.futures as futures"
   ]
  },
  {
   "cell_type": "markdown",
   "id": "740ca6f8",
   "metadata": {},
   "source": [
    "### 주어진 시간 동안 딜레이가 발생하는 함수 정의\n"
   ]
  },
  {
   "cell_type": "code",
   "execution_count": 40,
   "id": "f70fb39d",
   "metadata": {},
   "outputs": [],
   "source": [
    "# 다소 시간이 오래 걸리는 상황을 가정한 함수\n",
    "\n",
    "def timeWork(name, seconds):\n",
    "    print(\"[%s] 작업을 %d초 동안 수행\" % (name, seconds))\n",
    "\n",
    "    for i in range(0, seconds):\n",
    "        time.sleep(1)\n",
    "        print(\"[%s] %d초]\" % (name, i+1))\n",
    "\n",
    "    print(\"[%s] 작업이 종료되었음\" % name)\n"
   ]
  },
  {
   "cell_type": "markdown",
   "id": "62354510",
   "metadata": {},
   "source": [
    "### 동기식 함수 호출"
   ]
  },
  {
   "cell_type": "code",
   "execution_count": null,
   "id": "9c27f273",
   "metadata": {},
   "outputs": [
    {
     "name": "stdout",
     "output_type": "stream",
     "text": [
      "[A] 작업을 3초 동안 수행\n",
      "[A] 1초]\n",
      "[A] 2초]\n",
      "[A] 3초]\n",
      "[A] 작업이 종료되었음\n",
      "[B] 작업을 5초 동안 수행\n",
      "[B] 1초]\n",
      "[B] 2초]\n",
      "[B] 3초]\n",
      "[B] 4초]\n",
      "[B] 5초]\n",
      "[B] 작업이 종료되었음\n",
      "[C] 작업을 2초 동안 수행\n",
      "[C] 1초]\n",
      "[C] 2초]\n",
      "[C] 작업이 종료되었음\n",
      "작업에 소요된 시간은 총 10초 입니다\n"
     ]
    }
   ],
   "source": [
    "# 순차적으로 작업이 수행된다\n",
    "\n",
    "startTime = dt.datetime.now()\n",
    "\n",
    "timeWork(\"A\", 3)\n",
    "timeWork(\"B\", 5)\n",
    "timeWork(\"C\", 2)\n",
    "\n",
    "endtime = dt.datetime.now()\n",
    "workTime = endtime - startTime\n",
    "print(\"작업에 소요된 시간은 총 %s초 입니다\" % workTime.seconds)"
   ]
  },
  {
   "cell_type": "markdown",
   "id": "82c1e562",
   "metadata": {},
   "source": [
    "### 비동기식 함수 호출\n"
   ]
  },
  {
   "cell_type": "code",
   "execution_count": null,
   "id": "215aaebf",
   "metadata": {},
   "outputs": [
    {
     "name": "stdout",
     "output_type": "stream",
     "text": [
      "[A] 작업을 3초 동안 수행\n",
      "[B] 작업을 5초 동안 수행\n",
      "[C] 작업을 2초 동안 수행\n",
      "[A] 1초][B] 1초]\n",
      "[C] 1초]\n",
      "\n",
      "[B] 2초]\n",
      "[A] 2초]\n",
      "[C] 2초]\n",
      "[C] 작업이 종료되었음\n",
      "[A] 3초][B] 3초]\n",
      "\n",
      "[A] 작업이 종료되었음\n",
      "[B] 4초]\n",
      "[B] 5초]\n",
      "[B] 작업이 종료되었음\n",
      "작업에 소요된 시간은 총 12초 입니다.\n"
     ]
    }
   ],
   "source": [
    "# ThreadPollExecutor에 의한 비동기식 함수 호출\n",
    "\n",
    "starTime = dt.datetime.now()\n",
    "\n",
    "with futures.ThreadPoolExecutor(max_workers=3) as executor:\n",
    "    executor.submit(timeWork, \"A\", 3)\n",
    "    executor.submit(timeWork, \"B\", 5)\n",
    "    executor.submit(timeWork, \"C\", 2)\n",
    "\n",
    "endTime = dt.datetime.now()\n",
    "workTime = endTime - startTime\n",
    "print(\"작업에 소요된 시간은 총 %s초 입니다.\" % workTime.seconds)"
   ]
  },
  {
   "cell_type": "markdown",
   "id": "36474e83",
   "metadata": {},
   "source": [
    "### 메일 발송에 필요한 변수 초기화\n"
   ]
  },
  {
   "cell_type": "code",
   "execution_count": 29,
   "id": "30e69a36",
   "metadata": {},
   "outputs": [],
   "source": [
    "today = dt.datetime.now()\n",
    "year = today.year\n",
    "month = today.month\n",
    "day = today.day\n",
    "\n",
    "fromAddr = \"운영지원팀 <rnjswodyd1@gmail.com>\"\n",
    "subjectTmpl = \"{name}님의 {yy}년 {mm}월 급여명세서 입니다\"\n",
    "\n",
    "with open('mail/content.txt', 'r', encoding = 'utf - 8') as f:\n",
    "    contentTmpl = f.read()"
   ]
  },
  {
   "cell_type": "markdown",
   "id": "d18d8cce",
   "metadata": {},
   "source": [
    "### 동기식 메일 발송\n"
   ]
  },
  {
   "cell_type": "code",
   "execution_count": 39,
   "id": "1773a531",
   "metadata": {},
   "outputs": [
    {
     "name": "stdout",
     "output_type": "stream",
     "text": [
      "document.pptx 가 첨부되었습니다\n",
      "pay1.xlsx 가 첨부되었습니다\n",
      "document.pptx 가 첨부되었습니다\n",
      "pay2.xlsx 가 첨부되었습니다\n",
      "document.pptx 가 첨부되었습니다\n",
      "pay3.xlsx 가 첨부되었습니다\n",
      "작업에 소요된 시간은 총 12초 입니다\n"
     ]
    }
   ],
   "source": [
    "startTime = dt.datetime.now()\n",
    "\n",
    "with open(\"mail/mail_list.csv\", \"r\", encoding = \"euc-kr\") as f:\n",
    "    csv = f.readlines()\n",
    "\n",
    "    for line in csv:\n",
    "        name, email, file1, file2 = line.strip().split(\",\")\n",
    "        #print(name,email, file1, file2)\n",
    "\n",
    "        toAddr = \"{name} <{email}>\".format(name=name, email=email)\n",
    "        #print(toAddr)\n",
    "\n",
    "        # 메일 제목\n",
    "        subject = subjectTmpl.format(name=name, yy=year, mm=month)\n",
    "        #print(subject)\n",
    "\n",
    "        # 메일 내용\n",
    "        content = contentTmpl.format(name=name, yy=year, mm=month, dd=day)\n",
    "        #print(content)\n",
    "\n",
    "        # 메일 보내기\n",
    "        MyMailer.sendMail(fromAddr, toAddr, subject, content, [file1, file2])\n",
    "\n",
    "endTime = dt.datetime.now()\n",
    "workTime = endTime - startTime\n",
    "print(\"작업에 소요된 시간은 총 %s초 입니다\" % workTime.seconds)"
   ]
  },
  {
   "cell_type": "markdown",
   "id": "5c23f426",
   "metadata": {},
   "source": [
    "### 비동기식 메일 발송\n"
   ]
  },
  {
   "cell_type": "code",
   "execution_count": 35,
   "id": "9759e22f",
   "metadata": {},
   "outputs": [
    {
     "name": "stdout",
     "output_type": "stream",
     "text": [
      "document.pptxdocument.pptx 가 첨부되었습니다\n",
      " 가 첨부되었습니다\n",
      "document.pptx 가 첨부되었습니다\n",
      "pay2.xlsx 가 첨부되었습니다\n",
      "pay1.xlsx 가 첨부되었습니다\n",
      "pay3.xlsx 가 첨부되었습니다\n",
      "작업에 소요된 시간은 총 4초 입니다\n"
     ]
    }
   ],
   "source": [
    "# 동시 메일 발송 처리\n",
    "\n",
    "startTime = dt.datetime.now()\n",
    "\n",
    "with open(\"mail/mail_list.csv\", \"r\", encoding = \"euc-kr\") as f:\n",
    "    csv = f.readlines()\n",
    "\n",
    "    with futures.ThreadPoolExecutor(max_workers=10) as executor:\n",
    "        for line in csv:\n",
    "            name, email, file1, file2 = line.strip().split(\",\")\n",
    "            #print(name,email, file1, file2)\n",
    "\n",
    "            toAddr = \"{name} <{email}>\".format(name=name, email=email)\n",
    "            #print(toAddr)\n",
    "\n",
    "            # 메일 제목\n",
    "            subject = subjectTmpl.format(name=name, yy=year, mm=month)\n",
    "            #print(subject)\n",
    "\n",
    "            # 메일 내용\n",
    "            content = contentTmpl.format(name=name, yy=year, mm=month, dd=day)\n",
    "            #print(content)\n",
    "\n",
    "            # 메일 보내기\n",
    "            # MyMailer.sendMail(fromAddr, toAddr, subject, content, [file1, file2])\n",
    "            executor.submit(MyMailer.sendMail, fromAddr, toAddr, subject, content, [file1, file2])\n",
    "\n",
    "endTime = dt.datetime.now()\n",
    "workTime = endTime - startTime\n",
    "print(\"작업에 소요된 시간은 총 %s초 입니다\" % workTime.seconds)"
   ]
  },
  {
   "cell_type": "markdown",
   "id": "a65bddc8",
   "metadata": {},
   "source": [
    "## 비동기리턴/예외처리"
   ]
  },
  {
   "cell_type": "code",
   "execution_count": 37,
   "id": "ab515830",
   "metadata": {},
   "outputs": [],
   "source": [
    "# 비동기 처리 과정에서 리턴값 받기\n",
    "# 꼭 기억하기\n",
    "\n",
    "def mywork(n):\n",
    "\n",
    "    processes = []\n",
    "    with futures.ThreadPoolExecutor(max_workers=3) as executor:\n",
    "        for n in range(10):\n",
    "            # 비동기 프로세스를 미리 준비한 리스트에 저장한다.\n",
    "            pro = executor.submit(mywork, n)\n",
    "            processes.append(pro)\n",
    "\n",
    "        for p in processes:\n",
    "            result = p.result()"
   ]
  },
  {
   "cell_type": "markdown",
   "id": "2941787d",
   "metadata": {},
   "source": [
    "### 비동기 처리에서의 결과값 리턴(1)\n"
   ]
  },
  {
   "cell_type": "code",
   "execution_count": 38,
   "id": "80d81ad9",
   "metadata": {},
   "outputs": [],
   "source": [
    "# 비동기 작업을 위한 함수 정의\n",
    "\n",
    "# 랜덤값을 생성하는 기능을 제공하는 모듈 참조\n",
    "import random\n",
    "\n",
    "def randomWork(name):\n",
    "    # 1~9 사이의 랜덤값을 생성\n",
    "    randomSecond = random.randrange(1,9)\n",
    "\n",
    "    print(\"[%s] 작업을 %d초 동안 수행합니다.\" %(name, randomSecond))\n",
    "\n",
    "    for i in range(0, randomSecond):\n",
    "        time.sleep(1)\n",
    "        print(\"[%s] 작업이 종료되었습니다.\" % name)\n",
    "\n",
    "        # 몇 초 동안 작업을 했는지 리턴\n",
    "        return randomSecond\n"
   ]
  },
  {
   "cell_type": "markdown",
   "id": "b9fb9691",
   "metadata": {},
   "source": [
    "### 비동기 처리에서의 결과값 리턴(2)\n"
   ]
  },
  {
   "cell_type": "code",
   "execution_count": 43,
   "id": "f541f006",
   "metadata": {},
   "outputs": [
    {
     "name": "stdout",
     "output_type": "stream",
     "text": [
      "[Lee] 작업을 2초 동안 수행합니다.\n",
      "[Kwon] 작업을 3초 동안 수행합니다.\n",
      "[Kim] 작업을 5초 동안 수행합니다.\n",
      "[Lee] 작업이 종료되었습니다.[Kwon] 작업이 종료되었습니다.\n",
      "[Park] 작업을 4초 동안 수행합니다.\n",
      "[Kim] 작업이 종료되었습니다.\n",
      "[Choi] 작업을 3초 동안 수행합니다.\n",
      "\n",
      "[Park] 작업이 종료되었습니다.[Choi] 작업이 종료되었습니다.\n",
      "\n",
      "비동기 처리가 총 17초의 작업을 수행하였다\n",
      "작업에 소요된 시간은 총 2초 이다.\n"
     ]
    }
   ],
   "source": [
    "# 비동기 작업 처리 후 결과값 리턴 받기\n",
    "\n",
    "startTime = dt.datetime.now()\n",
    "\n",
    "names = ['Lee', 'Kwon', 'Kim', 'Park', 'Choi']\n",
    "processes = []\n",
    "resultSet = []\n",
    "\n",
    "with futures.ThreadPoolExecutor(max_workers = 3) as executor:\n",
    "    for n in names:\n",
    "        pro = executor.submit(randomWork, n)\n",
    "        processes.append(pro)\n",
    "\n",
    "    for p in processes:\n",
    "        result = p.result()\n",
    "        resultSet.append(result)\n",
    "\n",
    "# randomWork 함수가 리턴한 모든 값을 합산\n",
    "print(\"비동기 처리가 총 %d초의 작업을 수행하였다\" % sum(resultSet))\n",
    "\n",
    "# 프로그램의 실행 시간을 구함\n",
    "endTime = dt.datetime.now()\n",
    "workTime = endTime - startTime\n",
    "print(\"작업에 소요된 시간은 총 %s초 이다.\" % workTime.seconds)"
   ]
  },
  {
   "cell_type": "markdown",
   "id": "0f3f2368",
   "metadata": {},
   "source": [
    "### 비동기의 예외처리(1)"
   ]
  },
  {
   "cell_type": "code",
   "execution_count": 44,
   "id": "c2da21aa",
   "metadata": {},
   "outputs": [],
   "source": [
    "# 랜덤값을 생성하는 기능을 제공하는 모듈 참조\n",
    "import random\n",
    "\n",
    "seasons = ['봄', '여름','가을','겨울']\n",
    "\n",
    "def seasonWork(name):\n",
    "    # 1~9 사이의 랜덤값을 생성\n",
    "    randomSecond = random.randrange(1, 9)\n",
    "\n",
    "    print(\"[%s] 작업을 %d초 동안 수행.\" % (name, randomSecond))\n",
    "\n",
    "    for i in range(0, randomSecond):\n",
    "        time.sleep(1)\n",
    "        # randomSecond가 4이상이면, i가 리스트의 인덱스를 초과하는 순간 에러 발생\n",
    "        print(\"[%s] 지금은 <%s>입니다\" % (name, randomSecond))\n",
    "\n",
    "        print(\"[%s] 작업이 종료되었씁니다.\" % name)\n",
    "\n",
    "        # 파라미터로 전달된 name과 몇 초 동안 작업을 했는지를 리스트로 리턴\n",
    "        return[name, randomSecond]"
   ]
  },
  {
   "cell_type": "markdown",
   "id": "5145ac8f",
   "metadata": {},
   "source": [
    "### 비동기의 예외처리(2)\n"
   ]
  },
  {
   "cell_type": "code",
   "execution_count": 46,
   "id": "4beadb06",
   "metadata": {},
   "outputs": [
    {
     "name": "stdout",
     "output_type": "stream",
     "text": [
      "[Lee] 작업을 4초 동안 수행.\n",
      "[Lee] 지금은 <4>입니다\n",
      "[Lee] 작업이 종료되었씁니다.\n",
      "Lee의 작업이 완료되었습니다.\n",
      "Lee의 작업이 완료되었습니다.\n",
      "[Kwon] 작업을 6초 동안 수행.\n",
      "[Kwon] 지금은 <6>입니다\n",
      "[Kwon] 작업이 종료되었씁니다.\n",
      "Kwon의 작업이 완료되었습니다.\n",
      "Lee의 작업이 완료되었습니다.\n",
      "Kwon의 작업이 완료되었습니다.\n",
      "[Kim] 작업을 2초 동안 수행.\n",
      "[Kim] 지금은 <2>입니다\n",
      "[Kim] 작업이 종료되었씁니다.\n",
      "Kim의 작업이 완료되었습니다.\n",
      "Lee의 작업이 완료되었습니다.\n",
      "Kwon의 작업이 완료되었습니다.\n",
      "Kim의 작업이 완료되었습니다.\n",
      "[park] 작업을 5초 동안 수행.\n",
      "[park] 지금은 <5>입니다\n",
      "[park] 작업이 종료되었씁니다.\n",
      "park의 작업이 완료되었습니다.\n",
      "Lee의 작업이 완료되었습니다.\n",
      "Kwon의 작업이 완료되었습니다.\n",
      "Kim의 작업이 완료되었습니다.\n",
      "park의 작업이 완료되었습니다.\n",
      "[kwok] 작업을 1초 동안 수행.\n",
      "[kwok] 지금은 <1>입니다\n",
      "[kwok] 작업이 종료되었씁니다.\n",
      "kwok의 작업이 완료되었습니다.\n",
      "작업에 소요된 시간은 총 5초 입니다.\n"
     ]
    }
   ],
   "source": [
    "startTime = dt.datetime.now()\n",
    "\n",
    "names = ['Lee', 'Kwon', 'Kim', 'park', 'kwok']\n",
    "processes = []\n",
    "nameset =[]\n",
    "timeset = []\n",
    "\n",
    "with futures.ThreadPoolExecutor(max_workers = len(names)) as executor:\n",
    "    for n in names:\n",
    "        pro = executor.submit(seasonWork, n)\n",
    "        processes.append(pro)\n",
    "\n",
    "        for p in processes:\n",
    "            # 비동기 프로세스가 실행되는 동안 발생하는 예외에 대비하기 위한 try ~except문\n",
    "            try:\n",
    "                name, n = p.result()\n",
    "                nameset.append(name)\n",
    "                timeset.append(n)\n",
    "                print(\"%s의 작업이 완료되었습니다.\" % name)\n",
    "            except Exception as e:\n",
    "                print(e)\n",
    "\n",
    "# 프로그램의 실행 시간을 구함\n",
    "endTime = dt.datetime.now()\n",
    "workTime = endTime - startTime\n",
    "print(\"작업에 소요된 시간은 총 %s초 입니다.\" % workTime.seconds)"
   ]
  },
  {
   "cell_type": "code",
   "execution_count": null,
   "id": "9fe672b2",
   "metadata": {},
   "outputs": [],
   "source": []
  }
 ],
 "metadata": {
  "kernelspec": {
   "display_name": "base",
   "language": "python",
   "name": "python3"
  },
  "language_info": {
   "codemirror_mode": {
    "name": "ipython",
    "version": 3
   },
   "file_extension": ".py",
   "mimetype": "text/x-python",
   "name": "python",
   "nbconvert_exporter": "python",
   "pygments_lexer": "ipython3",
   "version": "3.13.5"
  }
 },
 "nbformat": 4,
 "nbformat_minor": 5
}
