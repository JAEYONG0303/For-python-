{
 "cells": [
  {
   "cell_type": "markdown",
   "id": "9958e3cc",
   "metadata": {},
   "source": [
    "# 파이썬 기본 라이브러리\n",
    "## 모듈과 라이브러리"
   ]
  },
  {
   "cell_type": "code",
   "execution_count": 17,
   "id": "66c44755",
   "metadata": {},
   "outputs": [
    {
     "name": "stdout",
     "output_type": "stream",
     "text": [
      "7\n",
      "-1\n"
     ]
    }
   ],
   "source": [
    "# 함수를 포함하는 모듈 사용하기\n",
    "\n",
    "# Mymod1.py 파일 참조\n",
    "from mylibrary import mymod1\n",
    "\n",
    "#참조한 파일에 정의된 함수는 `파일이름.함수명` 형식으로 접근\n",
    "print(mymod1.plus(3, 4))\n",
    "print(mymod1.minus(3, 4))"
   ]
  },
  {
   "cell_type": "code",
   "execution_count": 18,
   "id": "9a46015b",
   "metadata": {},
   "outputs": [
    {
     "name": "stdout",
     "output_type": "stream",
     "text": [
      "----------생성자가 실행되었습니다,. ------------\n"
     ]
    },
    {
     "ename": "AttributeError",
     "evalue": "'Member' object has no attribute 'view_info'",
     "output_type": "error",
     "traceback": [
      "\u001b[31m---------------------------------------------------------------------------\u001b[39m",
      "\u001b[31mAttributeError\u001b[39m                            Traceback (most recent call last)",
      "\u001b[36mCell\u001b[39m\u001b[36m \u001b[39m\u001b[32mIn[18]\u001b[39m\u001b[32m, line 11\u001b[39m\n\u001b[32m      5\u001b[39m \u001b[38;5;66;03m# mymod2에 정의된 Member라는 클래스에 \"모듈이름.클래스이름\"으로 접근\u001b[39;00m\n\u001b[32m      6\u001b[39m \u001b[38;5;66;03m#-> import된 클래스는 정의된 기능을 다른 변수에 부여해야 사용 가능.\u001b[39;00m\n\u001b[32m      7\u001b[39m \u001b[38;5;66;03m#   => 객체\u001b[39;00m\n\u001b[32m      8\u001b[39m \u001b[38;5;66;03m#-> 클래스에 생성자가 포함되어 있고 생성자가 파라미터를 갖는 경우\u001b[39;00m\n\u001b[32m      9\u001b[39m \u001b[38;5;66;03m#   객체 생성시에 생성자 파라미터를 전달해야 함.\u001b[39;00m\n\u001b[32m     10\u001b[39m mem = mymod2.Member(\u001b[33m'\u001b[39m\u001b[33m파이썬학생\u001b[39m\u001b[33m'\u001b[39m, \u001b[33m'\u001b[39m\u001b[33mrnjswodyd1@gmail.com\u001b[39m\u001b[33m'\u001b[39m)\n\u001b[32m---> \u001b[39m\u001b[32m11\u001b[39m \u001b[43mmem\u001b[49m\u001b[43m.\u001b[49m\u001b[43mview_info\u001b[49m()\n",
      "\u001b[31mAttributeError\u001b[39m: 'Member' object has no attribute 'view_info'"
     ]
    }
   ],
   "source": [
    "# 클래스가 정의되어 있는 모듈 참조하기\n",
    "\n",
    "from mylibrary import mymod2\n",
    "\n",
    "# mymod2에 정의된 Member라는 클래스에 \"모듈이름.클래스이름\"으로 접근\n",
    "#-> import된 클래스는 정의된 기능을 다른 변수에 부여해야 사용 가능.\n",
    "#   => 객체\n",
    "#-> 클래스에 생성자가 포함되어 있고 생성자가 파라미터를 갖는 경우\n",
    "#   객체 생성시에 생성자 파라미터를 전달해야 함.\n",
    "mem = mymod2.Member('파이썬학생', 'rnjswodyd1@gmail.com')\n",
    "mem.view_info()"
   ]
  },
  {
   "cell_type": "code",
   "execution_count": 19,
   "id": "91172e94",
   "metadata": {},
   "outputs": [
    {
     "name": "stdout",
     "output_type": "stream",
     "text": [
      "45\n",
      "15\n"
     ]
    }
   ],
   "source": [
    "# 객체가 할당되어 있는 모듈 참조하기\n",
    "\n",
    "from mylibrary import mymod3\n",
    "\n",
    "# 모듈안의 객체를 통해서 기능에 접근.\n",
    "print(mymod3.my_calc.plus(30, 15))\n",
    "print(mymod3.my_calc.minus(30, 15))"
   ]
  },
  {
   "cell_type": "code",
   "execution_count": 20,
   "id": "16ecf012",
   "metadata": {},
   "outputs": [
    {
     "name": "stdout",
     "output_type": "stream",
     "text": [
      "7\n",
      "-1\n"
     ]
    }
   ],
   "source": [
    "# 모듈에 별칭 적용하기\n",
    "\n",
    "from mylibrary import mymod1 as hello\n",
    "\n",
    "# 모듈에 포함된 기능들은 `별칭이름.함수명`형식으로 접근\n",
    "print(hello.plus(3, 4))\n",
    "print(hello.minus(3, 4))"
   ]
  },
  {
   "cell_type": "code",
   "execution_count": 23,
   "id": "1760755f",
   "metadata": {},
   "outputs": [
    {
     "name": "stdout",
     "output_type": "stream",
     "text": [
      "----------생성자가 실행되었습니다,. ------------\n"
     ]
    },
    {
     "ename": "AttributeError",
     "evalue": "'Member' object has no attribute 'view_info'",
     "output_type": "error",
     "traceback": [
      "\u001b[31m---------------------------------------------------------------------------\u001b[39m",
      "\u001b[31mAttributeError\u001b[39m                            Traceback (most recent call last)",
      "\u001b[36mCell\u001b[39m\u001b[36m \u001b[39m\u001b[32mIn[23]\u001b[39m\u001b[32m, line 7\u001b[39m\n\u001b[32m      4\u001b[39m \u001b[38;5;28;01mfrom\u001b[39;00m\u001b[38;5;250m \u001b[39m\u001b[34;01mmylibrary\u001b[39;00m\u001b[38;5;250m \u001b[39m\u001b[38;5;28;01mimport\u001b[39;00m mymod2 \u001b[38;5;28;01mas\u001b[39;00m User\n\u001b[32m      6\u001b[39m mem = User.Member(\u001b[33m'\u001b[39m\u001b[33m파이썬학생\u001b[39m\u001b[33m'\u001b[39m, \u001b[33m'\u001b[39m\u001b[33mrnjswodyd1@gmail.com\u001b[39m\u001b[33m'\u001b[39m)\n\u001b[32m----> \u001b[39m\u001b[32m7\u001b[39m \u001b[43mmem\u001b[49m\u001b[43m.\u001b[49m\u001b[43mview_info\u001b[49m()\n",
      "\u001b[31mAttributeError\u001b[39m: 'Member' object has no attribute 'view_info'"
     ]
    }
   ],
   "source": [
    "# 클래스 모듈에 별칭 적용하기\n",
    "\n",
    "# mymod2 모듈에 User라는 별칭을 적용하여 import\n",
    "from mylibrary import mymod2 as User\n",
    "\n",
    "mem = User.Member('파이썬학생', 'rnjswodyd1@gmail.com')\n",
    "mem.view_info()"
   ]
  },
  {
   "cell_type": "code",
   "execution_count": 16,
   "id": "2d53d49f",
   "metadata": {},
   "outputs": [
    {
     "name": "stdout",
     "output_type": "stream",
     "text": [
      "45\n",
      "15\n"
     ]
    }
   ],
   "source": [
    "# 별칭이름.객체명 형태로 접근\n",
    "\n",
    "from mylibrary import mymod3 as myobject\n",
    "\n",
    "print(myobject.my_calc.plus(30, 15))\n",
    "print(myobject.my_calc.minus(30, 15))"
   ]
  },
  {
   "cell_type": "markdown",
   "id": "95b037b7",
   "metadata": {},
   "source": [
    "## 파일/폴더 관련 기능"
   ]
  },
  {
   "cell_type": "code",
   "execution_count": 24,
   "id": "b4719fed",
   "metadata": {},
   "outputs": [],
   "source": [
    "# 모듈 참조하기\n",
    "\n",
    "# 모듈참조\n",
    "import sys\n",
    "import os"
   ]
  },
  {
   "cell_type": "code",
   "execution_count": 25,
   "id": "6d1bc0b3",
   "metadata": {},
   "outputs": [
    {
     "name": "stdout",
     "output_type": "stream",
     "text": [
      "win32\n"
     ]
    }
   ],
   "source": [
    "print(sys.platform)"
   ]
  },
  {
   "cell_type": "code",
   "execution_count": 26,
   "id": "7c93dd2e",
   "metadata": {},
   "outputs": [
    {
     "name": "stdout",
     "output_type": "stream",
     "text": [
      "['.git', '.gitconfig', '201017 LAB 3. 파이썬.ipynb', '251015 LAB 1. 파이썬.ipynb', '251016 LBA 2. 파이썬.ipynb', '251020 LAB 4. 파이썬.ipynb', '251021 LAB 5. 파이썬.ipynb', '251022 LAB 6. 파이썬.ipynb', '251024 LAB 7. 파이썬.ipynb', 'covid19.csv', 'grade.csv', 'hellopython.txt', 'helloworld.txt', 'id_ed25519.pub', 'my.md', 'mylibrary', '코드 무한 연습용.ipynb', '프로그래머스 .ipynb']\n"
     ]
    }
   ],
   "source": [
    "# 경로 문자열 관련 기능\n",
    "\n",
    "# 현재 폴더 내의 하위 항목들의 이름을 리스트로 리턴받음\n",
    "# -> \"./\" 혹은 \".\"은 현재 폴더라는 의미\n",
    "# -> \"../ 는 상위 폴더라는 의미\"\n",
    "ls = os.listdir('./')\n",
    "print(ls)"
   ]
  },
  {
   "cell_type": "code",
   "execution_count": 28,
   "id": "3984bd46",
   "metadata": {},
   "outputs": [
    {
     "name": "stdout",
     "output_type": "stream",
     "text": [
      "False\n"
     ]
    }
   ],
   "source": [
    "# 특정 폴더나 파일이 존재하는지 확인 -> 상대경로일 경우 현재 소스파일 기준\n",
    "k = os.path.exists('./hello')\n",
    "print(k)"
   ]
  },
  {
   "cell_type": "code",
   "execution_count": 29,
   "id": "b29b06be",
   "metadata": {},
   "outputs": [
    {
     "name": "stdout",
     "output_type": "stream",
     "text": [
      "c:\\Users\\wodyd\\Desktop\\학원수업\\hello\n"
     ]
    }
   ],
   "source": [
    "# 절대경로 확인 -> 존재하지 않더라도 경로값은 확인 가능.\n",
    "print( os.path.abspath('./hello'))"
   ]
  },
  {
   "cell_type": "code",
   "execution_count": 30,
   "id": "e0494526",
   "metadata": {},
   "outputs": [],
   "source": [
    "# 폴더의 생성과 삭제\n",
    "\n",
    "if os.path.exists('./hello') == False:\n",
    "    # 없다면 생성\n",
    "    os.mkdir('./hello')\n",
    "else:\n",
    "    # 있다면 삭제 --> 빈 폴더만 삭제가능\n",
    "    os.rmdir('./hello')\n",
    "    print('hello 폴더를 삭제했습니다.')\n"
   ]
  },
  {
   "cell_type": "code",
   "execution_count": 33,
   "id": "71580acb",
   "metadata": {},
   "outputs": [
    {
     "name": "stdout",
     "output_type": "stream",
     "text": [
      "['201017 LAB 3. 파이썬.ipynb', '251015 LAB 1. 파이썬.ipynb', '251016 LBA 2. 파이썬.ipynb', '251020 LAB 4. 파이썬.ipynb', '251021 LAB 5. 파이썬.ipynb', '251022 LAB 6. 파이썬.ipynb', '251024 LAB 7. 파이썬.ipynb', 'covid19.csv', 'grade.csv', 'hello', 'hellopython.txt', 'helloworld.txt', 'id_ed25519.pub', 'my.md', 'mylibrary', '코드 무한 연습용.ipynb', '프로그래머스 .ipynb']\n",
      "['201017 LAB 3. 파이썬.ipynb', '251015 LAB 1. 파이썬.ipynb', '251016 LBA 2. 파이썬.ipynb', '251020 LAB 4. 파이썬.ipynb', '251021 LAB 5. 파이썬.ipynb', '251022 LAB 6. 파이썬.ipynb', '251024 LAB 7. 파이썬.ipynb', '코드 무한 연습용.ipynb', '프로그래머스 .ipynb']\n",
      "['201017 LAB 3. 파이썬.ipynb', '251015 LAB 1. 파이썬.ipynb', '251016 LBA 2. 파이썬.ipynb', '251020 LAB 4. 파이썬.ipynb', '251021 LAB 5. 파이썬.ipynb', '251022 LAB 6. 파이썬.ipynb', '251024 LAB 7. 파이썬.ipynb', 'id_ed25519.pub']\n"
     ]
    }
   ],
   "source": [
    "# 파일이나 폴더 검색\n",
    "\n",
    "# 모듈 참조하기\n",
    "import glob as gl\n",
    "\n",
    "# 현재 폴더의 모든 하위 요소 조회하기\n",
    "ls = gl.glob('*')\n",
    "print(ls)\n",
    "\n",
    "# 현재 폴더에서 \".ipynb\"로 끝나는 모든 요소들 조회\n",
    "ls = gl.glob('*.ipynb')\n",
    "print(ls)\n",
    "\n",
    "# 현재 폴더에서 \"2\"을 포함하는 파일 조회\n",
    "ls = gl.glob('*2*')\n",
    "print(ls)"
   ]
  },
  {
   "cell_type": "code",
   "execution_count": 37,
   "id": "c3c6092d",
   "metadata": {},
   "outputs": [
    {
     "name": "stdout",
     "output_type": "stream",
     "text": [
      "python 폴더와 하위 폴더들을 생성 했습니다.\n"
     ]
    }
   ],
   "source": [
    "# 폴더 트리 생성 및 삭제\n",
    "\n",
    "#파일, 폴더 관련 작업에 확장된 기능을 제공\n",
    "import shutil\n",
    "\n",
    "# 현재 작업 위치에서 \"python\" 이라는 이름의 폴더가 없다면\n",
    "if os.path.exists('python') == False:\n",
    "    # 순환적으로 폴더를 생성함 -> exist_ok=True 옵션은 이미 존재하더라도 에러 발생 안함\n",
    "    os.makedirs('python/test/hello/world', exist_ok=True)\n",
    "    print('python 폴더와 하위 폴더들을 생성 했습니다.')\n",
    "\n",
    "# 그렇지 않다면\n",
    "else:\n",
    "    # 비어있지 않은 폴더도 강제 삭제 -> 존재하지 않는 폴더인 경우 에러\n",
    "    shutil.rmtree('python')\n",
    "    print('python 폴더가 삭제되었습니다')"
   ]
  },
  {
   "cell_type": "code",
   "execution_count": 38,
   "id": "74faf2c9",
   "metadata": {},
   "outputs": [
    {
     "name": "stdout",
     "output_type": "stream",
     "text": [
      "python 폴더가../created 폴더로 이동되었습니다.\n"
     ]
    }
   ],
   "source": [
    "# 폴더의 이동과 복사\n",
    "\n",
    "# 폴더의 이동\n",
    "if os.path.exists('python'):\n",
    "    shutil.move('python', '../created')\n",
    "    print('python 폴더가../created 폴더로 이동되었습니다.')\n",
    "    "
   ]
  },
  {
   "cell_type": "code",
   "execution_count": 39,
   "id": "12fd1e13",
   "metadata": {},
   "outputs": [],
   "source": [
    "# 폴더의 복사\n",
    "if os.path.exists('./created'):\n",
    "    shutil.copytree('../created','./copy')\n",
    "    print('python 폴더가 copy로 복사되었습니다.')\n",
    "    "
   ]
  },
  {
   "cell_type": "markdown",
   "id": "110e82ea",
   "metadata": {},
   "source": [
    "### 날짜/시간 관련 기능"
   ]
  },
  {
   "cell_type": "code",
   "execution_count": null,
   "id": "e1fb39f0",
   "metadata": {},
   "outputs": [],
   "source": [
    "# 특정 시각 지정하기\n",
    "\n",
    "# 특정 날짜 값을 지정하는 객체의 생성\n",
    "# datetime 모듈의 datetime() 함수에 전달한 파라미터 값들을 성분으로 갖는 날짜 객체 생성하기\n",
    "\n",
    "import datetime as dt\n",
    "some_time = dt.datetime(2025, 10, 24, 15, 10, 15)"
   ]
  },
  {
   "cell_type": "code",
   "execution_count": 42,
   "id": "34783813",
   "metadata": {},
   "outputs": [],
   "source": [
    "# 문자열을 분석하여 날짜 성분만 추출한 뒤 날짜 객체로 변환하기\n",
    "str = \"2025년 10월 24일 15시 10분 15초\"\n",
    "some_time = dt.datetime.strptime(str, \"%Y년 %m월 %d일 %H시 %M분 %S초\")"
   ]
  },
  {
   "cell_type": "code",
   "execution_count": 43,
   "id": "e4aed6b1",
   "metadata": {},
   "outputs": [],
   "source": [
    "# 날짜 객체의 특정 성분 값 변경하기\n",
    "\n",
    "# 변경할 필요가 없느 ㄴ파라미터는 생략 가능\n",
    "\n",
    "what_time = some_time.replace(year=2024, month=1, day =4, hour=5, minute=14, second=14)"
   ]
  },
  {
   "cell_type": "code",
   "execution_count": 45,
   "id": "f3baf18d",
   "metadata": {},
   "outputs": [
    {
     "name": "stdout",
     "output_type": "stream",
     "text": [
      "24-01-04 05:14:00\n"
     ]
    }
   ],
   "source": [
    "# 날짜 형식의 문자열을 날짜 객체로 변환하기\n",
    "date_str = \"2024년 01월 04일 5시 14분\"\n",
    "# 문자열에 대한 날짜 형식을 지정하면 문자열에서 날짜 성분을 추출하여 객체를 생성한다.\n",
    "oldday = dt.datetime.strptime(date_str, \"%Y년 %m월 %d일 %H시 %M분\")\n",
    "print(oldday.strftime(\"%y-%m-%d %H:%M:%S\"))\n"
   ]
  },
  {
   "cell_type": "code",
   "execution_count": 52,
   "id": "39cb6223",
   "metadata": {},
   "outputs": [
    {
     "name": "stdout",
     "output_type": "stream",
     "text": [
      "25-10-24  15:14:39\n",
      "18-10-16 15:14:39\n"
     ]
    }
   ],
   "source": [
    "# 날짜 객체에서 특정 값 변경하기\n",
    "\n",
    "foo = dt.datetime.now()\n",
    "print(foo.strftime(\"%y-%m-%d  %H:%M:%S\"))\n",
    "\n",
    "change_date = foo.replace(year=2018, day =16, hour = 15)\n",
    "print(change_date.strftime(\"%y-%m-%d %H:%M:%S\"))"
   ]
  },
  {
   "cell_type": "code",
   "execution_count": 53,
   "id": "29a60e9c",
   "metadata": {},
   "outputs": [
    {
     "name": "stdout",
     "output_type": "stream",
     "text": [
      "68 days, 8:43:28.408633\n"
     ]
    }
   ],
   "source": [
    "# 두 날짜 간의 차이 계산하기\n",
    "\n",
    "# 두 날짜 만들기\n",
    "# -> 오늘날짜\n",
    "dt1 = dt.datetime.now()\n",
    "# -> 내년 1월1일 자정\n",
    "dt2 = dt.datetime(dt1.year+1, 1, 1, 0, 0, 0)\n",
    "\n",
    "# 두 날짜의 차를 구한 결과는 timedelta 객체형식이 된다.\n",
    "# -> datetime 모듈에 정의되어 있는 객체형식임.\n",
    "td = dt2 - dt1\n",
    "print(td)\n"
   ]
  },
  {
   "cell_type": "code",
   "execution_count": 54,
   "id": "b9821745",
   "metadata": {},
   "outputs": [
    {
     "name": "stdout",
     "output_type": "stream",
     "text": [
      "68\n",
      "31408\n",
      "올해는 68일 남았습니다\n"
     ]
    }
   ],
   "source": [
    "# timedelta 객체의 프로퍼티\n",
    "\n",
    "# 날짜만 추출\n",
    "print(td.days)\n",
    "print(td.seconds)\n",
    "print(\"올해는 %d일 남았습니다\" % td.days )"
   ]
  },
  {
   "cell_type": "code",
   "execution_count": 55,
   "id": "be774cc8",
   "metadata": {},
   "outputs": [],
   "source": [
    "# 몇일 후의 날짜 계산하기\n",
    "# 날짜 객체와 연산하기 위한 임의의 timedelta 객체 만들기\n",
    "\n",
    "import datetime as dt\n",
    "td = dt.timedelta(days=100, seconds=60)"
   ]
  },
  {
   "cell_type": "code",
   "execution_count": 56,
   "id": "bc6a091e",
   "metadata": {},
   "outputs": [
    {
     "name": "stdout",
     "output_type": "stream",
     "text": [
      "2026-02-01 16:19:38\n"
     ]
    }
   ],
   "source": [
    "# 계산하기\n",
    "\n",
    "d= dt.timedelta(days=100, seconds=3600)\n",
    "now_time = dt.datetime.now()\n",
    "after_time = now_time + d\n",
    "\n",
    "print(after_time.strftime(\"%Y-%m-%d %H:%M:%S\"))"
   ]
  },
  {
   "cell_type": "markdown",
   "id": "82d31712",
   "metadata": {},
   "source": [
    "## 메일 발송 기능\n"
   ]
  },
  {
   "cell_type": "markdown",
   "id": "fcef93ba",
   "metadata": {},
   "source": []
  },
  {
   "cell_type": "markdown",
   "id": "5f5d6a51",
   "metadata": {},
   "source": [
    "인증 기기 설정( 구글 아이디)\n",
    "인증번호 확인\n",
    "보안 - 앱 비밀번호 검색\n",
    "임의의 앱 이름 설정\n",
    "발급된 비밀번호 저장"
   ]
  },
  {
   "cell_type": "code",
   "execution_count": 9,
   "id": "97941c8a",
   "metadata": {},
   "outputs": [],
   "source": [
    "# 메일 발송에 필요한 내장 모듈 참조\n",
    "\n",
    "# -> 경로 정보를 취득하기 위한 모듈\n",
    "import os\n",
    "# -> 발송서버와 연동하기 위한 모듈\n",
    "from smtplib import SMTP\n",
    "# -> 본문 구성 기능\n",
    "from email.mime.text import MIMEText\n",
    "# -> 파일을 Multipart 형식으로 변환\n",
    "from email.mime.application import MIMEApplication\n",
    "# -> 파일을 본문에 추가하는 기능 제공\n",
    "from email.mime.multipart import MIMEMultipart"
   ]
  },
  {
   "cell_type": "code",
   "execution_count": 10,
   "id": "b6560118",
   "metadata": {},
   "outputs": [],
   "source": [
    "# 보내는 사람 주소 (로그인 계정과 동일 해야 함)\n",
    "from_addr = \"rnjswodyd1@gmail,com\"\n",
    "\n",
    "# 받는 사람 주소\n",
    "to_addr = \"leekh4232@gmail.com\" \n",
    "\n",
    "# 제목\n",
    "subject = \"파이썬 메일 발송 테스트 입니다\"\n",
    "\n",
    "# 본문내용 작성 -> 삼중따옴표 안에서는 줄바꿈이 자유롭다.\n",
    "content = \"\"\"파이썬 테스트 \"\"\"\n",
    "\n",
    "# 첨부파일이 필요한  경우\n",
    "files = [\"Hello.txt\", \"World.txt\"]"
   ]
  },
  {
   "cell_type": "code",
   "execution_count": 11,
   "id": "4777aece",
   "metadata": {},
   "outputs": [],
   "source": [
    "# 컨텐츠 형식(plain or html)\n",
    "content_type = 'plain'\n",
    "\n",
    "# 로그인 계정 이름\n",
    "user_name = \"rnjswodyd1@gmail.com\"\n",
    "\n",
    "# 비밀번호\n",
    "password = \"scah sksp vcti pfbz \"\n",
    "\n",
    "# 구글 발송 서버 주소와 포트\n",
    "smtp = \"smtp.gmail.com\"\n",
    "port = 587"
   ]
  },
  {
   "cell_type": "code",
   "execution_count": 12,
   "id": "ee2ea030",
   "metadata": {},
   "outputs": [],
   "source": [
    "# 메일 제목, 보내는 사람, 받는 사람, 내용 구성\n",
    "# 메일 발송 정보를 저장하기 위한 객체\n",
    "msg = MIMEMultipart()\n",
    "\n",
    "msg['Subject'] = subject # 메일 제목\n",
    "msg['From'] = from_addr  # 보내는 사람\n",
    "msg['To'] = to_addr      # 받는 사람\n",
    "\n",
    "# 본문 설정\n",
    "msg.attach(MIMEText(content, content_type))"
   ]
  },
  {
   "cell_type": "code",
   "execution_count": 13,
   "id": "c7f43da8",
   "metadata": {},
   "outputs": [
    {
     "name": "stdout",
     "output_type": "stream",
     "text": [
      "Hello.txt 가 첨부되었습니다\n",
      "World.txt 가 첨부되었습니다\n"
     ]
    }
   ],
   "source": [
    "# 리스트 변수의 원소가 하나라도 존재할 경우 True\n",
    "if files:\n",
    "    for file_item in files:\n",
    "        if os.path.exists(file_item):\n",
    "            # 바이너리(b) 형식으로 읽기(r)\n",
    "            with open(file_item, 'rb') as f:\n",
    "                # 전체 파일 경로에서 이름만 추출\n",
    "                basename = os.path.basename(file_item)\n",
    "                # 파일의 내용과 파일이름을 메일에 첨부할 형식으로 변환\n",
    "                part = MIMEApplication(f.read(), Name=basename)\n",
    "                \n",
    "                # 파일첨부\n",
    "                part['Content-Disposition'] = 'attachment; filename =\"%s\"' % basename\n",
    "                msg.attach(part)\n",
    "\n",
    "                print(basename, \"가 첨부되었습니다\")\n"
   ]
  },
  {
   "cell_type": "code",
   "execution_count": 14,
   "id": "33d361a9",
   "metadata": {},
   "outputs": [
    {
     "data": {
      "text/plain": [
       "(221,\n",
       " b'2.0.0 closing connection d9443c01a7336-2946ded7d4esm49208545ad.21 - gsmtp')"
      ]
     },
     "execution_count": 14,
     "metadata": {},
     "output_type": "execute_result"
    }
   ],
   "source": [
    "# 메일 보내기\n",
    "\n",
    "mail = SMTP(smtp)\n",
    "# 메일 서버 접속\n",
    "mail.ehlo()\n",
    "# 메일 서버 연동 설정\n",
    "mail.starttls()\n",
    "# 메일 서버 로그인\n",
    "mail.login(user_name, password)\n",
    "# 메일 보내기\n",
    "mail.sendmail(from_addr, to_addr, msg.as_string())\n",
    "# 메일 서버 접속 종료\n",
    "mail.quit()"
   ]
  },
  {
   "cell_type": "code",
   "execution_count": null,
   "id": "cedf0d0c",
   "metadata": {},
   "outputs": [],
   "source": []
  }
 ],
 "metadata": {
  "kernelspec": {
   "display_name": "base",
   "language": "python",
   "name": "python3"
  },
  "language_info": {
   "codemirror_mode": {
    "name": "ipython",
    "version": 3
   },
   "file_extension": ".py",
   "mimetype": "text/x-python",
   "name": "python",
   "nbconvert_exporter": "python",
   "pygments_lexer": "ipython3",
   "version": "3.13.5"
  }
 },
 "nbformat": 4,
 "nbformat_minor": 5
}
