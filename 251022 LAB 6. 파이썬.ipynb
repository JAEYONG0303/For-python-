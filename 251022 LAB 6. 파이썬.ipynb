{
 "cells": [
  {
   "cell_type": "markdown",
   "id": "36008269",
   "metadata": {},
   "source": [
    "## # 객체지향 프로그래밍의 이해\n",
    "### 클래스와 객체"
   ]
  },
  {
   "cell_type": "code",
   "execution_count": 1,
   "id": "2b0273de",
   "metadata": {},
   "outputs": [],
   "source": [
    "# 멤버변수만 포함하는 클래스\n",
    "\n",
    "#변수들을 그룹화 한 클래스 정의\n",
    "class Dragoon:\n",
    "    speed = None\n",
    "    hp =None\n",
    "    attack = None\n",
    "    defense = None"
   ]
  },
  {
   "cell_type": "code",
   "execution_count": 8,
   "id": "c64245eb",
   "metadata": {},
   "outputs": [
    {
     "name": "stdout",
     "output_type": "stream",
     "text": [
      "speed: 10, hp:100, attack: 20, defense: 5\n"
     ]
    }
   ],
   "source": [
    "# 클래스로부터 객체 생성\n",
    "# 객체 생성하기\n",
    "dg1 = Dragoon()\n",
    "\n",
    "#객체의 속성 설정하기\n",
    "dg1.speed = 10\n",
    "dg1.hp = 100\n",
    "dg1.attack = 20\n",
    "dg1.defense = 5\n",
    "\n",
    "# 객체의 속성 일괄 출력하기\n",
    "tpl = \"speed: {0}, hp:{1}, attack: {2}, defense: {3}\"\n",
    "print(tpl.format(dg1.speed, dg1.hp, dg1.attack, dg1.defense))"
   ]
  },
  {
   "cell_type": "code",
   "execution_count": 10,
   "id": "768da233",
   "metadata": {},
   "outputs": [
    {
     "name": "stdout",
     "output_type": "stream",
     "text": [
      "speed: 11, hp:110, attack: 22, defense: 6\n"
     ]
    }
   ],
   "source": [
    "# 객체안에 포함된 값 변경하기\n",
    "\n",
    "dg1.speed += 1\n",
    "dg1.hp += 10\n",
    "dg1.attack += 2\n",
    "dg1.defense += 1\n",
    "\n",
    "# 객체의 속성 일괄 출력하기\n",
    "tpl = \"speed: {0}, hp:{1}, attack: {2}, defense: {3}\"\n",
    "print(tpl.format(dg1.speed, dg1.hp, dg1.attack, dg1.defense))"
   ]
  },
  {
   "cell_type": "code",
   "execution_count": 9,
   "id": "f6d335f6",
   "metadata": {},
   "outputs": [
    {
     "name": "stdout",
     "output_type": "stream",
     "text": [
      "speed: 10, hp:100, attack: 20, defense: 5\n",
      "speed: 12, hp:120, attack: 22, defense: 7\n"
     ]
    }
   ],
   "source": [
    "# 동일한 속성을 갖는 객체를 추가로 생성할 수 있다\n",
    "# 각 속성은 독립적인 값을 갖는다,\n",
    "dg2 = Dragoon()\n",
    "dg2.speed = 12\n",
    "dg2.hp = 120\n",
    "dg2.attack = 22\n",
    "dg2.defense = 7\n",
    "\n",
    "# 객체의 속성 일괄 출력하기\n",
    "tpl = \"speed: {0}, hp:{1}, attack: {2}, defense: {3}\"\n",
    "print(tpl.format(dg1.speed, dg1.hp, dg1.attack, dg1.defense))\n",
    "print(tpl.format(dg2.speed, dg2.hp, dg2.attack, dg2.defense))"
   ]
  },
  {
   "cell_type": "markdown",
   "id": "ca960038",
   "metadata": {},
   "source": [
    "### 메서드"
   ]
  },
  {
   "cell_type": "code",
   "execution_count": 11,
   "id": "d9776592",
   "metadata": {},
   "outputs": [],
   "source": [
    "# 클래스 정의하기\n",
    "\n",
    "class Probe:\n",
    "    # 이동메서드 -> 이동할 좌표를 전달받아 이동한다\n",
    "    def move(self, x, y):\n",
    "        print(\"좌표 ({0}, {1})로 이동합니다\". format(x,y))\n",
    "\n",
    "    # 광물을 채집하는 메서드 -> 채집된 광물을 반환한다.\n",
    "    def mineral(self):\n",
    "        print(\"광물을 채집합니다.(+10)\")\n",
    "        return 10\n",
    "    \n",
    "    # 가스를 채집하는 메서드 -> 채집된 가스를 반환한다.\n",
    "    def gas(self):\n",
    "        print(\"가스를 채집합니다.(+5)\")\n",
    "        return 5"
   ]
  },
  {
   "cell_type": "code",
   "execution_count": 13,
   "id": "0007db0b",
   "metadata": {},
   "outputs": [
    {
     "name": "stdout",
     "output_type": "stream",
     "text": [
      "좌표 (10, 10)로 이동합니다\n",
      "광물을 채집합니다.(+10)\n",
      "광물을 채집합니다.(+10)\n",
      "광물을 채집합니다.(+10)\n",
      "가스를 채집합니다.(+5)\n",
      "가스를 채집합니다.(+5)\n",
      "채취된 광물: 30, 채취된 가스: 10\n"
     ]
    }
   ],
   "source": [
    "# 객체를 통한 매서드 호출\n",
    "\n",
    "probe1 = Probe()\n",
    "probe1.move(10,10)\n",
    "\n",
    "my_mineral = 0\n",
    "my_mineral += probe1.mineral()\n",
    "my_mineral += probe1.mineral()\n",
    "my_mineral += probe1.mineral()\n",
    "\n",
    "my_gas = 0\n",
    "my_gas += probe1.gas()\n",
    "my_gas += probe1.gas()\n",
    "\n",
    "print(\"채취된 광물: {0}, 채취된 가스: {1}\". format(my_mineral, my_gas))"
   ]
  },
  {
   "cell_type": "markdown",
   "id": "6011a5f3",
   "metadata": {},
   "source": [
    "### 매서드를 통한 멤버변수의 데이터 설정 및 출력\n"
   ]
  },
  {
   "cell_type": "code",
   "execution_count": 22,
   "id": "8d5ca9dc",
   "metadata": {},
   "outputs": [],
   "source": [
    "# 멤버변수의 값을 수정하기 위한 메서드를 갖는 클래스\n",
    "\n",
    "class Zealot:\n",
    "    hp = None # 체력\n",
    "    dps = None # 공격력\n",
    "\n",
    "    #객체의 속성을 일괄 출력하는 매서드\n",
    "    def state(self):\n",
    "        print(\"상태확인 >>> hp: {0}, dps: {1}\".format(self.hp, self.dps))\n",
    "\n",
    "    #레벨업 -> 모든 속성(멤버변수)들이 증가한다.\n",
    "    def level_up(self):\n",
    "        self.hp += 10\n",
    "        self.dps += 2\n",
    "        print(\"레벨업을 하여 체력(+10), 공격력(+2)이 증가합니다\")\n",
    "\n",
    "    # 공격을 받음 -> 상대의 공격력만큼 hp가 감소한다.\n",
    "    def attacked(self, enemy_attack):\n",
    "        self.hp -= enemy_attack\n",
    "        print(\"{0}의 공격을 받아 hp가 {1}만큼 감소합니다\".format(enemy_attack, self.hp))"
   ]
  },
  {
   "cell_type": "code",
   "execution_count": 23,
   "id": "de115916",
   "metadata": {},
   "outputs": [
    {
     "name": "stdout",
     "output_type": "stream",
     "text": [
      "상태확인 >>> hp: 100, dps: 20\n",
      "30의 공격을 받아 hp가 70만큼 감소합니다\n",
      "상태확인 >>> hp: 70, dps: 20\n",
      "레벨업을 하여 체력(+10), 공격력(+2)이 증가합니다\n",
      "상태확인 >>> hp: 80, dps: 22\n"
     ]
    }
   ],
   "source": [
    "# 매서드 실행에 따른 멤버변수의 변화 확인\n",
    "\n",
    "zealot1 = Zealot()\n",
    "zealot1.hp = 100\n",
    "zealot1.dps = 20\n",
    "\n",
    "zealot1.state()\n",
    "zealot1.attacked(30)\n",
    "zealot1.state()\n",
    "zealot1.level_up()\n",
    "zealot1.state()"
   ]
  },
  {
   "cell_type": "code",
   "execution_count": 1,
   "id": "480bdfc7",
   "metadata": {},
   "outputs": [],
   "source": [
    "# 생성자를 갖는 클래스 정의하기\n",
    "\n",
    "#마린 클래스 정의\n",
    "class Marine:\n",
    "    name = None  # 이름\n",
    "    hp = None    # 체력\n",
    "\n",
    "    # 파라미터를 활용해 객체의 속성을 초기화하는 생성자\n",
    "    def __init__(self, name, hp):\n",
    "        self.name = name\n",
    "        self.hp = hp\n",
    "        print(\"[{0}] You wanna piece of me, boy?\".format(self.name))\n",
    "\n",
    "    # 객체의 속성을 일괄 출력하는 메서드\n",
    "    def state(self):\n",
    "        print(\"[{0}] hp: {1}\".format(self.name, self.hp))\n",
    "\n",
    "    # 레벨업 -> 모든 속성(멤머변수)들이 증가한다.\n",
    "    def level_up(self):\n",
    "        self.hp += 5\n",
    "        print(\"[{0}] 레벨업을 하여 체력(+5)이 증가합니다\".format(self.name))\n",
    "\n",
    "    # 공격을 받음 -> 상대 공격력만큼 hp가 감소한다\n",
    "    def attacked(self, enemy_attack):\n",
    "        self.hp -= enemy_attack\n",
    "        print(\"[{0}] 적의 공격을 받아 hp가 {1} 감소합니다\".format(self.name, enemy_attack))"
   ]
  },
  {
   "cell_type": "code",
   "execution_count": 2,
   "id": "4d08fbcb",
   "metadata": {},
   "outputs": [
    {
     "name": "stdout",
     "output_type": "stream",
     "text": [
      "[마린1] You wanna piece of me, boy?\n",
      "[마린2] You wanna piece of me, boy?\n",
      "[마린1] hp: 100\n",
      "[마린2] hp: 100\n",
      "[마린1] 적의 공격을 받아 hp가 30 감소합니다\n",
      "[마린2] 적의 공격을 받아 hp가 20 감소합니다\n",
      "[마린1] hp: 70\n",
      "[마린2] hp: 80\n",
      "[마린1] 레벨업을 하여 체력(+5)이 증가합니다\n",
      "[마린2] 레벨업을 하여 체력(+5)이 증가합니다\n",
      "[마린1] hp: 75\n",
      "[마린2] hp: 85\n"
     ]
    }
   ],
   "source": [
    "# 정의한 클래스의 객체 사용하기\n",
    "m1 = Marine(\"마린1\", 100)\n",
    "m2 = Marine(\"마린2\", 100)\n",
    "\n",
    "m1.state()\n",
    "m2.state()\n",
    "\n",
    "m1.attacked(30)\n",
    "m2.attacked(20)\n",
    "\n",
    "m1.state()\n",
    "m2.state()\n",
    "\n",
    "m1.level_up()\n",
    "m2.level_up()\n",
    "\n",
    "m1.state()\n",
    "m2.state()"
   ]
  },
  {
   "cell_type": "markdown",
   "id": "5bd9a6e5",
   "metadata": {},
   "source": [
    "### 정보은닉(캡슐화)"
   ]
  },
  {
   "cell_type": "code",
   "execution_count": 4,
   "id": "b85e3e1f",
   "metadata": {},
   "outputs": [],
   "source": [
    "# 고전적인 캡슐화 방법\n",
    "\n",
    "class SchoolMember:\n",
    "    point =None\n",
    "\n",
    "    def __init__(self, p=0):\n",
    "        self.setPoint(p)\n",
    "\n",
    "    def setPoint(self, value):\n",
    "        if value < 0:\n",
    "            value = 0\n",
    "\n",
    "        if value < 100:\n",
    "            value = 100\n",
    "\n",
    "        self.point = value\n",
    "\n",
    "    def getPoint(self):\n",
    "        return self.point"
   ]
  },
  {
   "cell_type": "code",
   "execution_count": 2,
   "id": "981b6cc3",
   "metadata": {},
   "outputs": [
    {
     "ename": "NameError",
     "evalue": "name 'HelloWorld' is not defined",
     "output_type": "error",
     "traceback": [
      "\u001b[31m---------------------------------------------------------------------------\u001b[39m",
      "\u001b[31mNameError\u001b[39m                                 Traceback (most recent call last)",
      "\u001b[36mCell\u001b[39m\u001b[36m \u001b[39m\u001b[32mIn[2]\u001b[39m\u001b[32m, line 3\u001b[39m\n\u001b[32m      1\u001b[39m \u001b[38;5;66;03m# 접근 한정자를 사용한 정보은닉(캡슐화)\u001b[39;00m\n\u001b[32m----> \u001b[39m\u001b[32m3\u001b[39m \u001b[38;5;28;43;01mclass\u001b[39;49;00m\u001b[38;5;250;43m \u001b[39;49m\u001b[34;43;01mHelloWorld\u001b[39;49;00m\u001b[43m:\u001b[49m\n\u001b[32m      4\u001b[39m \u001b[43m    \u001b[49m\u001b[43mpublic_value\u001b[49m\u001b[43m \u001b[49m\u001b[43m=\u001b[49m\u001b[43m \u001b[49m\u001b[38;5;28;43;01mNone\u001b[39;49;00m\n\u001b[32m      5\u001b[39m \u001b[43m    \u001b[49m\u001b[43m__private_value\u001b[49m\u001b[43m \u001b[49m\u001b[43m=\u001b[49m\u001b[43m \u001b[49m\u001b[38;5;28;43;01mNone\u001b[39;49;00m\n",
      "\u001b[36mCell\u001b[39m\u001b[36m \u001b[39m\u001b[32mIn[2]\u001b[39m\u001b[32m, line 11\u001b[39m, in \u001b[36mHelloWorld\u001b[39m\u001b[34m()\u001b[39m\n\u001b[32m      8\u001b[39m     \u001b[38;5;28mself\u001b[39m.public_value = \u001b[32m10\u001b[39m\n\u001b[32m      9\u001b[39m     \u001b[38;5;28mself\u001b[39m.__private_value = \u001b[32m20\u001b[39m\n\u001b[32m---> \u001b[39m\u001b[32m11\u001b[39m h = \u001b[43mHelloWorld\u001b[49m()\n\u001b[32m     12\u001b[39m \u001b[38;5;28mprint\u001b[39m(h.public_value)\n\u001b[32m     13\u001b[39m \u001b[38;5;28mprint\u001b[39m(h.__private_value)\n",
      "\u001b[31mNameError\u001b[39m: name 'HelloWorld' is not defined"
     ]
    }
   ],
   "source": [
    "# 접근 한정자를 사용한 정보은닉(캡슐화)\n",
    "\n",
    "class HelloWorld:\n",
    "    public_value = None\n",
    "    __private_value = None\n",
    "\n",
    "    def __init__(self):\n",
    "        self.public_value = 10\n",
    "        self.__private_value = 20\n",
    "\n",
    "    h = HelloWorld()\n",
    "    print(h.public_value)\n",
    "    print(h.__private_value)"
   ]
  },
  {
   "cell_type": "markdown",
   "id": "c4be48bc",
   "metadata": {},
   "source": [
    "### 클래스 상속"
   ]
  },
  {
   "cell_type": "code",
   "execution_count": 3,
   "id": "59ff390c",
   "metadata": {},
   "outputs": [],
   "source": [
    "# 부모 클래스 정의하기\n",
    "\n",
    "class Terran:\n",
    "    name = None # 유닛의 이름\n",
    "    hp = None   # 유닛의 체력\n",
    "\n",
    "    def __init__(self, name, hp):\n",
    "        self.name = name\n",
    "        self.hp = hp\n",
    "\n",
    "    def info(self):\n",
    "        return\"[%s] hp : %d\" % (self.name, self.hp)"
   ]
  },
  {
   "cell_type": "code",
   "execution_count": 4,
   "id": "d7272432",
   "metadata": {},
   "outputs": [
    {
     "name": "stdout",
     "output_type": "stream",
     "text": [
      "[마린1] hp : 45\n",
      "[마린1] 총을 쏘아 100의 데미지를 입혔습니다.\n"
     ]
    }
   ],
   "source": [
    "# Marine은 Terran을 상속받아 공격 기능을 추가한다.\n",
    "class Marine(Terran):\n",
    "    # 기능 확장을 위해 추가된 메서드\n",
    "    def shoot(self, attack):\n",
    "        return\"[%s] 총을 쏘아 %d의 데미지를 입혔습니다.\" % (self.name, attack)\n",
    "\n",
    "# 부모 클래스의 생성자를 상속받기 때문에 name과 hp 파라미터를 전달할 수 있다.\n",
    "m = Marine('마린1', 45)\n",
    "print(m.info())\n",
    "print(m.shoot(100))"
   ]
  },
  {
   "cell_type": "code",
   "execution_count": 6,
   "id": "538dfae1",
   "metadata": {},
   "outputs": [
    {
     "name": "stdout",
     "output_type": "stream",
     "text": [
      "Parent 생성자\n",
      "Child 생성자\n",
      "A\n",
      "B\n"
     ]
    }
   ],
   "source": [
    "# 부모 클래스에 접근하기\n",
    "# super()\n",
    "\n",
    "class Parent:\n",
    "    def __init__(self):\n",
    "        print(\"Parent 생성자\")\n",
    "\n",
    "    def show(self):\n",
    "        print(\"A\")\n",
    "\n",
    "class Child(Parent):\n",
    "    def __init__(self):\n",
    "        super().__init__()\n",
    "        print(\"Child 생성자\")\n",
    "        \n",
    "    def show(self):\n",
    "        super().show()\n",
    "        print(\"B\")\n",
    "C = Child()\n",
    "C.show()            "
   ]
  },
  {
   "cell_type": "code",
   "execution_count": 16,
   "id": "667b1a80",
   "metadata": {},
   "outputs": [
    {
     "ename": "NameError",
     "evalue": "name 'terran' is not defined",
     "output_type": "error",
     "traceback": [
      "\u001b[31m---------------------------------------------------------------------------\u001b[39m",
      "\u001b[31mNameError\u001b[39m                                 Traceback (most recent call last)",
      "\u001b[36mCell\u001b[39m\u001b[36m \u001b[39m\u001b[32mIn[16]\u001b[39m\u001b[32m, line 3\u001b[39m\n\u001b[32m      1\u001b[39m \u001b[38;5;66;03m# super() 활용한 부모 기능 호출\u001b[39;00m\n\u001b[32m----> \u001b[39m\u001b[32m3\u001b[39m \u001b[38;5;28;01mclass\u001b[39;00m\u001b[38;5;250m \u001b[39m\u001b[34;01mMedic\u001b[39;00m(\u001b[43mterran\u001b[49m):\n\u001b[32m      4\u001b[39m     mana = \u001b[38;5;28;01mNone\u001b[39;00m\n\u001b[32m      6\u001b[39m     \u001b[38;5;28;01mdef\u001b[39;00m\u001b[38;5;250m \u001b[39m\u001b[34m__init__\u001b[39m(\u001b[38;5;28mself\u001b[39m, name, hp, mana):\n\u001b[32m      7\u001b[39m     \u001b[38;5;66;03m# 스스로의 생성자에 전달받은 파라미터를 부모 생성자에게 전달하여\u001b[39;00m\n\u001b[32m      8\u001b[39m     \u001b[38;5;66;03m#부모로부터 상속받은 속성(name, hp)를 초기화 한다.\u001b[39;00m\n",
      "\u001b[31mNameError\u001b[39m: name 'terran' is not defined"
     ]
    }
   ],
   "source": [
    "# super() 활용한 부모 기능 호출\n",
    "\n",
    "class Medic(terran):\n",
    "    mana = None\n",
    "\n",
    "    def __init__(self, name, hp, mana):\n",
    "    # 스스로의 생성자에 전달받은 파라미터를 부모 생성자에게 전달하여\n",
    "    #부모로부터 상속받은 속성(name, hp)를 초기화 한다.\n",
    "        super().__init__(name, hp)\n",
    "\n",
    "    #스스로 추가한 속성을 별도로 초기화 한다.\n",
    "        self.mana = mana\n",
    "\n",
    "# 부모에게 상속받은 기능을 포함하는 추가 기능\n",
    "    def info_ex(self):\n",
    "        info_msg = super().info()\n",
    "        info_msg += \", MANA: %d\" % self.mana\n",
    "        return info_msg\n",
    "# 부모에게 상속받은 기능 이외에 자신만의 고유 기능 추가\n",
    "    def heel(self, target):\n",
    "        self.mana -= 5\n",
    "        return \"[%s] %s의 체력을 회복시킵니다. (mana - 5)\" % (self.name, target)\n",
    "md = Medic('메딕1', 30, 100)\n",
    "print(md.info_ex())\n",
    "print(md.heel('마린1'))"
   ]
  },
  {
   "cell_type": "code",
   "execution_count": null,
   "id": "a3d71fed",
   "metadata": {},
   "outputs": [],
   "source": []
  }
 ],
 "metadata": {
  "kernelspec": {
   "display_name": "Python 3",
   "language": "python",
   "name": "python3"
  },
  "language_info": {
   "codemirror_mode": {
    "name": "ipython",
    "version": 3
   },
   "file_extension": ".py",
   "mimetype": "text/x-python",
   "name": "python",
   "nbconvert_exporter": "python",
   "pygments_lexer": "ipython3",
   "version": "3.13.9"
  }
 },
 "nbformat": 4,
 "nbformat_minor": 5
}
