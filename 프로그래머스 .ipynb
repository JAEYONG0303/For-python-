{
 "cells": [
  {
   "cell_type": "code",
   "execution_count": 1,
   "id": "8be0fb27",
   "metadata": {},
   "outputs": [
    {
     "name": "stdout",
     "output_type": "stream",
     "text": [
      "5\n",
      "102\n"
     ]
    }
   ],
   "source": [
    "def solution(num1, num2):\n",
    "    answer = num1 + num2\n",
    "    return answer\n",
    "    \n",
    "print(solution(2, 3))\n",
    "print(solution(100, 2))"
   ]
  },
  {
   "cell_type": "code",
   "execution_count": 2,
   "id": "fdfa3a7b",
   "metadata": {},
   "outputs": [],
   "source": [
    "def solution(num1, num2):\n",
    "    answer = (num1 // num2) \n",
    "    return answer"
   ]
  },
  {
   "cell_type": "markdown",
   "id": "f2fc0757",
   "metadata": {},
   "source": [
    "## #반복문\n",
    "### WHILE문\n"
   ]
  },
  {
   "cell_type": "code",
   "execution_count": null,
   "id": "87dfe1d2",
   "metadata": {},
   "outputs": [
    {
     "name": "stdout",
     "output_type": "stream",
     "text": [
      "X = 1\n",
      "X = 2\n",
      "X = 3\n",
      "X = 4\n",
      "X = 5\n",
      "X = 6\n",
      "X = 7\n",
      "X = 8\n",
      "X = 9\n",
      "X = 10\n",
      "최종값 11\n"
     ]
    }
   ],
   "source": [
    "# 1부터 10까지 1씩 증가하는 조건에서의 반복문\n",
    "X = 1\n",
    "while X <= 10:\n",
    "    print(\"X =\", X)\n",
    "    X += 1\n",
    "\n",
    "print(\"최종값\", X)"
   ]
  },
  {
   "cell_type": "code",
   "execution_count": 2,
   "id": "3c6943d0",
   "metadata": {},
   "outputs": [
    {
     "name": "stdout",
     "output_type": "stream",
     "text": [
      "6 x 1 = 6\n",
      "6 x 2 = 12\n",
      "6 x 3 = 18\n",
      "6 x 4 = 24\n",
      "6 x 5 = 30\n",
      "6 x 6 = 36\n",
      "6 x 7 = 42\n",
      "6 x 8 = 48\n",
      "6 x 9 = 54\n"
     ]
    }
   ],
   "source": [
    "# 구구단 출력하기\n",
    "\n",
    "x= int(input(\"숫자를 입력하세요.\"))\n",
    "\n",
    "# 구구단 출력하기\n",
    "y = 1\n",
    "while y < 10:\n",
    "    z = x * y\n",
    "    print( x, \"x\", y, \"=\", z)\n",
    "    y+=1"
   ]
  },
  {
   "cell_type": "code",
   "execution_count": 3,
   "id": "359ba091",
   "metadata": {},
   "outputs": [
    {
     "name": "stdout",
     "output_type": "stream",
     "text": [
      "x = 1 -> sum = 1\n",
      "x = 2 -> sum = 3\n",
      "x = 3 -> sum = 6\n",
      "x = 4 -> sum = 10\n",
      "x = 5 -> sum = 15\n",
      "x = 6 -> sum = 21\n",
      "x = 7 -> sum = 28\n",
      "x = 8 -> sum = 36\n",
      "x = 9 -> sum = 45\n",
      "x = 10 -> sum = 55\n"
     ]
    }
   ],
   "source": [
    "# 합계 구하기\n",
    "\n",
    "# 1~10까지의 총 합 구하기\n",
    "x = 1\n",
    "sum = 0\n",
    "while x <= 10:\n",
    "    sum += x\n",
    "    print(\"x =\", x, \"-> sum =\", sum)\n",
    "    x += 1"
   ]
  },
  {
   "cell_type": "code",
   "execution_count": 4,
   "id": "78dff26e",
   "metadata": {},
   "outputs": [
    {
     "name": "stdout",
     "output_type": "stream",
     "text": [
      "0\n",
      "10\n",
      "20\n",
      "30\n",
      "40\n"
     ]
    }
   ],
   "source": [
    "# 0부터 50전(49)까지 10씩 증가\n",
    "\n",
    "a = 0\n",
    "while a < 50:\n",
    "    print(a)\n",
    "    a += 10"
   ]
  },
  {
   "cell_type": "code",
   "execution_count": 6,
   "id": "d8f27b1b",
   "metadata": {},
   "outputs": [
    {
     "name": "stdout",
     "output_type": "stream",
     "text": [
      "10\n",
      "8\n",
      "6\n",
      "4\n",
      "2\n"
     ]
    }
   ],
   "source": [
    "# 10부터 0전(-1)까지 2씩 감소\n",
    "\n",
    "a = 10\n",
    "while a > 0:\n",
    "    print(a)\n",
    "    a -= 2"
   ]
  },
  {
   "cell_type": "code",
   "execution_count": 5,
   "id": "928df404",
   "metadata": {},
   "outputs": [],
   "source": [
    "def solution(price):\n",
    "    answer = 0\n",
    "    if price >= 500000:\n",
    "        return int (price * 0.8)\n",
    "    elif price >= 300000:\n",
    "        return int(price * 0.9)\n",
    "    elif price >= 100000:\n",
    "        return int(price * 0.95)\n",
    "    else:\n",
    "        answer = price\n",
    "    return answer"
   ]
  },
  {
   "cell_type": "code",
   "execution_count": 1,
   "id": "35e5d322",
   "metadata": {},
   "outputs": [],
   "source": [
    "# 문자열 계산하기\n",
    "\n",
    "def solution(my_string):\n",
    "    answer = eval(my_string)\n",
    "\n",
    "    return answer        "
   ]
  },
  {
   "cell_type": "markdown",
   "id": "17684df1",
   "metadata": {},
   "source": [
    "### 프로그램 흐름제어, 리스트 문제"
   ]
  },
  {
   "cell_type": "code",
   "execution_count": null,
   "id": "fac58781",
   "metadata": {},
   "outputs": [],
   "source": [
    "def solution(n):\n",
    "    answer = 0\n",
    "    for i in range(1, 1000001):\n",
    "        if i**2 == n:\n",
    "            answer = 1\n",
    "            break\n",
    "        else:\n",
    "            answer = 2\n",
    "    return answer"
   ]
  },
  {
   "cell_type": "code",
   "execution_count": 9,
   "id": "2bd2f1d5",
   "metadata": {},
   "outputs": [
    {
     "name": "stdout",
     "output_type": "stream",
     "text": [
      "**\n",
      "***\n",
      "****\n"
     ]
    }
   ],
   "source": [
    "n = int(input())\n",
    "\n",
    "for i in range(1, n+1):\n",
    "    star = '*'\n",
    "    for j in range(1, i+1):\n",
    "        star +='*'\n",
    "    print(star)\n"
   ]
  },
  {
   "cell_type": "code",
   "execution_count": null,
   "id": "b7c4f588",
   "metadata": {},
   "outputs": [],
   "source": [
    "# 등차수열, 등비수열\n",
    "\n",
    "def solution(common):\n",
    "    if common[1] - common[0] == (common[2] - common[1]):\n",
    "        answer = common[-1] + (common[1] - common[0])\n",
    "    elif common[1] // common[0] == (common[2] // common[1]):\n",
    "        answer = common[-1] * (common[1] // common[0])\n",
    "    return answer"
   ]
  },
  {
   "cell_type": "code",
   "execution_count": null,
   "id": "191cc2cb",
   "metadata": {},
   "outputs": [],
   "source": [
    "# 머쓱이 보다 키 큰 사람\n",
    "\n",
    "def solution(array, height):\n",
    "    answer = 0\n",
    "    for i in array:\n",
    "        if i > height:\n",
    "            answer += 1\n",
    "    return answer             \n",
    "\n",
    "# 오답노트: return answer의 위치"
   ]
  },
  {
   "cell_type": "code",
   "execution_count": null,
   "id": "872bbb2b",
   "metadata": {},
   "outputs": [],
   "source": [
    "# 배열의 유사도\n",
    "\n",
    "def solution(s1, s2):\n",
    "    answer = 0\n",
    "    for i in s1:\n",
    "        if i in s2:\n",
    "            answer += 1\n",
    "    return answer\n",
    "\n",
    "# 오답노트: answer = 0 선언 안함"
   ]
  },
  {
   "cell_type": "code",
   "execution_count": null,
   "id": "5d9909a0",
   "metadata": {},
   "outputs": [],
   "source": [
    "# 주사위 개수\n",
    "\n",
    "def solution(box, n):       # box라는 리스트, n이라는 정수를 정의\n",
    "    answer = 1              # answer 값을 1로 초기화 --> 곱셈을 누적할 예정\n",
    "    for i in box:           #  i라는 변수가 box 리스트 안에서 반복\n",
    "        answer *= i // n    # answer = answer * (i // n)\n",
    "    return answer           # answer에 반복 된 값 곱해서 저장"
   ]
  },
  {
   "cell_type": "code",
   "execution_count": 9,
   "id": "592221e8",
   "metadata": {},
   "outputs": [],
   "source": [
    "# 중복된 숫자 개수\n",
    "\n",
    "def solution(array, n):\n",
    "    answer = 0\n",
    "    for i in array:\n",
    "        if i == n:\n",
    "            answer += 1\n",
    "    return answer"
   ]
  },
  {
   "cell_type": "code",
   "execution_count": null,
   "id": "e28d3ab0",
   "metadata": {},
   "outputs": [],
   "source": [
    "# 짝수 홀수 개수\n",
    "\n",
    "def solution(num_list):\n",
    "    answer = [0, 0]\n",
    "    for i in num_list:\n",
    "        if i % 2 == 0:\n",
    "            answer[0] += 1\n",
    "        else:\n",
    "            answer[1] += 1\n",
    "    return answer\n",
    "        \n",
    "# 오답 노트: 4번째 줄 초기화 값을 정수형으로 함. 리스트 값을 구할 때는 리스트로 초기화!"
   ]
  },
  {
   "cell_type": "code",
   "execution_count": null,
   "id": "f9504e23",
   "metadata": {},
   "outputs": [],
   "source": [
    "# 짝수는 싫어요\n",
    "\n",
    "def solution(n):\n",
    "    answer = []\n",
    "    for i in range(1, 1+n):\n",
    "        if i % 2 != 0:\n",
    "            answer.append(i)\n",
    "    return answer\n",
    "\n",
    "# 오답 노트: append 함수 미숙지"
   ]
  },
  {
   "cell_type": "code",
   "execution_count": null,
   "id": "6735f314",
   "metadata": {},
   "outputs": [],
   "source": [
    "# 공 던지기\n",
    "\n",
    "def solution(numbers, k):\n",
    "    answer = 0 #공 던지는 사람 번호\n",
    "    index = 0 # 현재 공 가지고 있는 사람의 인덱스 번호\n",
    "    for i in range(k):\n",
    "        answer = numbers[index]\n",
    "        index = (index + 2) % len(numbers) #공식처럼 외워 놓기\n",
    "    return answer\n",
    "\n",
    "# 오답 노트: 문제 자체를 이해하지 못하겠음... 공식처럼 암기 ㄱㄱ"
   ]
  },
  {
   "cell_type": "code",
   "execution_count": 16,
   "id": "c125db66",
   "metadata": {},
   "outputs": [],
   "source": [
    "# 배열 두배 만들기\n",
    "\n",
    "def solution(numbers):\n",
    "    answer = []\n",
    "    for i in numbers:\n",
    "        answer.append(i * 2)\n",
    "    return answer"
   ]
  },
  {
   "cell_type": "code",
   "execution_count": null,
   "id": "2e9b4fca",
   "metadata": {},
   "outputs": [],
   "source": [
    "# 베열 뒤집기\n",
    "\n",
    "def solution(num_list):\n",
    "    answer =[]\n",
    "    for i in num_list:\n",
    "        answer = num_list[::-1]  # 요 부분 기억해 놓기\n",
    "    return answer"
   ]
  },
  {
   "cell_type": "code",
   "execution_count": 21,
   "id": "94a0d5d1",
   "metadata": {},
   "outputs": [],
   "source": [
    "# 배열의 평균값\n",
    "\n",
    "def solution(numbers):\n",
    "    return  sum(numbers) / len(numbers)\n"
   ]
  },
  {
   "cell_type": "code",
   "execution_count": 22,
   "id": "cadcdad3",
   "metadata": {},
   "outputs": [],
   "source": [
    "# 대문자와 소문자\n",
    "\n",
    "def solution(my_string):\n",
    "    answer = ''\n",
    "\n",
    "    for i in my_string:\n",
    "        if i == i.isupper:\n",
    "            answer += i.islower\n",
    "        else:\n",
    "            answer += i.isupper\n",
    "    return answer"
   ]
  },
  {
   "cell_type": "code",
   "execution_count": null,
   "id": "488707e5",
   "metadata": {},
   "outputs": [],
   "source": [
    "# 문자 반복 출력하기\n",
    "\n",
    "def solution(my_string, n):\n",
    "    answer = '' \n",
    "    for i in my_string:\n",
    "        answer += i*n\n",
    "    return answer"
   ]
  },
  {
   "cell_type": "code",
   "execution_count": 2,
   "id": "ace7e579",
   "metadata": {},
   "outputs": [],
   "source": [
    "# 문자열 계산\n",
    "\n",
    "def solution(my_string):\n",
    "    answer = eval(my_string)\n",
    "    return answer"
   ]
  },
  {
   "cell_type": "code",
   "execution_count": null,
   "id": "93041606",
   "metadata": {},
   "outputs": [],
   "source": [
    "# 문자열 뒤집기\n",
    "\n",
    "def solution(my_string):\n",
    "    answer = ''\n",
    "    for i in my_string:\n",
    "        answer = i + answer\n",
    "    return answer\n",
    "\n",
    "# 오답 노트: 6열 answer = i + answer을 생각해내지 못함. 순차적으로 문자열도 축적된다는 개념 숙지 필요"
   ]
  },
  {
   "cell_type": "code",
   "execution_count": 6,
   "id": "68af4279",
   "metadata": {},
   "outputs": [
    {
     "name": "stdout",
     "output_type": "stream",
     "text": [
      "hello world\n"
     ]
    }
   ],
   "source": [
    "print('hello world')"
   ]
  },
  {
   "cell_type": "code",
   "execution_count": null,
   "id": "4847d141",
   "metadata": {},
   "outputs": [],
   "source": []
  }
 ],
 "metadata": {
  "kernelspec": {
   "display_name": "base",
   "language": "python",
   "name": "python3"
  },
  "language_info": {
   "codemirror_mode": {
    "name": "ipython",
    "version": 3
   },
   "file_extension": ".py",
   "mimetype": "text/x-python",
   "name": "python",
   "nbconvert_exporter": "python",
   "pygments_lexer": "ipython3",
   "version": "3.13.5"
  }
 },
 "nbformat": 4,
 "nbformat_minor": 5
}
