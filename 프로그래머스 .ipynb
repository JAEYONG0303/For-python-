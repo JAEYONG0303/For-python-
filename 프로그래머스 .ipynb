{
 "cells": [
  {
   "cell_type": "code",
   "execution_count": 1,
   "id": "8be0fb27",
   "metadata": {},
   "outputs": [
    {
     "name": "stdout",
     "output_type": "stream",
     "text": [
      "5\n",
      "102\n"
     ]
    }
   ],
   "source": [
    "def solution(num1, num2):\n",
    "    answer = num1 + num2\n",
    "    return answer\n",
    "    \n",
    "print(solution(2, 3))\n",
    "print(solution(100, 2))"
   ]
  },
  {
   "cell_type": "code",
   "execution_count": 2,
   "id": "fdfa3a7b",
   "metadata": {},
   "outputs": [],
   "source": [
    "def solution(num1, num2):\n",
    "    answer = (num1 // num2) \n",
    "    return answer"
   ]
  },
  {
   "cell_type": "markdown",
   "id": "f2fc0757",
   "metadata": {},
   "source": [
    "## #반복문\n",
    "### WHILE문\n"
   ]
  },
  {
   "cell_type": "code",
   "execution_count": null,
   "id": "87dfe1d2",
   "metadata": {},
   "outputs": [
    {
     "name": "stdout",
     "output_type": "stream",
     "text": [
      "X = 1\n",
      "X = 2\n",
      "X = 3\n",
      "X = 4\n",
      "X = 5\n",
      "X = 6\n",
      "X = 7\n",
      "X = 8\n",
      "X = 9\n",
      "X = 10\n",
      "최종값 11\n"
     ]
    }
   ],
   "source": [
    "# 1부터 10까지 1씩 증가하는 조건에서의 반복문\n",
    "X = 1\n",
    "while X <= 10:\n",
    "    print(\"X =\", X)\n",
    "    X += 1\n",
    "\n",
    "print(\"최종값\", X)"
   ]
  },
  {
   "cell_type": "code",
   "execution_count": 2,
   "id": "3c6943d0",
   "metadata": {},
   "outputs": [
    {
     "name": "stdout",
     "output_type": "stream",
     "text": [
      "6 x 1 = 6\n",
      "6 x 2 = 12\n",
      "6 x 3 = 18\n",
      "6 x 4 = 24\n",
      "6 x 5 = 30\n",
      "6 x 6 = 36\n",
      "6 x 7 = 42\n",
      "6 x 8 = 48\n",
      "6 x 9 = 54\n"
     ]
    }
   ],
   "source": [
    "# 구구단 출력하기\n",
    "\n",
    "x= int(input(\"숫자를 입력하세요.\"))\n",
    "\n",
    "# 구구단 출력하기\n",
    "y = 1\n",
    "while y < 10:\n",
    "    z = x * y\n",
    "    print( x, \"x\", y, \"=\", z)\n",
    "    y+=1"
   ]
  },
  {
   "cell_type": "code",
   "execution_count": 3,
   "id": "359ba091",
   "metadata": {},
   "outputs": [
    {
     "name": "stdout",
     "output_type": "stream",
     "text": [
      "x = 1 -> sum = 1\n",
      "x = 2 -> sum = 3\n",
      "x = 3 -> sum = 6\n",
      "x = 4 -> sum = 10\n",
      "x = 5 -> sum = 15\n",
      "x = 6 -> sum = 21\n",
      "x = 7 -> sum = 28\n",
      "x = 8 -> sum = 36\n",
      "x = 9 -> sum = 45\n",
      "x = 10 -> sum = 55\n"
     ]
    }
   ],
   "source": [
    "# 합계 구하기\n",
    "\n",
    "# 1~10까지의 총 합 구하기\n",
    "x = 1\n",
    "sum = 0\n",
    "while x <= 10:\n",
    "    sum += x\n",
    "    print(\"x =\", x, \"-> sum =\", sum)\n",
    "    x += 1"
   ]
  },
  {
   "cell_type": "code",
   "execution_count": 4,
   "id": "78dff26e",
   "metadata": {},
   "outputs": [
    {
     "name": "stdout",
     "output_type": "stream",
     "text": [
      "0\n",
      "10\n",
      "20\n",
      "30\n",
      "40\n"
     ]
    }
   ],
   "source": [
    "# 0부터 50전(49)까지 10씩 증가\n",
    "\n",
    "a = 0\n",
    "while a < 50:\n",
    "    print(a)\n",
    "    a += 10"
   ]
  },
  {
   "cell_type": "code",
   "execution_count": 6,
   "id": "d8f27b1b",
   "metadata": {},
   "outputs": [
    {
     "name": "stdout",
     "output_type": "stream",
     "text": [
      "10\n",
      "8\n",
      "6\n",
      "4\n",
      "2\n"
     ]
    }
   ],
   "source": [
    "# 10부터 0전(-1)까지 2씩 감소\n",
    "\n",
    "a = 10\n",
    "while a > 0:\n",
    "    print(a)\n",
    "    a -= 2"
   ]
  },
  {
   "cell_type": "code",
   "execution_count": 9,
   "id": "928df404",
   "metadata": {},
   "outputs": [],
   "source": [
    "def solution(price):\n",
    "    answer = 0\n",
    "    if price >= 500000:\n",
    "        return int (price * 0.8)\n",
    "    elif price >= 300000:\n",
    "        return int(price * 0.9)\n",
    "    if price >= 100000:\n",
    "        return int(price * 0.95)\n",
    "    else:\n",
    "        answer = price\n",
    "    return answer"
   ]
  },
  {
   "cell_type": "code",
   "execution_count": null,
   "id": "35e5d322",
   "metadata": {},
   "outputs": [],
   "source": [
    "# 문자열 계산하기\n",
    "\n",
    "def solution(my_string):\n",
    "    answer = eval(my_string)\n",
    "\n",
    "    return answer        "
   ]
  },
  {
   "cell_type": "code",
   "execution_count": null,
   "id": "17684df1",
   "metadata": {},
   "outputs": [],
   "source": []
  }
 ],
 "metadata": {
  "kernelspec": {
   "display_name": "base",
   "language": "python",
   "name": "python3"
  },
  "language_info": {
   "codemirror_mode": {
    "name": "ipython",
    "version": 3
   },
   "file_extension": ".py",
   "mimetype": "text/x-python",
   "name": "python",
   "nbconvert_exporter": "python",
   "pygments_lexer": "ipython3",
   "version": "3.13.5"
  }
 },
 "nbformat": 4,
 "nbformat_minor": 5
}
