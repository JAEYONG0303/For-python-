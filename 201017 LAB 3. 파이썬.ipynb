{
 "cells": [
  {
   "cell_type": "markdown",
   "id": "d165fc7a",
   "metadata": {},
   "source": [
    "## # LAB 3. 프로그램 흐름제어\n",
    "### 중첩 조건문\n",
    "## 수정"
   ]
  },
  {
   "cell_type": "code",
   "execution_count": null,
   "id": "7188e866",
   "metadata": {},
   "outputs": [],
   "source": [
    "point = int(input(\"점수를 입력하세요\"))\n",
    "\n",
    "if point > 70:\n",
    "    print(\"패스입니다.\")\n",
    "\n",
    "    if point > 90:\n",
    "        print(\"A입니다.\")\n",
    "    elif point > 80:\n",
    "        print(\"B입니다.\")\n",
    "    else:\n",
    "        print(\"C입니다.\")\n",
    "else:\n",
    "    print(\"패스하지 못했습니다.\")   "
   ]
  },
  {
   "cell_type": "code",
   "execution_count": null,
   "id": "a1f22762",
   "metadata": {},
   "outputs": [
    {
     "name": "stdout",
     "output_type": "stream",
     "text": [
      "1 --> 홀수\n",
      "2 -->짝수\n",
      "3 --> 홀수\n",
      "4 -->짝수\n",
      "5 --> 홀수\n",
      "6 -->짝수\n",
      "7 --> 홀수\n",
      "8 -->짝수\n",
      "9 --> 홀수\n"
     ]
    }
   ],
   "source": [
    "# 반복문에 포함된 조건문\n",
    "\n",
    "number = int(input(\"숫자를 입력하세요\"))\n",
    "\n",
    "#총 합을 구하기 위해서는 반복문 전에 0으로 초기화 된 변수가 필요\n",
    "x = 0\n",
    "y = 0\n",
    "\n",
    "for i in range(1, number+1):\n",
    "    if i%2 == 0:\n",
    "        print(i, \"-->짝수\")\n",
    "        x += i\n",
    "    else:\n",
    "            print(i, \"--> 홀수\")\n",
    "            y += i\n",
    "\n",
    "print(\"짝수들의 합:\", x)\n",
    "print(\"홀수들의 합:\", y)"
   ]
  },
  {
   "cell_type": "code",
   "execution_count": 1,
   "id": "c942514d",
   "metadata": {},
   "outputs": [
    {
     "name": "stdout",
     "output_type": "stream",
     "text": [
      "0\n",
      "-----\n",
      "1\n",
      "-----\n",
      "2\n",
      "-----\n",
      "3\n",
      "-----\n",
      "4\n"
     ]
    }
   ],
   "source": [
    "# 반복문에 포함된 조건문 (2)\n",
    "\n",
    "for i in range(0, 5):\n",
    "    print(i)\n",
    "    # 조건값이 마지막이 아닌 경우만 실행토록 if문 구성\n",
    "    if i + 1 < 5:\n",
    "        print(\"-----\")"
   ]
  },
  {
   "cell_type": "code",
   "execution_count": 2,
   "id": "c054e483",
   "metadata": {},
   "outputs": [
    {
     "name": "stdout",
     "output_type": "stream",
     "text": [
      "15\n",
      "30\n",
      "45\n",
      "60\n",
      "75\n",
      "90\n"
     ]
    }
   ],
   "source": [
    "# 공배수 구하기\n",
    "\n",
    "x = 3\n",
    "y = 5\n",
    "\n",
    "for i in range(1,101):\n",
    "    if i % x == 0 and i % y == 0:\n",
    "        print(i)"
   ]
  },
  {
   "cell_type": "markdown",
   "id": "b87491fe",
   "metadata": {},
   "source": [
    "### 중첩 반복문\n"
   ]
  },
  {
   "cell_type": "code",
   "execution_count": 7,
   "id": "25f429e8",
   "metadata": {},
   "outputs": [
    {
     "name": "stdout",
     "output_type": "stream",
     "text": [
      "i에 대한 반복 수행 시작 : i--> 0\n",
      "::: i= 0 , j= 0\n",
      "::: i= 0 , j= 1\n",
      "::: i= 0 , j= 2\n",
      "::: i= 0 , j= 3\n",
      "::: i= 0 , j= 4\n",
      "::: i= 0 , j= 5\n",
      "i에 대한 반복 종료\n",
      "--------------------------\n",
      "i에 대한 반복 수행 시작 : i--> 1\n",
      "::: i= 1 , j= 0\n",
      "::: i= 1 , j= 1\n",
      "::: i= 1 , j= 2\n",
      "::: i= 1 , j= 3\n",
      "::: i= 1 , j= 4\n",
      "::: i= 1 , j= 5\n",
      "i에 대한 반복 종료\n",
      "--------------------------\n",
      "i에 대한 반복 수행 시작 : i--> 2\n",
      "::: i= 2 , j= 0\n",
      "::: i= 2 , j= 1\n",
      "::: i= 2 , j= 2\n",
      "::: i= 2 , j= 3\n",
      "::: i= 2 , j= 4\n",
      "::: i= 2 , j= 5\n",
      "i에 대한 반복 종료\n"
     ]
    }
   ],
   "source": [
    "for i in range(0,3):\n",
    "    print(\"i에 대한 반복 수행 시작 : i-->\", i)\n",
    "\n",
    "    for j in range(0, 6):\n",
    "        print(\"::: i=\", i, \", j=\", j)\n",
    "    print(\"i에 대한 반복 종료\")\n",
    "\n",
    "    if i + 1 < 3:\n",
    "        print(\"--------------------------\")"
   ]
  },
  {
   "cell_type": "markdown",
   "id": "68bc8c4b",
   "metadata": {},
   "source": [
    "## #중첩 반복문 2\n",
    "### 구구단\n"
   ]
  },
  {
   "cell_type": "code",
   "execution_count": 9,
   "id": "8e9881e4",
   "metadata": {},
   "outputs": [
    {
     "name": "stdout",
     "output_type": "stream",
     "text": [
      "2 x 1 = 2\n",
      "2 x 2 = 4\n",
      "2 x 3 = 6\n",
      "2 x 4 = 8\n",
      "2 x 5 = 10\n",
      "2 x 6 = 12\n",
      "2 x 7 = 14\n",
      "2 x 8 = 16\n",
      "2 x 9 = 18\n",
      "------\n",
      "3 x 1 = 3\n",
      "3 x 2 = 6\n",
      "3 x 3 = 9\n",
      "3 x 4 = 12\n",
      "3 x 5 = 15\n",
      "3 x 6 = 18\n",
      "3 x 7 = 21\n",
      "3 x 8 = 24\n",
      "3 x 9 = 27\n",
      "------\n",
      "4 x 1 = 4\n",
      "4 x 2 = 8\n",
      "4 x 3 = 12\n",
      "4 x 4 = 16\n",
      "4 x 5 = 20\n",
      "4 x 6 = 24\n",
      "4 x 7 = 28\n",
      "4 x 8 = 32\n",
      "4 x 9 = 36\n",
      "------\n",
      "5 x 1 = 5\n",
      "5 x 2 = 10\n",
      "5 x 3 = 15\n",
      "5 x 4 = 20\n",
      "5 x 5 = 25\n",
      "5 x 6 = 30\n",
      "5 x 7 = 35\n",
      "5 x 8 = 40\n",
      "5 x 9 = 45\n",
      "------\n",
      "6 x 1 = 6\n",
      "6 x 2 = 12\n",
      "6 x 3 = 18\n",
      "6 x 4 = 24\n",
      "6 x 5 = 30\n",
      "6 x 6 = 36\n",
      "6 x 7 = 42\n",
      "6 x 8 = 48\n",
      "6 x 9 = 54\n",
      "------\n",
      "7 x 1 = 7\n",
      "7 x 2 = 14\n",
      "7 x 3 = 21\n",
      "7 x 4 = 28\n",
      "7 x 5 = 35\n",
      "7 x 6 = 42\n",
      "7 x 7 = 49\n",
      "7 x 8 = 56\n",
      "7 x 9 = 63\n",
      "------\n",
      "8 x 1 = 8\n",
      "8 x 2 = 16\n",
      "8 x 3 = 24\n",
      "8 x 4 = 32\n",
      "8 x 5 = 40\n",
      "8 x 6 = 48\n",
      "8 x 7 = 56\n",
      "8 x 8 = 64\n",
      "8 x 9 = 72\n",
      "------\n",
      "9 x 1 = 9\n",
      "9 x 2 = 18\n",
      "9 x 3 = 27\n",
      "9 x 4 = 36\n",
      "9 x 5 = 45\n",
      "9 x 6 = 54\n",
      "9 x 7 = 63\n",
      "9 x 8 = 72\n",
      "9 x 9 = 81\n"
     ]
    }
   ],
   "source": [
    "# i의 변화범위 2~9\n",
    "for i in range(2, 10):\n",
    "\n",
    "    #i가 1 증가하는 동안 j의 값이 매번 1~9까지 새로 시작\n",
    "    for j in range(1,10):\n",
    "        k = i* j\n",
    "        print(i, \"x\", j, \"=\", k)\n",
    "\n",
    "    if i+1 < 10:\n",
    "        print(\"------\")"
   ]
  },
  {
   "cell_type": "code",
   "execution_count": 13,
   "id": "2386bfbc",
   "metadata": {},
   "outputs": [
    {
     "name": "stdout",
     "output_type": "stream",
     "text": [
      "*\n",
      "**\n",
      "***\n",
      "****\n",
      "*****\n"
     ]
    }
   ],
   "source": [
    "# 별 찍기 문제!\n",
    "\n",
    "for i in range(0, 5):\n",
    "    star = \"\"\n",
    "    for j in range(0, i+1):\n",
    "        star += \"*\"\n",
    "\n",
    "    print(star)"
   ]
  },
  {
   "cell_type": "code",
   "execution_count": 33,
   "id": "3f1701ec",
   "metadata": {},
   "outputs": [
    {
     "name": "stdout",
     "output_type": "stream",
     "text": [
      "*****\n",
      "****\n",
      "***\n",
      "**\n",
      "*\n"
     ]
    }
   ],
   "source": [
    "# 별 찍기 리버스\n",
    "\n",
    "for i in range(0, 5):\n",
    "    star = \"\"\n",
    "    for j in range(0, 5-i):\n",
    "        star += \"*\"\n",
    "\n",
    "    print(star)  "
   ]
  },
  {
   "cell_type": "code",
   "execution_count": null,
   "id": "7ad5ab4b",
   "metadata": {},
   "outputs": [
    {
     "name": "stdout",
     "output_type": "stream",
     "text": [
      "hello python\n",
      "hello python\n",
      "hello python\n",
      "hello python\n",
      "hello python\n"
     ]
    }
   ],
   "source": [
    "\n"
   ]
  },
  {
   "cell_type": "code",
   "execution_count": null,
   "id": "3c105d52",
   "metadata": {},
   "outputs": [],
   "source": []
  }
 ],
 "metadata": {
  "kernelspec": {
   "display_name": "Python 3",
   "language": "python",
   "name": "python3"
  },
  "language_info": {
   "codemirror_mode": {
    "name": "ipython",
    "version": 3
   },
   "file_extension": ".py",
   "mimetype": "text/x-python",
   "name": "python",
   "nbconvert_exporter": "python",
   "pygments_lexer": "ipython3",
   "version": "3.13.9"
  }
 },
 "nbformat": 4,
 "nbformat_minor": 5
}
