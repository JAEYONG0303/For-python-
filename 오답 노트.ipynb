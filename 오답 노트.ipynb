{
 "cells": [
  {
   "cell_type": "markdown",
   "id": "e01d9e9e",
   "metadata": {},
   "source": [
    "## 오답 노트 \n"
   ]
  },
  {
   "cell_type": "markdown",
   "id": "db057f68",
   "metadata": {},
   "source": [
    "### 1."
   ]
  },
  {
   "cell_type": "code",
   "execution_count": null,
   "id": "64fa4ed6",
   "metadata": {},
   "outputs": [],
   "source": [
    "# 다음 중 True식은?\n",
    "\n",
    "# 1. 100 >= 50\n",
    "# 2. 100 == 50\n",
    "# 3. 100 <= 50\n",
    "# 4. 100 < 50\n",
    "\n",
    "# <= : 이하, >=:이상\n",
    "\n",
    "# 틀린 이유: 연산자(>=, <=)에 대한 이해 부족"
   ]
  },
  {
   "cell_type": "markdown",
   "id": "f366c893",
   "metadata": {},
   "source": [
    "### 2. "
   ]
  },
  {
   "cell_type": "code",
   "execution_count": null,
   "id": "b01ca2e2",
   "metadata": {},
   "outputs": [],
   "source": [
    "# True 논리식은?\n",
    "\n",
    "# False and False\n",
    "# not True\n",
    "# True and False\n",
    "# True or False\n",
    "\n",
    "# True and True, True or False == True\n",
    "# True and False, False and False == False\n",
    "\n",
    "# 틀린 이유: Boolen 값에 대한 이해 부족"
   ]
  },
  {
   "cell_type": "markdown",
   "id": "d626a143",
   "metadata": {},
   "source": [
    "### 3."
   ]
  },
  {
   "cell_type": "code",
   "execution_count": null,
   "id": "24486c71",
   "metadata": {},
   "outputs": [],
   "source": [
    "# a = 123, 이후 a = 1000을 재할당하였다. print(a)의 값은?\n",
    "\n",
    "# 변수(a)에 값은 재할당 가능하다. 맨 마지막에 할당된 값을 출력\n",
    "# 틀린 이유: 재할당에 대한 개념 부족"
   ]
  },
  {
   "cell_type": "markdown",
   "id": "32fb8ff5",
   "metadata": {},
   "source": [
    "### 4."
   ]
  },
  {
   "cell_type": "code",
   "execution_count": 4,
   "id": "7b6c8fd1",
   "metadata": {},
   "outputs": [],
   "source": [
    "# a = 1, b = 2 이고, 이후 a,b = b,a로 재선언 print(a), print(b)는?\n",
    "\n",
    "# 틀린 이유: a,b = b,a 식을 간과함"
   ]
  },
  {
   "cell_type": "markdown",
   "id": "10a175dd",
   "metadata": {},
   "source": [
    "### 5."
   ]
  },
  {
   "cell_type": "code",
   "execution_count": 5,
   "id": "ef96b9d0",
   "metadata": {},
   "outputs": [],
   "source": [
    "# x = 100, y = 100.0 일 때 False인 것은?\n",
    "\n",
    "# x is y\n",
    "# x == y\n",
    "# x is not y\n",
    "# 둘 다 숫자 값을 가진다.\n",
    "\n",
    "# 틀린 이유: is와 ==의 개념 부족\n",
    "  "
   ]
  },
  {
   "cell_type": "markdown",
   "id": "c4c99813",
   "metadata": {},
   "source": [
    "### 6."
   ]
  },
  {
   "cell_type": "code",
   "execution_count": 6,
   "id": "3a4e8008",
   "metadata": {},
   "outputs": [],
   "source": [
    "# int(\"100\")의 값은?\n",
    "\n",
    "# 틀린 이유: int()의 괄호 안의 값에 대한 이해 부족"
   ]
  },
  {
   "cell_type": "markdown",
   "id": "7c0ab9d0",
   "metadata": {},
   "source": [
    "### 7."
   ]
  },
  {
   "cell_type": "code",
   "execution_count": 7,
   "id": "1d002614",
   "metadata": {},
   "outputs": [],
   "source": [
    "# if name:... 에서 name이 ''일때 실행되는가?\n",
    "\n",
    "# 틀린 이유: 문자열, 0, none은 False 값으로 간주. "
   ]
  },
  {
   "cell_type": "markdown",
   "id": "f7c69ccc",
   "metadata": {},
   "source": [
    "### 8."
   ]
  },
  {
   "cell_type": "code",
   "execution_count": null,
   "id": "ec6bfb99",
   "metadata": {},
   "outputs": [],
   "source": [
    "# 최고점과 최저점을 제외한 점수 평균 구하는 식은?\n",
    "\n",
    "# 1. score.remove(max(score)); scroe.remove(min(score)); sum(score)/len(score)\n",
    "# 2. (sum(score)- max(score)-min(score))/len(score)\n",
    "# 3. socre.sort(); (sum(score)-score[0]-score[-1]/len(score)-2)\n",
    "# 4. sum(score)/len(score)\n",
    "\n",
    "\n",
    "# 내가 고른 답: 1번\n",
    "# 틀린 이유: 최고점이나 최저점이 1개가 아닌 2개씩 있을 경우, 값이 원하는대로 안나올 수 있음. "
   ]
  },
  {
   "cell_type": "markdown",
   "id": "db6d4dbe",
   "metadata": {},
   "source": [
    "### 9. 수정"
   ]
  },
  {
   "cell_type": "code",
   "execution_count": 9,
   "id": "d160d595",
   "metadata": {},
   "outputs": [],
   "source": [
    "# 리스트에서 모든 홀수를 제거하는 코드로 가장 적절한 것은?\n",
    "\n",
    "# 1. numbers = [x for x in numbers if x % 2 == 0]\n",
    "# 2. numbers.filter(lambda x:x % 2 == 0)\n",
    "# 3. for n in numbers: if n % 2 != 0: numbers.remove(n)\n",
    "# 4. del numbers[1::2}]\n",
    "\n",
    "# 내가 고른 답: 3번\n",
    "# 틀린 이유: "
   ]
  },
  {
   "cell_type": "markdown",
   "id": "c63f1228",
   "metadata": {},
   "source": [
    "### 10."
   ]
  },
  {
   "cell_type": "code",
   "execution_count": 11,
   "id": "299d034c",
   "metadata": {},
   "outputs": [],
   "source": [
    "# a = [1,2,3] a.pop()은?\n",
    "\n",
    "# 1.[1,2]\n",
    "# 2. None\n",
    "# 3. 1\n",
    "# 4. 3\n",
    "\n",
    "# 내가 고른 답: 2번\n",
    "# 틀린이유: pop()에서 설정을 안해주면, 마지막 값이 제거된 후 반환된다."
   ]
  },
  {
   "cell_type": "markdown",
   "id": "47cb9f90",
   "metadata": {},
   "source": [
    "### 11."
   ]
  },
  {
   "cell_type": "code",
   "execution_count": null,
   "id": "71de85b4",
   "metadata": {},
   "outputs": [],
   "source": [
    "# a = ['a','b','c'] 일 때, '-'.join(a)는?\n",
    "\n",
    "# 'a-b-c'\n",
    "# 'abc-'\n",
    "# "
   ]
  }
 ],
 "metadata": {
  "kernelspec": {
   "display_name": "base",
   "language": "python",
   "name": "python3"
  },
  "language_info": {
   "codemirror_mode": {
    "name": "ipython",
    "version": 3
   },
   "file_extension": ".py",
   "mimetype": "text/x-python",
   "name": "python",
   "nbconvert_exporter": "python",
   "pygments_lexer": "ipython3",
   "version": "3.13.5"
  }
 },
 "nbformat": 4,
 "nbformat_minor": 5
}
