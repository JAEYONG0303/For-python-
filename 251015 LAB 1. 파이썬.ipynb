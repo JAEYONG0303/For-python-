{
 "cells": [
  {
   "cell_type": "markdown",
   "id": "a5ed509b",
   "metadata": {},
   "source": [
    "# Lab 01 - 파이썬 시작하기, 변수와 연산자\n",
    "\n",
    "## #03. 첫 번째 프로그램\n",
    "\n",
    "###소스코드 작성하기"
   ]
  },
  {
   "cell_type": "code",
   "execution_count": 3,
   "id": "0e942bfd",
   "metadata": {},
   "outputs": [
    {
     "name": "stdout",
     "output_type": "stream",
     "text": [
      "Hello world\n"
     ]
    }
   ],
   "source": [
    "# 메시지를 출력하는 명령어\n",
    "print(\"Hello world\")"
   ]
  },
  {
   "cell_type": "code",
   "execution_count": 1,
   "id": "c6379c04",
   "metadata": {},
   "outputs": [
    {
     "name": "stdout",
     "output_type": "stream",
     "text": [
      "300\n"
     ]
    }
   ],
   "source": [
    "a = 100   #100을 의미하는 a라는 데이터 생성\n",
    "b = 200   #200을 의미하는 b라는 데이터 생성\n",
    "\n",
    "# 합산 결과 출력하기\n",
    "print(a+b)"
   ]
  },
  {
   "cell_type": "code",
   "execution_count": 7,
   "id": "b2ee6fa2",
   "metadata": {},
   "outputs": [
    {
     "name": "stdout",
     "output_type": "stream",
     "text": [
      "파이썬\n",
      "20\n",
      "175\n"
     ]
    }
   ],
   "source": [
    "# 교안 예시\n",
    "myName = '파이썬'\n",
    "myAge = 20\n",
    "myHeight = 175\n",
    "\n",
    "print(myName)\n",
    "print(myAge)\n",
    "print(myHeight)"
   ]
  },
  {
   "cell_type": "markdown",
   "id": "341c7358",
   "metadata": {},
   "source": [
    "## #04. 변수의 이해\n",
    "\n",
    "### 다양한 변수 만들기"
   ]
  },
  {
   "cell_type": "code",
   "execution_count": 8,
   "id": "157f36e4",
   "metadata": {},
   "outputs": [
    {
     "name": "stdout",
     "output_type": "stream",
     "text": [
      "123\n",
      "-456\n"
     ]
    }
   ],
   "source": [
    "# 변수 만들기 (오른쪽에서 왼쪽으로 대입 -> 최초대입을 초기화 라고 함)\n",
    "#-> 이름 = 값\n",
    "\n",
    "a = 123\n",
    "b = -456\n",
    "print(a)\n",
    "print(b)"
   ]
  },
  {
   "cell_type": "code",
   "execution_count": 9,
   "id": "2508450b",
   "metadata": {},
   "outputs": [
    {
     "name": "stdout",
     "output_type": "stream",
     "text": [
      "10000\n"
     ]
    }
   ],
   "source": [
    "# 한 번 할당된 변수는 다른 값으로 변경 가능\n",
    "a = 10000\n",
    "print(a)"
   ]
  },
  {
   "cell_type": "code",
   "execution_count": 10,
   "id": "9be27195",
   "metadata": {},
   "outputs": [
    {
     "name": "stdout",
     "output_type": "stream",
     "text": [
      "1.2\n",
      "-3.45\n"
     ]
    }
   ],
   "source": [
    "# 실수형 변수 만들기\n",
    "c = 1.2\n",
    "d = -3.45\n",
    "print(c)\n",
    "print(d)"
   ]
  },
  {
   "cell_type": "code",
   "execution_count": 12,
   "id": "5a7fdcde",
   "metadata": {},
   "outputs": [
    {
     "name": "stdout",
     "output_type": "stream",
     "text": [
      "True\n"
     ]
    }
   ],
   "source": [
    "a = True   # 참을 의미하는 키워드 True를 a에 할당\n",
    "print(a)"
   ]
  },
  {
   "cell_type": "markdown",
   "id": "fb8846ad",
   "metadata": {},
   "source": [
    "### 문자열 변수"
   ]
  },
  {
   "cell_type": "code",
   "execution_count": 13,
   "id": "369d6ea3",
   "metadata": {},
   "outputs": [
    {
     "name": "stdout",
     "output_type": "stream",
     "text": [
      "안녕하세요. 파이썬\n"
     ]
    }
   ],
   "source": [
    "# 문자열 변수\n",
    "msg = '안녕하세요. 파이썬'\n",
    "print(msg)  "
   ]
  },
  {
   "cell_type": "markdown",
   "id": "3e9d64c9",
   "metadata": {},
   "source": [
    "### 내용이 없는 변수"
   ]
  },
  {
   "cell_type": "code",
   "execution_count": 14,
   "id": "f61099fc",
   "metadata": {},
   "outputs": [
    {
     "name": "stdout",
     "output_type": "stream",
     "text": [
      "None\n"
     ]
    }
   ],
   "source": [
    "# 내용이 없는 변수\n",
    "hello = None\n",
    "print(hello)"
   ]
  },
  {
   "cell_type": "markdown",
   "id": "4bfc467d",
   "metadata": {},
   "source": [
    "## #05. 연산자의 활용\n",
    "\n",
    "### 대입 연산자를 활용한 swap 처리"
   ]
  },
  {
   "cell_type": "code",
   "execution_count": 15,
   "id": "5812b351",
   "metadata": {},
   "outputs": [
    {
     "name": "stdout",
     "output_type": "stream",
     "text": [
      "1\n",
      "2\n",
      "2\n",
      "1\n"
     ]
    }
   ],
   "source": [
    "a = 1\n",
    "b = 2\n",
    "print(a)\n",
    "print(b)\n",
    "\n",
    "a, b = b, a\n",
    "print(a)\n",
    "print(b)"
   ]
  },
  {
   "cell_type": "markdown",
   "id": "a5f0169e",
   "metadata": {},
   "source": [
    "### 산술 연산자 사용하기"
   ]
  },
  {
   "cell_type": "code",
   "execution_count": 16,
   "id": "55af2c05",
   "metadata": {},
   "outputs": [
    {
     "name": "stdout",
     "output_type": "stream",
     "text": [
      "7\n"
     ]
    }
   ],
   "source": [
    "# 연산 결과는 새로운 변수에 할당 하거나 직접 출력 가능\n",
    "a = 3\n",
    "b = 4\n",
    "c = a + b\n",
    "print(c)"
   ]
  },
  {
   "cell_type": "code",
   "execution_count": 17,
   "id": "0e571b07",
   "metadata": {},
   "outputs": [
    {
     "name": "stdout",
     "output_type": "stream",
     "text": [
      "-1\n",
      "12\n",
      "0.75\n"
     ]
    }
   ],
   "source": [
    "# 연산결과 직접 출력\n",
    "print( a - b)\n",
    "print( a * b)\n",
    "print( a / b)"
   ]
  },
  {
   "cell_type": "markdown",
   "id": "7de88c02",
   "metadata": {},
   "source": [
    "### 나눗셈과 거듭제곱"
   ]
  },
  {
   "cell_type": "code",
   "execution_count": 18,
   "id": "77bde5dd",
   "metadata": {},
   "outputs": [
    {
     "name": "stdout",
     "output_type": "stream",
     "text": [
      "3.3333333333333335\n"
     ]
    }
   ],
   "source": [
    "# 나눗셈의 몫을 구한다\n",
    "# -> 처리 가능한 단위까지 계싼함(마지막 오차발생)\n",
    "print( 10/3 )"
   ]
  },
  {
   "cell_type": "code",
   "execution_count": 19,
   "id": "bf36daad",
   "metadata": {},
   "outputs": [
    {
     "name": "stdout",
     "output_type": "stream",
     "text": [
      "3\n"
     ]
    }
   ],
   "source": [
    "# 나눗셈에서 소수점 아래를 버리고 몫만 계산\n",
    "print( 10 // 3)"
   ]
  },
  {
   "cell_type": "code",
   "execution_count": 20,
   "id": "98d31d0b",
   "metadata": {},
   "outputs": [
    {
     "name": "stdout",
     "output_type": "stream",
     "text": [
      "1\n"
     ]
    }
   ],
   "source": [
    "# 나눗셈의 나머지를 구한다.\n",
    "# -> 정수 단위에서만 연산후 종료\n",
    "print(10%3)"
   ]
  },
  {
   "cell_type": "code",
   "execution_count": 21,
   "id": "5fd6e7b0",
   "metadata": {},
   "outputs": [
    {
     "name": "stdout",
     "output_type": "stream",
     "text": [
      "243\n"
     ]
    }
   ],
   "source": [
    "# 거듭제곱\n",
    "print(3**5)"
   ]
  },
  {
   "cell_type": "markdown",
   "id": "c4850628",
   "metadata": {},
   "source": [
    "### 단항 연산자"
   ]
  },
  {
   "cell_type": "code",
   "execution_count": 23,
   "id": "e4f6870e",
   "metadata": {},
   "outputs": [
    {
     "name": "stdout",
     "output_type": "stream",
     "text": [
      "1\n"
     ]
    }
   ],
   "source": [
    "a = 1\n",
    "a += 100           # 100 + 1 -> 101\n",
    "a *= 10            # 101 * 10 -> 1010\n",
    "a //= 3            # 1010 // 3 -> 336\n",
    "a %= 5             # 336 % 5 -> 1\n",
    "print(a)"
   ]
  },
  {
   "cell_type": "markdown",
   "id": "ef75ec23",
   "metadata": {},
   "source": [
    "### 비교 연산자"
   ]
  },
  {
   "cell_type": "code",
   "execution_count": 26,
   "id": "3a023df6",
   "metadata": {},
   "outputs": [
    {
     "name": "stdout",
     "output_type": "stream",
     "text": [
      "False\n",
      "True\n",
      "True\n",
      "True\n",
      "False\n",
      "False\n"
     ]
    }
   ],
   "source": [
    "# 결과값이 True 혹은 False가 된다\n",
    "print( 100 == 50)\n",
    "print( 100 != 50)\n",
    "print( 100 >= 50)\n",
    "print( 100 > 50)\n",
    "print( 100 < 50)\n",
    "print( 100 <= 50)"
   ]
  },
  {
   "cell_type": "code",
   "execution_count": 27,
   "id": "0a16d850",
   "metadata": {},
   "outputs": [
    {
     "name": "stdout",
     "output_type": "stream",
     "text": [
      "True\n"
     ]
    }
   ],
   "source": [
    "# 비교연산도 하나의 수식이므로 결과를 다른 변수에 할당 가능함\n",
    "result = 100 > 50\n",
    "print(result)"
   ]
  },
  {
   "cell_type": "markdown",
   "id": "211c3e2c",
   "metadata": {},
   "source": [
    "### 논리 연산자"
   ]
  },
  {
   "cell_type": "code",
   "execution_count": 29,
   "id": "6b5157b3",
   "metadata": {},
   "outputs": [
    {
     "name": "stdout",
     "output_type": "stream",
     "text": [
      "True\n",
      "False\n",
      "False\n",
      "False\n"
     ]
    }
   ],
   "source": [
    "# 논리연산자 (and) --> 전체가 True인 경우만 결과값이 True\n",
    "print( True and True)\n",
    "print( True and False)\n",
    "print( False and True)\n",
    "print( False and False)"
   ]
  },
  {
   "cell_type": "code",
   "execution_count": 30,
   "id": "b7719306",
   "metadata": {},
   "outputs": [
    {
     "name": "stdout",
     "output_type": "stream",
     "text": [
      "True\n",
      "True\n",
      "True\n",
      "False\n"
     ]
    }
   ],
   "source": [
    "# 논리연산자 (or) --> 하나라도 True가 포함되어 있다면 결과값이 True\n",
    "print( True or True)\n",
    "print( True or False)\n",
    "print( False or True)\n",
    "print( False or False)"
   ]
  },
  {
   "cell_type": "code",
   "execution_count": 31,
   "id": "68a8a363",
   "metadata": {},
   "outputs": [
    {
     "name": "stdout",
     "output_type": "stream",
     "text": [
      "False\n"
     ]
    }
   ],
   "source": [
    "# True에 대한 부정\n",
    "print(not True)"
   ]
  },
  {
   "cell_type": "code",
   "execution_count": 32,
   "id": "e28b5ce4",
   "metadata": {},
   "outputs": [
    {
     "name": "stdout",
     "output_type": "stream",
     "text": [
      "True\n"
     ]
    }
   ],
   "source": [
    "# False에 대한 부정\n",
    "print(not False)"
   ]
  },
  {
   "cell_type": "code",
   "execution_count": 33,
   "id": "8a0ec41e",
   "metadata": {},
   "outputs": [
    {
     "name": "stdout",
     "output_type": "stream",
     "text": [
      "False\n"
     ]
    }
   ],
   "source": [
    "# 논리값을 저장하는 변수를 부정하여 그 결과를 다른 변수에 할당\n",
    "mybool = True\n",
    "reverse = not mybool\n",
    "print(reverse)"
   ]
  },
  {
   "cell_type": "markdown",
   "id": "5e7b6d26",
   "metadata": {},
   "source": [
    "### 비교 연산과 논리 연산의 결합\n"
   ]
  },
  {
   "cell_type": "code",
   "execution_count": 34,
   "id": "f0849842",
   "metadata": {},
   "outputs": [
    {
     "name": "stdout",
     "output_type": "stream",
     "text": [
      "True\n"
     ]
    }
   ],
   "source": [
    "# 비교연산의 결과값은 bool형식이므로 논리연산이 가능함\n",
    "a = 100 > 50\n",
    "b = 20 > 10\n",
    "print( a and b )\n"
   ]
  },
  {
   "cell_type": "code",
   "execution_count": 35,
   "id": "3dfffaad",
   "metadata": {},
   "outputs": [
    {
     "name": "stdout",
     "output_type": "stream",
     "text": [
      "False\n"
     ]
    }
   ],
   "source": [
    "# \"비교 연산 --> 논리 연산\"의 순서로 처리됨\n",
    "c = 100 >= 100 and 50 ==10\n",
    "print(c)"
   ]
  },
  {
   "cell_type": "code",
   "execution_count": 36,
   "id": "088f0945",
   "metadata": {},
   "outputs": [
    {
     "name": "stdout",
     "output_type": "stream",
     "text": [
      "True\n"
     ]
    }
   ],
   "source": [
    "print( 100 != 200 and 100 == 100)"
   ]
  },
  {
   "cell_type": "markdown",
   "id": "3b3b3b8d",
   "metadata": {},
   "source": [
    "### 완전 항등 연산자 'is'"
   ]
  },
  {
   "cell_type": "code",
   "execution_count": 37,
   "id": "65c0f7db",
   "metadata": {},
   "outputs": [],
   "source": [
    "# 비교를 위한 변수값 정의\n",
    "x = 100\n",
    "y = 100.0\n"
   ]
  },
  {
   "cell_type": "code",
   "execution_count": null,
   "id": "663a9d92",
   "metadata": {},
   "outputs": [
    {
     "name": "stdout",
     "output_type": "stream",
     "text": [
      "True\n",
      "False\n"
     ]
    }
   ],
   "source": [
    "# 단순 비교 연산자는 정수와 실수를 구분하지 않는다.\n",
    "print( x == y ) # 1과 1.0을 같다고 판별하므로 True\n",
    "print( x != y ) # 1rhk 1.0을 다르다고 판별할 경우 False\n",
    " "
   ]
  },
  {
   "cell_type": "code",
   "execution_count": 39,
   "id": "2ce3d23a",
   "metadata": {},
   "outputs": [
    {
     "name": "stdout",
     "output_type": "stream",
     "text": [
      "False\n",
      "True\n"
     ]
    }
   ],
   "source": [
    "# is 연산자는 비교하는 값의 데이터 타입까지 일치해야만 True\n",
    "print( x is y)       # 정수와 실수가 같다는 의미이므로 False\n",
    "print( x is not y)   # 정수와 실수는 데이터 타입이 다르므로 내용이 같더라도 다른 값으로 판별"
   ]
  },
  {
   "cell_type": "code",
   "execution_count": null,
   "id": "924b88f4",
   "metadata": {},
   "outputs": [],
   "source": []
  }
 ],
 "metadata": {
  "kernelspec": {
   "display_name": "Python 3",
   "language": "python",
   "name": "python3"
  },
  "language_info": {
   "codemirror_mode": {
    "name": "ipython",
    "version": 3
   },
   "file_extension": ".py",
   "mimetype": "text/x-python",
   "name": "python",
   "nbconvert_exporter": "python",
   "pygments_lexer": "ipython3",
   "version": "3.13.9"
  }
 },
 "nbformat": 4,
 "nbformat_minor": 5
}
