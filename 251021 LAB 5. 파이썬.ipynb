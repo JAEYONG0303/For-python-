{
 "cells": [
  {
   "cell_type": "markdown",
   "id": "b3d9ed6c",
   "metadata": {},
   "source": [
    "## # 딕셔너리\n",
    "### 기본형식"
   ]
  },
  {
   "cell_type": "code",
   "execution_count": 1,
   "id": "a96f365c",
   "metadata": {},
   "outputs": [
    {
     "name": "stdout",
     "output_type": "stream",
     "text": [
      "{'name': '철수', 'phone': '010-1234-5678', 'birth': '0115'}\n"
     ]
    }
   ],
   "source": [
    "# 정의하기\n",
    "mydic = {\"name\": \"철수\", \"phone\": \"010-1234-5678\", \"birth\": \"0115\"}\n",
    "print(mydic)"
   ]
  },
  {
   "cell_type": "code",
   "execution_count": 3,
   "id": "a3b2fb89",
   "metadata": {},
   "outputs": [
    {
     "name": "stdout",
     "output_type": "stream",
     "text": [
      "철수\n"
     ]
    }
   ],
   "source": [
    "mydic = {\"name\": \"철수\", \"phone\": \"010-1234-5678\", \"birth\": \"0115\"}\n",
    "print(mydic[\"name\"])"
   ]
  },
  {
   "cell_type": "code",
   "execution_count": 4,
   "id": "7b6f4401",
   "metadata": {},
   "outputs": [
    {
     "name": "stdout",
     "output_type": "stream",
     "text": [
      "010-1234-5678\n"
     ]
    }
   ],
   "source": [
    "mydic = {\"name\": \"철수\", \"phone\": \"010-1234-5678\", \"birth\": \"0115\"}\n",
    "phone = mydic[\"phone\"]\n",
    "print(phone)"
   ]
  },
  {
   "cell_type": "code",
   "execution_count": 5,
   "id": "356f7dd5",
   "metadata": {},
   "outputs": [
    {
     "name": "stdout",
     "output_type": "stream",
     "text": [
      "{'name': '호영', 'phone': '010-1234-5678', 'birth': '0115'}\n"
     ]
    }
   ],
   "source": [
    "mydic = {\"name\": \"철수\", \"phone\": \"010-1234-5678\", \"birth\": \"0115\"}\n",
    "mydic[\"name\"] = \"호영\"\n",
    "print(mydic)"
   ]
  },
  {
   "cell_type": "markdown",
   "id": "a335a432",
   "metadata": {},
   "source": [
    "### 딕셔너리 확장\n"
   ]
  },
  {
   "cell_type": "code",
   "execution_count": 7,
   "id": "ea7fbb01",
   "metadata": {},
   "outputs": [
    {
     "name": "stdout",
     "output_type": "stream",
     "text": [
      "{'a': 100, 'b': 200, 'c': 300}\n"
     ]
    }
   ],
   "source": [
    "# 존재하지 않는 키에 값을 할당하면 확장\n",
    "foo = {\"a\": 100, \"b\": 200}\n",
    "foo[\"c\"] = 300\n",
    "print(foo)"
   ]
  },
  {
   "cell_type": "code",
   "execution_count": 1,
   "id": "683edf3f",
   "metadata": {},
   "outputs": [
    {
     "name": "stdout",
     "output_type": "stream",
     "text": [
      "python\n"
     ]
    },
    {
     "data": {
      "text/plain": [
       "{'msg': 'python'}"
      ]
     },
     "execution_count": 1,
     "metadata": {},
     "output_type": "execute_result"
    }
   ],
   "source": [
    "# key 중복 제한\n",
    "# 키가 중복될 경우 하나를 제외한 나머지는 무시\n",
    "# 일반적으로 나중에 정의된 항목이 이전에 정의된 항목을 덮어 씀\n",
    "data = {\"msg\": \"hello\", \"msg\": \"world\", \"msg\": \"python\"}\n",
    "print(data['msg'])\n",
    "data"
   ]
  },
  {
   "cell_type": "markdown",
   "id": "d9485d8c",
   "metadata": {},
   "source": [
    "### 딕셔너리를 원소로 갖는 리스트(1)\n"
   ]
  },
  {
   "cell_type": "code",
   "execution_count": 6,
   "id": "54ae62a7",
   "metadata": {},
   "outputs": [
    {
     "name": "stdout",
     "output_type": "stream",
     "text": [
      "0번째 원소: {'name': '철수', 'kor': 95, 'eng': 88}\n",
      "1번째 원소: {'name': '영희', 'kor': 92, 'eng': 90}\n",
      "2번째 원소: {'name': '철민', 'kor': 88, 'eng': 76}\n"
     ]
    }
   ],
   "source": [
    "# 리스트의 원소가 딕셔너리 형태인 경우\n",
    "\n",
    "grade = [\n",
    "    {\"name\": \"철수\", \"kor\": 95, \"eng\": 88},\n",
    "    {\"name\": \"영희\", \"kor\": 92, \"eng\": 90},\n",
    "    {\"name\": \"철민\", \"kor\": 88, \"eng\": 76}\n",
    "]\n",
    "\n",
    "print(\"0번째 원소: %s\" % grade[0])\n",
    "print(\"1번째 원소: %s\" % grade[1])\n",
    "print(\"2번째 원소: %s\" % grade[2])"
   ]
  },
  {
   "cell_type": "code",
   "execution_count": 7,
   "id": "08041797",
   "metadata": {},
   "outputs": [
    {
     "name": "stdout",
     "output_type": "stream",
     "text": [
      "철수의 국어점수: 95, 영어점수: 88\n",
      "영희의 국어점수: 92, 영어점수: 90\n",
      "철민의 국어점수: 88, 영어점수: 76\n"
     ]
    }
   ],
   "source": [
    "tpl = \"{0}의 국어점수: {1}, 영어점수: {2}\"\n",
    "print( tpl.format(grade[0][\"name\"], grade[0][\"kor\"], grade[0][\"eng\"]))\n",
    "print( tpl.format(grade[1][\"name\"], grade[1][\"kor\"], grade[1][\"eng\"]))\n",
    "print( tpl.format(grade[2][\"name\"], grade[2][\"kor\"], grade[2][\"eng\"]))"
   ]
  },
  {
   "cell_type": "markdown",
   "id": "60983b9d",
   "metadata": {},
   "source": [
    "### 딕셔너리를 원소로 갖는 딕셔너리"
   ]
  },
  {
   "cell_type": "code",
   "execution_count": 9,
   "id": "ad8dd86f",
   "metadata": {},
   "outputs": [
    {
     "name": "stdout",
     "output_type": "stream",
     "text": [
      "iphone의 가격은 200$ 입니다\n",
      "galluxy의 가격은 200만원 입니다\n"
     ]
    }
   ],
   "source": [
    "# 정보를 트리구조 형태로 계층화 할 수 있다.\n",
    "\n",
    "phone = {\n",
    "    \"apple\": {\n",
    "        \"name\": \"iphone\",\n",
    "        \"price\": \"200$\"\n",
    "    },\n",
    "    \"samsung\": {\n",
    "        \"name\": \"galluxy\",\n",
    "        \"price\": \"200만원\"\n",
    "    }\n",
    "}\n",
    "\n",
    "tpl = \"%s의 가격은 %s 입니다\"\n",
    "print(tpl % (phone['apple']['name'], phone['apple']['price']))\n",
    "print(tpl % (phone['samsung']['name'], phone['samsung']['price']))"
   ]
  },
  {
   "cell_type": "code",
   "execution_count": 11,
   "id": "71d39b78",
   "metadata": {},
   "outputs": [
    {
     "name": "stdout",
     "output_type": "stream",
     "text": [
      "email: user1@python.com, comment: good~!@\n",
      "email: user2@python.com, comment: fuck~!@\n",
      "email: user3@python.com, comment: soso~!@\n"
     ]
    }
   ],
   "source": [
    "# 딕셔너리를 원소로 갖는 리스트\n",
    "\n",
    "review = {\n",
    "    \"items\": [\n",
    "        {\"email\": \"user1@python.com\", \"comment\": \"good~!@\"},\n",
    "        {\"email\": \"user2@python.com\", \"comment\": \"fuck~!@\"},\n",
    "        {\"email\": \"user3@python.com\", \"comment\": \"soso~!@\"},\n",
    "    ]\n",
    "}\n",
    "\n",
    "# itmes가 배열이므로 반복문 사용 가능\n",
    "\n",
    "tpl = \"email: {0}, comment: {1}\"\n",
    "for item in review[\"items\"]:\n",
    "    print(tpl.format(item[\"email\"], item[\"comment\"]))"
   ]
  },
  {
   "cell_type": "markdown",
   "id": "345ccb4e",
   "metadata": {},
   "source": [
    "### 딕셔너리의 활용\n"
   ]
  },
  {
   "cell_type": "code",
   "execution_count": 12,
   "id": "4abb784a",
   "metadata": {},
   "outputs": [
    {
     "data": {
      "text/plain": [
       "3"
      ]
     },
     "execution_count": 12,
     "metadata": {},
     "output_type": "execute_result"
    }
   ],
   "source": [
    "# 딕셔너리의 원소 수 카운트\n",
    "# len ()\n",
    "\n",
    "point = {\"korean\": 98, \"math\": 77, \"english\": 82}\n",
    "len(point)"
   ]
  },
  {
   "cell_type": "code",
   "execution_count": 13,
   "id": "a576ed94",
   "metadata": {},
   "outputs": [
    {
     "name": "stdout",
     "output_type": "stream",
     "text": [
      "{'korean': 98, 'math': 77, 'english': 82}\n",
      "{'korean': 98, 'math': 77}\n"
     ]
    }
   ],
   "source": [
    "# 딕셔너리의 특정 원소 삭제\n",
    "# del() \n",
    "\n",
    "point = {\"korean\": 98, \"math\": 77, \"english\": 82}\n",
    "print(point)\n",
    "\n",
    "# 특정 원소 삭제 -> 존재하지 않는 키를 삭제할 경우 에러 발생함\n",
    "del(point['english'])\n",
    "print(point)"
   ]
  },
  {
   "cell_type": "code",
   "execution_count": 14,
   "id": "393f6285",
   "metadata": {},
   "outputs": [
    {
     "name": "stdout",
     "output_type": "stream",
     "text": [
      "철수\n"
     ]
    }
   ],
   "source": [
    "# 딕셔너리의 값 조회\n",
    "# get() 메서드\n",
    "\n",
    "# 샘플 데이터\n",
    "dic = {\"name\": \"철수\", \"phone\": \"010-1234-5678\", \"birth\": \"0115\"}\n",
    "\n",
    "# 특정 key에 대응하는 값 얻기 -> dic[\"name\"]과 동일\n",
    "print(dic.get(\"name\"))"
   ]
  },
  {
   "cell_type": "code",
   "execution_count": 16,
   "id": "33c5d537",
   "metadata": {},
   "outputs": [
    {
     "name": "stdout",
     "output_type": "stream",
     "text": [
      "None\n"
     ]
    }
   ],
   "source": [
    "dic = {\"name\": \"철수\", \"phone\": \"010-1234-5678\", \"birth\": \"0115\"}\n",
    "print(dic.get(\"gender\"))"
   ]
  },
  {
   "cell_type": "markdown",
   "id": "67708431",
   "metadata": {},
   "source": [
    "### key 분리하기"
   ]
  },
  {
   "cell_type": "code",
   "execution_count": 20,
   "id": "8c6d04f1",
   "metadata": {},
   "outputs": [
    {
     "name": "stdout",
     "output_type": "stream",
     "text": [
      "dict_keys(['국어', '수학', '영어'])\n"
     ]
    }
   ],
   "source": [
    "성적표 = {\"국어\": 92, \"수학\": 88, \"영어\": 72}\n",
    "\n",
    "# key만 모아서 dict_keys라는 객체로 반환\n",
    "keys= 성적표.keys()\n",
    "print(keys)\n"
   ]
  },
  {
   "cell_type": "code",
   "execution_count": 22,
   "id": "96184ded",
   "metadata": {},
   "outputs": [
    {
     "name": "stdout",
     "output_type": "stream",
     "text": [
      "['국어', '수학', '영어']\n"
     ]
    }
   ],
   "source": [
    "# dict_keys를 list로 변환\n",
    "key_list = list(keys)\n",
    "print(key_list)"
   ]
  },
  {
   "cell_type": "code",
   "execution_count": 23,
   "id": "5310ea0b",
   "metadata": {},
   "outputs": [
    {
     "data": {
      "text/plain": [
       "['국어', '수학', '영어']"
      ]
     },
     "execution_count": 23,
     "metadata": {},
     "output_type": "execute_result"
    }
   ],
   "source": [
    " # 변환 과정(keys() --> list())을 일괄 처리\n",
    "keylist = list(성적표.keys())\n",
    "keylist"
   ]
  },
  {
   "cell_type": "markdown",
   "id": "c25af4b1",
   "metadata": {},
   "source": [
    "### value 분리하기"
   ]
  },
  {
   "cell_type": "code",
   "execution_count": 25,
   "id": "f407bd9f",
   "metadata": {},
   "outputs": [
    {
     "name": "stdout",
     "output_type": "stream",
     "text": [
      "dict_values([92, 88, 72])\n"
     ]
    }
   ],
   "source": [
    "성적표 = {\"국어\": 92, \"수학\": 88, \"영어\": 72}\n",
    "\n",
    "# value만 모아서 dict_values 객체로 반환\n",
    "values = 성적표.values()\n",
    "print(values)\n"
   ]
  },
  {
   "cell_type": "code",
   "execution_count": 27,
   "id": "067cf682",
   "metadata": {},
   "outputs": [
    {
     "name": "stdout",
     "output_type": "stream",
     "text": [
      "[92, 88, 72]\n"
     ]
    }
   ],
   "source": [
    "value_list = list(values)\n",
    "print(value_list)"
   ]
  },
  {
   "cell_type": "code",
   "execution_count": 29,
   "id": "59700615",
   "metadata": {},
   "outputs": [
    {
     "data": {
      "text/plain": [
       "[92, 88, 72]"
      ]
     },
     "execution_count": 29,
     "metadata": {},
     "output_type": "execute_result"
    }
   ],
   "source": [
    "valuelist = list(성적표.values())\n",
    "valuelist"
   ]
  },
  {
   "cell_type": "markdown",
   "id": "697af832",
   "metadata": {},
   "source": [
    " ### 딕셔너리의 확장과 복사"
   ]
  },
  {
   "cell_type": "code",
   "execution_count": 31,
   "id": "ea368c5f",
   "metadata": {},
   "outputs": [
    {
     "name": "stdout",
     "output_type": "stream",
     "text": [
      "{'국어': 92, '수학': 88, '영어': 72, '물리': 78, '화학': 82}\n"
     ]
    }
   ],
   "source": [
    "성적표1 = {\"국어\": 92, \"수학\": 88, \"영어\": 72}\n",
    "성적표2 = {\"물리\": 78, \"화학\": 82}\n",
    "\n",
    "# 성적표1에 성적표2를 결합\n",
    "성적표1.update(성적표2)\n",
    "print(성적표1)"
   ]
  },
  {
   "cell_type": "code",
   "execution_count": 32,
   "id": "8bc25843",
   "metadata": {},
   "outputs": [
    {
     "name": "stdout",
     "output_type": "stream",
     "text": [
      "{'국어': 92, '수학': 88, '영어': 72, '물리': 78, '화학': 82}\n"
     ]
    }
   ],
   "source": [
    "# 딕셔너리 객체의 복사\n",
    "# 딕셔너리끼리의 대입도 리스트의 경우와 마찬가지로 얕은 복사가 수행\n",
    "# 깊은 복사 위해 copy() 매서드가 필요\n",
    "성적표최종 = 성적표1.copy()\n",
    "print(성적표최종)"
   ]
  },
  {
   "cell_type": "code",
   "execution_count": 33,
   "id": "63a86ecb",
   "metadata": {},
   "outputs": [
    {
     "name": "stdout",
     "output_type": "stream",
     "text": [
      "파일 저장이 완료되었습니다.\n"
     ]
    }
   ],
   "source": [
    "with open(\"hellopython.txt\", \"w\", encoding='utf=8') as f:\n",
    "    for i in range(0,10):\n",
    "        f.write(\"%d >> \" %i)\n",
    "        f.write(\"life is too short,\")\n",
    "        f.write(\"you need python\\n\")\n",
    "\n",
    "    print(\"파일 저장이 완료되었습니다.\")"
   ]
  },
  {
   "cell_type": "code",
   "execution_count": 36,
   "id": "7e1b2bda",
   "metadata": {},
   "outputs": [],
   "source": [
    "f = open(\"helloworld.txt\", \"w\", encoding='utf-8')\n",
    "f.write(\"hellow python!!!\\n\")\n",
    "f.write(\"안녕하세요. 파이썬!!! \\n\")\n",
    "f.close()"
   ]
  },
  {
   "cell_type": "code",
   "execution_count": 37,
   "id": "6e2f8b7a",
   "metadata": {},
   "outputs": [
    {
     "name": "stdout",
     "output_type": "stream",
     "text": [
      "['hellow python!!!\\n', '안녕하세요. 파이썬!!! \\n']\n",
      "------------------------------\n",
      "읽어들인 데이터는 총 2줄 입니다.\n",
      "------------------------------\n",
      "hellow python!!!\n",
      "안녕하세요. 파이썬!!!\n"
     ]
    }
   ],
   "source": [
    "with open (\"helloworld.txt\", \"r\", encoding='utf-8') as f:\n",
    "    lines = f.readlines()\n",
    "    print(lines)\n",
    "    print(\"-\" * 30)\n",
    "\n",
    "    size = len(lines)\n",
    "    print(\"읽어들인 데이터는 총 %d줄 입니다.\" % size)\n",
    "    print(\"-\" * 30)\n",
    "\n",
    "    for item in lines:\n",
    "        print(item.strip())"
   ]
  },
  {
   "cell_type": "markdown",
   "id": "08fba5f7",
   "metadata": {},
   "source": [
    "### csv"
   ]
  },
  {
   "cell_type": "code",
   "execution_count": 40,
   "id": "1cc61692",
   "metadata": {},
   "outputs": [],
   "source": [
    "# 한 학급의 성적표 데이터 예시\n",
    "grade = [\n",
    "    {\"name\": \"철수\", \"kor\": 95, \"eng\": 88, \"math\": 72},\n",
    "    {\"name\": \"영희\", \"kor\": 92, \"eng\": 90, \"math\": 95},\n",
    "    {\"name\": \"철민\", \"kor\": 88, \"eng\": 76, \"math\": 64}\n",
    "]\n",
    "\n",
    "tp1 = \"{0}, {1}, {2}, {3}\\n\"\n",
    "\n",
    "with open(\"grade.csv\", \"w\", encoding='euc-kr') as f:\n",
    "    f.write(\"이름,국어,영어,수학\\n\")\n",
    "    \n",
    "    for item in grade:\n",
    "        tmp = tpl.format(item[\"name\"], item[\"kor\"], item[\"eng\"], item[\"math\"])\n",
    "        f.write( tmp )"
   ]
  },
  {
   "cell_type": "code",
   "execution_count": 44,
   "id": "776b7962",
   "metadata": {},
   "outputs": [
    {
     "name": "stdout",
     "output_type": "stream",
     "text": [
      "서울 일 평균 확진자 수: 5139.13명\n",
      "서울 일 평균 사망자 수: 3.40명\n",
      "전국 일 평균 확진자 수: 26141.33명\n",
      "전국 일 평균 사망자 수: 0.00명\n",
      "------------------------------\n",
      "작업이 완료되었습니다.\n"
     ]
    }
   ],
   "source": [
    "try:\n",
    "    with open(\"covid19.csv\", \"r\", encoding='euc-kr') as f:\n",
    "        #csv 파일의 각 행을 원소로 갖는 리스트 생성\n",
    "        csv_list = f.readlines()\n",
    "        #상위 5줄 확인\n",
    "        # for i in range(5):\n",
    "            # print(csv_list[i].strip())\n",
    "        # 전체 데디터 길이(제목행을 제외하기 위해 -1 처리)\n",
    "        size = len(csv_list) - 1\n",
    "\n",
    "        # 합계를 위한 변수 초기화\n",
    "        seoul_confirm_sum = 0\n",
    "        seoul_death_sum = 0\n",
    "        nation_confirm_sum = 0\n",
    "        nation_death_sum = 0\n",
    "\n",
    "        # csv 파일의 각 행을 순회하며 데이터 추출\n",
    "        for i, line in enumerate(csv_list):\n",
    "            # 첫 행은 제목이므로 건너뛴다.\n",
    "            if i == 0:\n",
    "                continue\n",
    "            \n",
    "            # 현재 행의 내용을 콤마를 기준으로 잘라서 리스트로 변환\n",
    "            k = line.strip().split(\",\")\n",
    "\n",
    "            # 서울의 확진자 수와 사망자 수 추출\n",
    "            if k[1].isnumeric():  seoul_confirm_sum += int(k[1])\n",
    "            if k[2].isnumeric():  seoul_death_sum += int(k[2])\n",
    "\n",
    "            # 전국의 확진자 수와 사망자 수 추출\n",
    "            if k[3].isnumeric():  nation_confirm_sum += int(k[3])\n",
    "            if k[4].isnumeric():  seoul_confirm_sum += int(k[4])\n",
    "\n",
    "        # 일 평균 출력\n",
    "        print(\"서울 일 평균 확진자 수: %.2f명\" % (seoul_confirm_sum / size))\n",
    "        print(\"서울 일 평균 사망자 수: %.2f명\" % (seoul_death_sum / size))\n",
    "        print(\"전국 일 평균 확진자 수: %.2f명\" % (nation_confirm_sum / size))\n",
    "        print(\"전국 일 평균 사망자 수: %.2f명\" % (nation_death_sum / size))\n",
    "except Exception as e:\n",
    "    print(\"CSV 파일 처리에 실패했습니다.\", e)\n",
    "finally:\n",
    "    print(\"-\" * 30)\n",
    "    print(\"작업이 완료되었습니다.\")"
   ]
  },
  {
   "cell_type": "code",
   "execution_count": null,
   "id": "527dbec4",
   "metadata": {},
   "outputs": [],
   "source": []
  }
 ],
 "metadata": {
  "kernelspec": {
   "display_name": "Python 3",
   "language": "python",
   "name": "python3"
  },
  "language_info": {
   "codemirror_mode": {
    "name": "ipython",
    "version": 3
   },
   "file_extension": ".py",
   "mimetype": "text/x-python",
   "name": "python",
   "nbconvert_exporter": "python",
   "pygments_lexer": "ipython3",
   "version": "3.13.9"
  }
 },
 "nbformat": 4,
 "nbformat_minor": 5
}
