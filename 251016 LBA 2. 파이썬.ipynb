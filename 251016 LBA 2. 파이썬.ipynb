{
 "cells": [
  {
   "cell_type": "markdown",
   "id": "487afc2c",
   "metadata": {},
   "source": [
    "## # 파이썬 함수"
   ]
  },
  {
   "cell_type": "code",
   "execution_count": 1,
   "id": "0c6862eb",
   "metadata": {},
   "outputs": [
    {
     "name": "stdout",
     "output_type": "stream",
     "text": [
      "<class 'int'>\n"
     ]
    }
   ],
   "source": [
    "# 정수형 변수의 데이터 타입 확인\n",
    "\n",
    "age = 20\n",
    "typeOfAge = type(age)\n",
    "print(typeOfAge)"
   ]
  },
  {
   "cell_type": "code",
   "execution_count": 2,
   "id": "6d88cc98",
   "metadata": {},
   "outputs": [
    {
     "name": "stdout",
     "output_type": "stream",
     "text": [
      "<class 'str'>\n"
     ]
    }
   ],
   "source": [
    "# 문자열 변수의 데이터 타입 확인\n",
    "\n",
    "message = \"Hello Python\"\n",
    "typeOfMessage = type(message)\n",
    "print(typeOfMessage)"
   ]
  },
  {
   "cell_type": "code",
   "execution_count": 3,
   "id": "8f16db84",
   "metadata": {},
   "outputs": [
    {
     "name": "stdout",
     "output_type": "stream",
     "text": [
      "<class 'float'>\n"
     ]
    }
   ],
   "source": [
    "# 실수형 변수의 데이터 타입 확인\n",
    "pi = 3.14\n",
    "typeOfPi = type(pi)\n",
    "print(typeOfPi)"
   ]
  },
  {
   "cell_type": "code",
   "execution_count": 4,
   "id": "fba04f14",
   "metadata": {},
   "outputs": [
    {
     "name": "stdout",
     "output_type": "stream",
     "text": [
      "<class 'bool'>\n"
     ]
    }
   ],
   "source": [
    "# 논리형 변수의 데이터 타입 확인\n",
    "ok = True\n",
    "typeOfOk = type(ok)\n",
    "print(typeOfOk)"
   ]
  },
  {
   "cell_type": "markdown",
   "id": "82564e08",
   "metadata": {},
   "source": [
    "## # 02 문자열 입력 받기\n",
    "### input 함수 "
   ]
  },
  {
   "cell_type": "code",
   "execution_count": null,
   "id": "5d8897aa",
   "metadata": {},
   "outputs": [
    {
     "name": "stdout",
     "output_type": "stream",
     "text": [
      "\n",
      "<class 'str'>\n"
     ]
    }
   ],
   "source": [
    "# 문자열 입력받기\n",
    "msg1 = input(\"안녕하세요.파이썬\")\n",
    "print(msg1)\n",
    "\n",
    "# 입력 받은 내용의 데이터 타입 확인 --> 문자열(str)\n",
    "t = type(msg1)\n",
    "print(t)\n"
   ]
  },
  {
   "cell_type": "code",
   "execution_count": 5,
   "id": "f8601158",
   "metadata": {},
   "outputs": [
    {
     "name": "stdout",
     "output_type": "stream",
     "text": [
      "12345\n",
      "168\n"
     ]
    }
   ],
   "source": [
    "# 문자열 데이터 정수 변환\n",
    "\n",
    "s1 = \"123\"\n",
    "s2 = '45'\n",
    "print(s1 + s2)\n",
    "\n",
    "n1 = int(s1)\n",
    "n2 = int(s2)\n",
    "print(n1 +n2)\n"
   ]
  },
  {
   "cell_type": "code",
   "execution_count": 13,
   "id": "3dfb75d0",
   "metadata": {},
   "outputs": [
    {
     "name": "stdout",
     "output_type": "stream",
     "text": [
      "191.34\n"
     ]
    }
   ],
   "source": [
    "# 문자열 데이터 실수 변환\n",
    "\n",
    "s1 = \"123.45\"\n",
    "s2 = \"67.89\"\n",
    "\n",
    "n1 = float(s1)\n",
    "n2 = float(s2)\n",
    "print(n1 + n2)"
   ]
  },
  {
   "cell_type": "markdown",
   "id": "62499ba1",
   "metadata": {},
   "source": [
    "### 문자열의 정수, 실수 변환"
   ]
  },
  {
   "cell_type": "code",
   "execution_count": 1,
   "id": "045bb708",
   "metadata": {},
   "outputs": [
    {
     "name": "stdout",
     "output_type": "stream",
     "text": [
      "100005000\n"
     ]
    }
   ],
   "source": [
    "a = input('10000')\n",
    "b = input('5000')\n",
    "print(a + b)"
   ]
  },
  {
   "cell_type": "code",
   "execution_count": 9,
   "id": "bddc9a20",
   "metadata": {},
   "outputs": [
    {
     "name": "stdout",
     "output_type": "stream",
     "text": [
      "100.0\n"
     ]
    }
   ],
   "source": [
    "num1 = 100\n",
    "num2 = float(num1)\n",
    "print(num2)"
   ]
  },
  {
   "cell_type": "markdown",
   "id": "54d328ef",
   "metadata": {},
   "source": [
    "## # 2. 함수 정의하기\n",
    "### 파이썬 함수 정의와 호출"
   ]
  },
  {
   "cell_type": "code",
   "execution_count": 8,
   "id": "885bc6ed",
   "metadata": {},
   "outputs": [
    {
     "name": "stdout",
     "output_type": "stream",
     "text": [
      "3\n"
     ]
    }
   ],
   "source": [
    "# 다중 파라미터\n",
    "def hello(x,y):\n",
    "    z = x + y\n",
    "    print(z)\n",
    "# 함수 호출\n",
    "hello(2, 1)    "
   ]
  },
  {
   "cell_type": "code",
   "execution_count": 18,
   "id": "18807b0e",
   "metadata": {},
   "outputs": [
    {
     "name": "stdout",
     "output_type": "stream",
     "text": [
      "2\n"
     ]
    }
   ],
   "source": [
    "# 기본값을 갖는 파라미터\n",
    "def sum1(x, y, z=0):\n",
    "    answer = x + y + z\n",
    "    print(answer)\n",
    "# 모든 파라미터값을 전달하며 함수 호출\n",
    "sum1(1,2, -1) "
   ]
  },
  {
   "cell_type": "markdown",
   "id": "df47a596",
   "metadata": {},
   "source": [
    "### 파라미터 이름 지정하기    "
   ]
  },
  {
   "cell_type": "code",
   "execution_count": 24,
   "id": "4b24dc90",
   "metadata": {},
   "outputs": [
    {
     "name": "stdout",
     "output_type": "stream",
     "text": [
      "7\n"
     ]
    }
   ],
   "source": [
    "# 파라미터의 이름을 지정한 함수 호출 -> 파라미터 전달 순서를 무시할 수 있다.\n",
    "def sum2(a, b, c=0, d=0):\n",
    "    answer = a + b + c + d\n",
    "    print(answer)\n",
    "\n",
    "sum2(d=3, c=1, a=2, b=1)"
   ]
  },
  {
   "cell_type": "code",
   "execution_count": 26,
   "id": "5aefc024",
   "metadata": {},
   "outputs": [
    {
     "name": "stdout",
     "output_type": "stream",
     "text": [
      "30\n"
     ]
    }
   ],
   "source": [
    "# 값을 리턴하는 함수\n",
    "def plus(x,y):\n",
    "    z = x + y\n",
    "    return z\n",
    "a = plus(10, 20)\n",
    "print(a)"
   ]
  },
  {
   "cell_type": "code",
   "execution_count": null,
   "id": "6ef29b8d",
   "metadata": {},
   "outputs": [
    {
     "ename": "IndentationError",
     "evalue": "unexpected indent (3821394859.py, line 4)",
     "output_type": "error",
     "traceback": [
      "  \u001b[36mCell\u001b[39m\u001b[36m \u001b[39m\u001b[32mIn[30]\u001b[39m\u001b[32m, line 4\u001b[39m\n\u001b[31m    \u001b[39m\u001b[31mprint(\"b는~\")\u001b[39m\n    ^\n\u001b[31mIndentationError\u001b[39m\u001b[31m:\u001b[39m unexpected indent\n"
     ]
    }
   ],
   "source": [
    "a =100\n",
    "if a >= 100:\n",
    "    print(\"a는~~\")\n",
    "    print(\"b는~\")  "
   ]
  },
  {
   "cell_type": "code",
   "execution_count": 32,
   "id": "d50e68f4",
   "metadata": {},
   "outputs": [
    {
     "name": "stdout",
     "output_type": "stream",
     "text": [
      "시험시작\n",
      "시험끝\n"
     ]
    }
   ],
   "source": [
    "print(\"시험시작\")\n",
    "\n",
    "score = int(input(\"점수입력\"))\n",
    "\n",
    "if score >= 60:\n",
    "    print(\"합격\")\n",
    "    \n",
    "print(\"시험끝\")"
   ]
  },
  {
   "cell_type": "code",
   "execution_count": null,
   "id": "ff9d73fc",
   "metadata": {},
   "outputs": [
    {
     "name": "stdout",
     "output_type": "stream",
     "text": [
      "지하철로\n",
      "택시를 왜타\n"
     ]
    }
   ],
   "source": [
    "`money =100000\n",
    "\n",
    "if money:\n",
    "    print('지하철로')\n",
    "\n",
    "print(\"택시를 왜타\")"
   ]
  },
  {
   "cell_type": "code",
   "execution_count": 39,
   "id": "aab7be33",
   "metadata": {},
   "outputs": [
    {
     "name": "stdout",
     "output_type": "stream",
     "text": [
      "20살 아님\n",
      "성인\n"
     ]
    }
   ],
   "source": [
    "# 비교식을 사용한 IF 문\n",
    "\n",
    "MYAGE = int(input('나이는?'))\n",
    "\n",
    "if MYAGE == 19:\n",
    "    print(\"19살\")\n",
    "\n",
    "if MYAGE != 20:\n",
    "    print(\"20살 아님\")\n",
    "\n",
    "if MYAGE > 19:\n",
    "    print(\"성인\")\n",
    "\n",
    "if MYAGE <= 19:\n",
    "    print(\"촉법\")"
   ]
  },
  {
   "cell_type": "code",
   "execution_count": 43,
   "id": "62c6b92f",
   "metadata": {},
   "outputs": [
    {
     "ename": "ValueError",
     "evalue": "invalid literal for int() with base 10: ''",
     "output_type": "error",
     "traceback": [
      "\u001b[31m---------------------------------------------------------------------------\u001b[39m",
      "\u001b[31mValueError\u001b[39m                                Traceback (most recent call last)",
      "\u001b[36mCell\u001b[39m\u001b[36m \u001b[39m\u001b[32mIn[43]\u001b[39m\u001b[32m, line 3\u001b[39m\n\u001b[32m      1\u001b[39m \u001b[38;5;66;03m# 논리식을 이용한 if문\u001b[39;00m\n\u001b[32m----> \u001b[39m\u001b[32m3\u001b[39m point = \u001b[38;5;28;43mint\u001b[39;49m\u001b[43m(\u001b[49m\u001b[38;5;28;43minput\u001b[39;49m\u001b[43m(\u001b[49m\u001b[33;43m\"\u001b[39;49m\u001b[33;43m점수 입력\u001b[39;49m\u001b[33;43m\"\u001b[39;49m\u001b[43m)\u001b[49m\u001b[43m)\u001b[49m\n\u001b[32m      5\u001b[39m \u001b[38;5;28;01mif\u001b[39;00m point > \u001b[32m70\u001b[39m \u001b[38;5;129;01mand\u001b[39;00m point <= \u001b[32m80\u001b[39m:\n\u001b[32m      6\u001b[39m     \u001b[38;5;28mprint\u001b[39m(\u001b[33m\"\u001b[39m\u001b[33mc\u001b[39m\u001b[33m\"\u001b[39m)\n",
      "\u001b[31mValueError\u001b[39m: invalid literal for int() with base 10: ''"
     ]
    }
   ],
   "source": [
    "# 논리식을 이용한 if문\n",
    "\n",
    "point = int(input(\"점수 입력\"))\n",
    "\n",
    "if point > 70 and point <= 80:\n",
    "    print(\"c\")\n",
    "\n",
    "if point <= 70 or point <= 80:\n",
    "    print(\"c아님\")\n"
   ]
  },
  {
   "cell_type": "code",
   "execution_count": 44,
   "id": "8316aaf9",
   "metadata": {},
   "outputs": [
    {
     "name": "stdout",
     "output_type": "stream",
     "text": [
      "시험시작\n",
      "불합격\n",
      "시험종료\n"
     ]
    }
   ],
   "source": [
    "# else문\n",
    "\n",
    "print(\"시험시작\")\n",
    "\n",
    "score = int(input(\"점수를 입력하세요\"))\n",
    "\n",
    "if score >= 60:\n",
    "    print(\"합격\")\n",
    "else:\n",
    "    print(\"불합격\")\n",
    "\n",
    "print(\"시험종료\")"
   ]
  },
  {
   "cell_type": "code",
   "execution_count": 50,
   "id": "71e70b6c",
   "metadata": {},
   "outputs": [
    {
     "name": "stdout",
     "output_type": "stream",
     "text": [
      "외국사람\n",
      "외국사람\n"
     ]
    }
   ],
   "source": [
    "# boolean형 값에 대한 else문 처리\n",
    "\n",
    "answer = input(\"한국인? (Y/N)\")\n",
    "\n",
    "if answer == 'Y':\n",
    "    iskorean = True\n",
    "else:\n",
    "    iskorean = False\n",
    "\n",
    "if iskorean:\n",
    "    print(\"한국사람\")\n",
    "else:\n",
    "    print(\"외국사람\")\n",
    "\n",
    "#논리값의 부정형을 조건으로 사용할 경우...\n",
    "if not iskorean:\n",
    "    print(\"외국사람\")\n",
    "else:\n",
    "    print(\"한국사람\")"
   ]
  },
  {
   "cell_type": "markdown",
   "id": "4c471f3f",
   "metadata": {},
   "source": [
    "### elif문\n"
   ]
  },
  {
   "cell_type": "code",
   "execution_count": 51,
   "id": "1347db9f",
   "metadata": {},
   "outputs": [
    {
     "name": "stdout",
     "output_type": "stream",
     "text": [
      "시작\n",
      "B\n",
      "셤 끝\n"
     ]
    }
   ],
   "source": [
    "# elif를 활용한 다양한 경우의 수 나열\n",
    "\n",
    "print('시작')\n",
    "\n",
    "point = int(input('점수'))\n",
    "\n",
    "if point > 90:\n",
    "    print(\"A\")\n",
    "elif point > 80:\n",
    "    print('B')\n",
    "elif point > 70:\n",
    "    print('C')\n",
    "elif point > 60:\n",
    "    print('D')\n",
    "\n",
    "print('셤 끝')"
   ]
  },
  {
   "cell_type": "code",
   "execution_count": null,
   "id": "aef0fb30",
   "metadata": {},
   "outputs": [],
   "source": []
  }
 ],
 "metadata": {
  "kernelspec": {
   "display_name": "Python 3",
   "language": "python",
   "name": "python3"
  },
  "language_info": {
   "codemirror_mode": {
    "name": "ipython",
    "version": 3
   },
   "file_extension": ".py",
   "mimetype": "text/x-python",
   "name": "python",
   "nbconvert_exporter": "python",
   "pygments_lexer": "ipython3",
   "version": "3.13.9"
  }
 },
 "nbformat": 4,
 "nbformat_minor": 5
}
